{
 "cells": [
  {
   "cell_type": "markdown",
   "id": "7e538ce4",
   "metadata": {},
   "source": [
    "# American and Bermudan Option pricer"
   ]
  },
  {
   "cell_type": "code",
   "execution_count": 1,
   "id": "58183e58",
   "metadata": {},
   "outputs": [],
   "source": [
    "# Packages used\n",
    "import numpy as np\n",
    "import matplotlib.pyplot as plt\n",
    "from scipy import odr\n",
    "from helper import *\n",
    "import keras\n",
    "from scipy.stats import norm\n",
    "import pandas as pd\n",
    "import seaborn as sns\n",
    "from tqdm import tqdm"
   ]
  },
  {
   "cell_type": "code",
   "execution_count": 2,
   "id": "b6dc98f4-6f39-44bd-9bb5-da4c4f857b1b",
   "metadata": {},
   "outputs": [],
   "source": [
    "def GBM_exact(T, S, sigma, r, M):\n",
    "    S_all = []\n",
    "    S_all.append(S)\n",
    "    dt = T/M\n",
    "    Zm = np.random.normal(size=M)\n",
    "    for i in range(M-1):\n",
    "        S_all.append(S_all[i] * np.exp((r-0.5*sigma**2) * dt + sigma * np.sqrt(dt) * Zm[i])) \n",
    "    return S_all"
   ]
  },
  {
   "cell_type": "markdown",
   "id": "aba344ff",
   "metadata": {
    "tags": []
   },
   "source": [
    "## Simulations Run with Data from paper\n",
    "\n",
    "American option should be priced at .1144"
   ]
  },
  {
   "cell_type": "code",
   "execution_count": 3,
   "id": "3371e58d",
   "metadata": {},
   "outputs": [],
   "source": [
    "# Parameters\n",
    "K=1.1; M=4; r=.06; realizations=8; T=M\n",
    "\n",
    "# Matrix\n",
    "path_matrix = np.array([\n",
    "[1.00, 1.09, 1.08, 1.34],\n",
    "[1.00, 1.16, 1.26, 1.54],\n",
    "[1.00, 1.22, 1.07, 1.03],\n",
    "[1.00, 0.93, 0.97, 0.92],\n",
    "[1.00, 1.11, 1.56, 1.52],\n",
    "[1.00, .76, 0.77, 0.90],\n",
    "[1.00, 0.92, 0.84, 1.01],\n",
    "[1.00, 0.88, 1.22, 1.34]])"
   ]
  },
  {
   "cell_type": "code",
   "execution_count": 4,
   "id": "518fe3c0",
   "metadata": {},
   "outputs": [
    {
     "name": "stdout",
     "output_type": "stream",
     "text": [
      "Price of American Option is: 0.11443433004505696\n"
     ]
    }
   ],
   "source": [
    "# Generate cash flows under Longstaff-Schwarz\n",
    "[cash_flows, somehting_else]= value_option_schwarz(T,M,K,path_matrix, r, realizations, option=\"put\")\n",
    "\n",
    "# Discount cash flows\n",
    "for time in range(cash_flows.shape[1]):\n",
    "    cash_flows[:,time]*=np.exp(-r*time)\n",
    "print(f'Price of American Option is: {np.sum(cash_flows[0:])/realizations}')"
   ]
  },
  {
   "cell_type": "code",
   "execution_count": 5,
   "id": "25774ac4",
   "metadata": {},
   "outputs": [
    {
     "name": "stdout",
     "output_type": "stream",
     "text": [
      "Price of American Option is: 0.11443433004505696\n"
     ]
    }
   ],
   "source": [
    "cash_flows_test = value_option_schwarz_test(M,K,path_matrix, r, realizations, option=\"put\")\n",
    "\n",
    "# Discount cash flows\n",
    "for time in range(cash_flows.shape[1]):\n",
    "    cash_flows_test[:,time]*=np.exp(-r*time)\n",
    "print(f'Price of American Option is: {np.sum(cash_flows_test[0:])/realizations}')    "
   ]
  },
  {
   "cell_type": "code",
   "execution_count": 6,
   "id": "db2ce593",
   "metadata": {},
   "outputs": [
    {
     "name": "stdout",
     "output_type": "stream",
     "text": [
      "Price of Bermudan Option is: 0.11561153571203728\n"
     ]
    }
   ],
   "source": [
    "# Unit test Bermudian pricer by giving it same amount of exericse options as American\n",
    "exercise_dates = [1,2,3,4]\n",
    "cash_flow_bermudan = value_option_bermudan(M, K, path_matrix, r, realizations, exercise_dates, option=\"put\")\n",
    "\n",
    "for time in range(cash_flow_bermudan.shape[1]):\n",
    "    cash_flow_bermudan[:,time] *= np.exp(-r*time)\n",
    "print(f'Price of Bermudan Option is: {np.sum(cash_flow_bermudan[0:])/realizations}')    "
   ]
  },
  {
   "cell_type": "code",
   "execution_count": 7,
   "id": "3d7b91bf",
   "metadata": {},
   "outputs": [
    {
     "name": "stdout",
     "output_type": "stream",
     "text": [
      "Price of Bermudan Option is: 0.056380739270260896\n"
     ]
    }
   ],
   "source": [
    "# Fewer exercise points should lead to lower option price\n",
    "exercise_dates = [2,3,4]\n",
    "cash_flow_bermudan = value_option_bermudan(M, K, path_matrix, r, realizations, exercise_dates, option=\"put\")\n",
    "\n",
    "for time in range(cash_flow_bermudan.shape[1]):\n",
    "    cash_flow_bermudan[:,time] *= np.exp(-r*time)\n",
    "print(f'Price of Bermudan Option is: {np.sum(cash_flow_bermudan[0:])/realizations}')    "
   ]
  },
  {
   "cell_type": "code",
   "execution_count": 8,
   "id": "1cbc3512-ef59-4864-8cfe-b739e9e66a01",
   "metadata": {},
   "outputs": [
    {
     "name": "stdout",
     "output_type": "stream",
     "text": [
      "Price of Bermudan Option is: 0.11561153571203728\n"
     ]
    }
   ],
   "source": [
    "# Unit test Bermudian pricer by giving it same amount of exericse options as American\n",
    "exercise_dates = [1,2,3,4]\n",
    "cash_flow_bermudan = value_option_bermudan(M, K, path_matrix, r, realizations, exercise_dates, option=\"put\")\n",
    "\n",
    "for time in range(cash_flow_bermudan.shape[1]):\n",
    "    cash_flow_bermudan[:,time] *= np.exp(-r*time)\n",
    "print(f'Price of Bermudan Option is: {np.sum(cash_flow_bermudan[0:])/realizations}')  "
   ]
  },
  {
   "cell_type": "markdown",
   "id": "fa7f14bb",
   "metadata": {},
   "source": [
    "## Simulation based on GBM"
   ]
  },
  {
   "cell_type": "code",
   "execution_count": 9,
   "id": "c7beb285",
   "metadata": {},
   "outputs": [],
   "source": [
    "# Variables used\n",
    "T = M = N = 4\n",
    "K = 1.1\n",
    "S = 1\n",
    "sigma = 0.2\n",
    "r = 0.06\n",
    "realizations = 2000\n"
   ]
  },
  {
   "cell_type": "code",
   "execution_count": 10,
   "id": "546daef9-4ff6-4e20-8cdf-0a99595ad4e2",
   "metadata": {},
   "outputs": [],
   "source": [
    "repititions = 30\n",
    "europeans = np.zeros(repititions)\n",
    "americans = np.zeros(repititions)\n",
    "dt = T/M\n",
    "\n",
    "\n",
    "for i in range(repititions):\n",
    "    s_all = np.array([np.array(GBM_exact(T, S, sigma, r, M)) for x in range(realizations)])\n",
    "    europeans[i] = np.sum(np.maximum(0,K-s_all[:,-1]))/realizations * np.exp(-r * T)\n",
    "    [option_cash_flow, cash_flows] = value_option_schwarz(T,M,K,s_all, r, realizations,order=2,option=\"put\")\n",
    "    \n",
    "    for time in range(option_cash_flow.shape[1]):\n",
    "        option_cash_flow[:,time]*=np.exp(-r*(time*dt))\n",
    "    americans[i] =  np.sum(option_cash_flow)/realizations"
   ]
  },
  {
   "cell_type": "code",
   "execution_count": 11,
   "id": "dc2998f1-f4b7-4e15-96ee-99be7b90c615",
   "metadata": {},
   "outputs": [
    {
     "data": {
      "text/plain": [
       "<AxesSubplot:>"
      ]
     },
     "execution_count": 11,
     "metadata": {},
     "output_type": "execute_result"
    },
    {
     "data": {
      "image/png": "[encoded data removed]",
      "text/plain": [
       "<Figure size 432x288 with 2 Axes>"
      ]
     },
     "metadata": {
      "needs_background": "light"
     },
     "output_type": "display_data"
    }
   ],
   "source": [
    "sns.heatmap(cash_flows)"
   ]
  },
  {
   "cell_type": "code",
   "execution_count": 12,
   "id": "e041602a-b5ee-478b-9882-668707650a1e",
   "metadata": {},
   "outputs": [
    {
     "data": {
      "text/plain": [
       "0.0899083987054129"
      ]
     },
     "execution_count": 12,
     "metadata": {},
     "output_type": "execute_result"
    }
   ],
   "source": [
    "BSM_put(1, K, r, sigma, T)"
   ]
  },
  {
   "cell_type": "code",
   "execution_count": 13,
   "id": "3fc470b9-f9b5-45d8-8cc9-33008091034f",
   "metadata": {},
   "outputs": [
    {
     "data": {
      "text/plain": [
       "0.09067992733968468"
      ]
     },
     "execution_count": 13,
     "metadata": {},
     "output_type": "execute_result"
    }
   ],
   "source": [
    "np.mean(europeans)"
   ]
  },
  {
   "cell_type": "code",
   "execution_count": 14,
   "id": "263d9514-3946-45d4-8183-ffa24cbccf15",
   "metadata": {},
   "outputs": [
    {
     "data": {
      "text/plain": [
       "0.00045281272695975875"
      ]
     },
     "execution_count": 14,
     "metadata": {},
     "output_type": "execute_result"
    }
   ],
   "source": [
    "np.std(americans)/np.sqrt(repititions)"
   ]
  },
  {
   "cell_type": "code",
   "execution_count": 15,
   "id": "db63ca63-b909-4a9e-9e45-5ee5d0442ea8",
   "metadata": {},
   "outputs": [
    {
     "data": {
      "text/plain": [
       "0.19166117386336362"
      ]
     },
     "execution_count": 15,
     "metadata": {},
     "output_type": "execute_result"
    }
   ],
   "source": [
    "payoffs = np.maximum(K-s_all[:,:],0)\n",
    "dt = T/M\n",
    "\n",
    "for time in range(payoffs.shape[1]):\n",
    "    payoffs[:,time]*=np.exp(-r*(dt*time))\n",
    "    \n",
    "max_payoffs = []\n",
    "for path in range(payoffs.shape[0]):\n",
    "    max_payoffs.append(max(payoffs[path]))\n",
    "    \n",
    "np.mean(max_payoffs)"
   ]
  },
  {
   "cell_type": "code",
   "execution_count": 16,
   "id": "cd195f13-ba7b-4fe3-84f6-bba0ad186f30",
   "metadata": {},
   "outputs": [
    {
     "data": {
      "text/plain": [
       "0.12093363703472379"
      ]
     },
     "execution_count": 16,
     "metadata": {},
     "output_type": "execute_result"
    }
   ],
   "source": [
    "np.mean(americans)"
   ]
  },
  {
   "cell_type": "code",
   "execution_count": 17,
   "id": "cb8c3e5b-593f-4c49-ba6d-da3be7a82fec",
   "metadata": {},
   "outputs": [
    {
     "data": {
      "text/plain": [
       "0.0024801574488128755"
      ]
     },
     "execution_count": 17,
     "metadata": {},
     "output_type": "execute_result"
    }
   ],
   "source": [
    "np.std(americans)"
   ]
  },
  {
   "cell_type": "markdown",
   "id": "20422073-b690-4c48-a3f1-0327491c5ac4",
   "metadata": {},
   "source": [
    "### Neural Net"
   ]
  },
  {
   "cell_type": "code",
   "execution_count": 18,
   "id": "c47837b0-f685-429c-9d33-47ff0cc81258",
   "metadata": {},
   "outputs": [],
   "source": [
    "from keras.models import Sequential\n",
    "from keras.layers import Dense, Input\n",
    "import keras.optimizers as opt\n",
    "from keras.constraints import Constraint\n",
    "from keras import backend as keras_backend\n",
    "import tensorflow as tf"
   ]
  },
  {
   "cell_type": "code",
   "execution_count": 42,
   "id": "c7b7ae3a-bf8f-406d-9e8d-4b20d99d2c09",
   "metadata": {},
   "outputs": [],
   "source": [
    "class neural_bermudan_fitter:\n",
    "    def __init__(self, r, sigma, stock_paths, K, dates, option=\"put\", ittol=10, T=1, nodes=10, epochs=10, pre_trained_model=None):\n",
    "        self.stock_paths = stock_paths\n",
    "        self.K = K\n",
    "        assert all(earlier > later for earlier, later in zip(dates, dates[1:])), 'the dates should be in descending order'\n",
    "        self.dates = dates\n",
    "        \n",
    "        self.T=T\n",
    "        self.r = r\n",
    "        self.sigma = sigma\n",
    "        self.option = option.lower()\n",
    "        self.N = len(self.stock_paths)\n",
    "        self.M = len(self.dates)\n",
    "        self.num_stoch_movements = len(self.stock_paths[0])\n",
    "        self.nodes = nodes\n",
    "        self.epochs = epochs\n",
    "        self.ittol=ittol\n",
    "        \n",
    "        self.evaluate_final()\n",
    "        \n",
    "        #step 3 of Jain\n",
    "        self.beta = np.random.uniform(size=(self.N,1))\n",
    "        self.nnets = []\n",
    "        if pre_trained_model:\n",
    "            self.nnets.append(pre_trained_model)\n",
    "        else:\n",
    "            self.setup_network()\n",
    "        self.V = np.zeros(self.N)\n",
    "        self.Q_hat = np.zeros(self.N)\n",
    "        self.callback = tf.keras.callbacks.EarlyStopping(monitor='loss', patience=30)\n",
    "        self.histories = []\n",
    "        self.opt_val = np.zeros((self.nodes, len(self.dates), self.N))\n",
    "        \n",
    "    def evaluate_final(self):\n",
    "        # step 2 of algorithm in Jain paper\n",
    "        if self.option == 'call':\n",
    "            self.h = tf.maximum(self.stock_paths[:,-1] - self.K,0)\n",
    "        else:\n",
    "            self.h = tf.maximum(self.K - self.stock_paths[:,-1],0)\n",
    "            \n",
    "    def setup_network(self):\n",
    "        nn = Sequential([\n",
    "                    Input(shape=(1)),\n",
    "                    Dense(self.nodes,activation='relu',trainable=True, kernel_initializer = 'random_uniform'),\n",
    "                    Dense(1,activation='linear',trainable=True, kernel_initializer=keras.initializers.RandomUniform(minval=-0.01, maxval=0.01, seed=None))\n",
    "                    ])\n",
    "        nn.compile(tf.optimizers.Adam(learning_rate=self.learning_rate), loss='mean_squared_error')\n",
    "        \n",
    "        if self.option==\"call\":\n",
    "            Y_train = np.maximum(s_all[:,-1] - K, 0)\n",
    "        else:\n",
    "            Y_train = np.maximum(K - s_all[:,-1], 0)\n",
    "\n",
    "        X_train = s_all[:,-1]\n",
    "        \n",
    "        callback = tf.keras.callbacks.EarlyStopping(monitor='loss', patience=30)\n",
    "        history = nn.fit(X_train.reshape(-1,1), Y_train.reshape(-1,1), epochs=500, verbose=0, callbacks=[callback])\n",
    "        if history.history['loss'][-1] > 1:\n",
    "            print(\"warning. NN didn't converge\")\n",
    "        \n",
    "        self.nnets.append(nn)\n",
    "    \n",
    "    def copy_network(self):\n",
    "        new_model = keras.models.clone_model(self.nnets[-1])\n",
    "        new_model.compile(tf.optimizers.Adam(learning_rate=0.001), loss='mean_squared_error')\n",
    "        new_model.set_weights(self.nnets[-1].get_weights())\n",
    "        self.nnets.append(new_model)\n",
    "        \n",
    "    def run_pricing_simulation(self):        \n",
    "        for m,date in enumerate(self.dates[0:len(self.dates)-1]):\n",
    "            #step 5\n",
    "            self.fit_model(m,date)\n",
    "            w_vect = np.array(self.nnets[-1].layers[0].get_weights()[0]).reshape(-1)\n",
    "            w_vect_2 = np.array(self.nnets[-1].layers[1].get_weights()[0]).reshape(-1)\n",
    "            strikes = np.array(self.nnets[-1].layers[0].get_weights()[1]).reshape(-1)\n",
    "            bias_2 = np.array(self.nnets[-1].layers[1].get_weights()[1]).reshape(-1)\n",
    "            \n",
    "            # steps 6 to 12\n",
    "            #time_to_maturity =  (self.dates[m] - self.dates[m+1]) / self.dates[0]\n",
    "            time_to_maturity = 1\n",
    "            for node in range(self.nodes):\n",
    "                # maybe change m-1 to m for all options\n",
    "                if w_vect[node] > 0 and strikes[node] > 0:\n",
    "                    # Forward contract\n",
    "                    #self.opt_val[node, m, :] = (w_vect[node]*self.stock_paths[:,self.dates[m]]+strikes[node]) * np.exp(-r*(self.dates[m] - self.dates[m+1]))\n",
    "                    pass\n",
    "                elif w_vect[node] < 0 and strikes[node] > 0:\n",
    "                    # Put Option\n",
    "                    k = -strikes[node]/w_vect[node]\n",
    "                    put_pricing = lambda s: BSM_put(s, k, self.r, self.sigma, time_to_maturity)\n",
    "                    find_put_price = np.vectorize(put_pricing)\n",
    "                    self.opt_val[node, m, :] =  find_put_price(self.stock_paths[:,self.dates[m]]) * w_vect_2[node] + bias_2\n",
    "                elif w_vect[node] > 0 and strikes[node] < 0:\n",
    "                    # Call option\n",
    "                    k = -strikes[node]/w_vect[node]\n",
    "                    call_pricing = lambda s: BSM_call(s, k, self.r, self.sigma, time_to_maturity)\n",
    "                    find_call_price = np.vectorize(call_pricing)\n",
    "                    self.opt_val[node, m, :] =  find_call_price(self.stock_paths[:,self.dates[m]]) * w_vect_2[node] + bias_2\n",
    "            \n",
    "            for s in range(len(self.stock_paths[:,self.dates[m+1]])): \n",
    "                self.Q_hat[s] = np.sum(self.opt_val[:,m,s])\n",
    "                           \n",
    "            self.copy_network()\n",
    "\n",
    "            \n",
    "    def fit_model(self,m, date):\n",
    "        if self.option=='call':\n",
    "            self.h = np.maximum(0, self.stock_paths[:,date] - self.K)\n",
    "            for i, value in enumerate(h):\n",
    "                if value > self.Q_hat[i]:\n",
    "                    Y_train[i] = value\n",
    "                else:\n",
    "                    Y_train[i] = self.Q_hat[i]\n",
    "            #print(Y_train)\n",
    "        else:\n",
    "            self.h = np.maximum(0, self.K - self.stock_paths[:,date])\n",
    "            try:\n",
    "                for i, value in enumerate(self.h):\n",
    "                    if value > self.Q_hat[i]:\n",
    "                        Y_train[i] = value\n",
    "                    else:\n",
    "                        Y_train[i] = self.Q_hat[i]\n",
    "            except:\n",
    "                print(self.h)\n",
    "            #print(Y_train)\n",
    "            \n",
    "            \n",
    "        X_train = np.array(self.stock_paths[:,date])\n",
    "        self.histories.append(self.nnets[-1].fit(X_train.reshape(-1,1), Y_train.reshape(-1,1), epochs=self.epochs, callbacks=[self.callback], verbose=0))\n",
    "        i=0\n",
    "        while self.histories[-1].history['loss'][-1] > 100 and i< self.ittol:\n",
    "            i+=1\n",
    "            print(\"warning. NN didn't converge\")\n",
    "            print(f\"loss: {self.histories[-1].history['loss'][-1]}, time: {date}\")\n",
    "            self.histories.append(self.nnets[-1].fit(X_train.reshape(-1,1), Y_train.reshape(-1,1), epochs=self.epochs, callbacks=[self.callback], verbose=0))\n"
   ]
  },
  {
   "cell_type": "code",
   "execution_count": null,
   "id": "5d7ac7e4-8383-4786-abd3-3b49303c78bb",
   "metadata": {},
   "outputs": [],
   "source": [
    "# Pre train a NN at the standard payoffs"
   ]
  },
  {
   "cell_type": "code",
   "execution_count": 20,
   "id": "416a8f68-24ea-4ea3-891f-e84659657745",
   "metadata": {},
   "outputs": [],
   "source": [
    "nodes = 20"
   ]
  },
  {
   "cell_type": "code",
   "execution_count": 21,
   "id": "e214af52-7d94-4fbd-9fc3-aed63fa8b8b5",
   "metadata": {},
   "outputs": [],
   "source": [
    "nn = Sequential([\n",
    "            Input(shape=(1)),\n",
    "            Dense(nodes,activation='relu',trainable=True, kernel_initializer = 'random_uniform'),\n",
    "            Dense(1,activation='linear',trainable=True, kernel_initializer=keras.initializers.RandomUniform(minval=-0.01, maxval=0.01, seed=None))\n",
    "            ])\n",
    "nn.compile(tf.optimizers.Adam(learning_rate=0.001), loss='mean_squared_error')"
   ]
  },
  {
   "cell_type": "code",
   "execution_count": 22,
   "id": "d73f1342-a90f-48e4-a630-16f8d350214b",
   "metadata": {},
   "outputs": [],
   "source": [
    "Y_train = np.maximum(K - s_all[:,-1], 0)\n",
    "\n",
    "X_train = s_all[:,-1]"
   ]
  },
  {
   "cell_type": "code",
   "execution_count": 23,
   "id": "09eeaf8d-669f-4352-aeaa-49dd786004bc",
   "metadata": {},
   "outputs": [],
   "source": [
    "callback = tf.keras.callbacks.EarlyStopping(monitor='loss', patience=30)\n",
    "history = nn.fit(X_train.reshape(-1,1), Y_train.reshape(-1,1), epochs=500, verbose=0, callbacks=[callback])\n",
    "if history.history['loss'][-1] > 1:\n",
    "    print(\"warning. NN didn't converge\")"
   ]
  },
  {
   "cell_type": "code",
   "execution_count": 64,
   "id": "ee357210-60b4-4b25-bb2f-d18fe32b71a1",
   "metadata": {},
   "outputs": [],
   "source": [
    "dates = [0,1,2,3]\n",
    "dates.reverse()"
   ]
  },
  {
   "cell_type": "code",
   "execution_count": 65,
   "id": "a629d713-1f26-47e4-84d7-d547000f6b3b",
   "metadata": {},
   "outputs": [],
   "source": [
    "nf = neural_bermudan_fitter(r, sigma, s_all,  K, dates, epochs = 1000, pre_trained_model= nn, nodes=nodes)"
   ]
  },
  {
   "cell_type": "code",
   "execution_count": 66,
   "id": "2acf4eeb-cde5-437a-a0f1-1b102701eab1",
   "metadata": {},
   "outputs": [],
   "source": [
    "nf.run_pricing_simulation()"
   ]
  },
  {
   "cell_type": "code",
   "execution_count": 67,
   "id": "b458d1b6-77f3-4236-836a-650b4aeb1676",
   "metadata": {
    "tags": []
   },
   "outputs": [],
   "source": [
    "# Final portfolio\n",
    "w_vect = np.array(nf.nnets[-1].layers[0].get_weights()[0]).reshape(-1)\n",
    "strikes = np.array(nf.nnets[-1].layers[0].get_weights()[1]).reshape(-1)\n",
    "w_vect_2 = np.array(nf.nnets[-1].layers[1].get_weights()[0]).reshape(-1)\n",
    "strikes_2 = np.array(nf.nnets[-1].layers[1].get_weights()[1]).reshape(-1)\n",
    "\n",
    "positions = identify_positions(w_vect, strikes)[4]\n",
    "\n",
    "Ks=-strikes/w_vect"
   ]
  },
  {
   "cell_type": "code",
   "execution_count": 68,
   "id": "d08dcfda-d165-4ce8-b30e-40bac78a5e4d",
   "metadata": {},
   "outputs": [
    {
     "data": {
      "text/plain": [
       "array(['N', 'P', 'N', 'N', 'P', 'N', 'N', 'P', 'P', 'N', 'N', 'P', 'N',\n",
       "       'P', 'N', 'N', 'N', 'N', 'N', 'P'], dtype='<U1')"
      ]
     },
     "execution_count": 68,
     "metadata": {},
     "output_type": "execute_result"
    }
   ],
   "source": [
    "positions"
   ]
  },
  {
   "cell_type": "code",
   "execution_count": 69,
   "id": "4ef4bf39-7474-4cd3-b513-5c86fc03991e",
   "metadata": {},
   "outputs": [
    {
     "data": {
      "text/plain": [
       "array([0.08304176], dtype=float32)"
      ]
     },
     "execution_count": 69,
     "metadata": {},
     "output_type": "execute_result"
    }
   ],
   "source": [
    "strikes_2"
   ]
  },
  {
   "cell_type": "code",
   "execution_count": 70,
   "id": "59cd0f23-1036-4603-a640-4d48f80846db",
   "metadata": {},
   "outputs": [
    {
     "data": {
      "text/plain": [
       "array([-0.01192533,  0.5299166 ,  0.        ,  0.        ,  0.5228319 ,\n",
       "        0.        ,  0.        ,  0.55386156,  0.53159046,  0.        ,\n",
       "        0.        ,  0.5598914 ,  0.        ,  0.5775137 ,  0.        ,\n",
       "        0.        ,  0.        ,  0.        ,  0.        ,  0.52602756],\n",
       "      dtype=float32)"
      ]
     },
     "execution_count": 70,
     "metadata": {},
     "output_type": "execute_result"
    }
   ],
   "source": [
    "strikes"
   ]
  },
  {
   "cell_type": "code",
   "execution_count": 71,
   "id": "3bf942ad-a26d-47c8-9551-6a5286748b22",
   "metadata": {},
   "outputs": [
    {
     "data": {
      "text/plain": [
       "array([0.34538183], dtype=float32)"
      ]
     },
     "execution_count": 71,
     "metadata": {},
     "output_type": "execute_result"
    }
   ],
   "source": [
    "# final Bermudan Put value\n",
    "total = 0\n",
    "for i, position in enumerate(positions):\n",
    "    if position == 'P':\n",
    "        total+=BSM_put(1, Ks[i], r, sigma, 1)*w_vect_2[i] + strikes_2\n",
    "        \n",
    "total/len(positions[positions=='P'])"
   ]
  },
  {
   "cell_type": "code",
   "execution_count": 72,
   "id": "5c5d0a9e-3650-4841-8522-1a0b1674fb8a",
   "metadata": {},
   "outputs": [
    {
     "data": {
      "text/plain": [
       "0.19166117386336362"
      ]
     },
     "execution_count": 72,
     "metadata": {},
     "output_type": "execute_result"
    }
   ],
   "source": [
    "# upper bound\n",
    "np.mean(max_payoffs)"
   ]
  },
  {
   "cell_type": "code",
   "execution_count": 73,
   "id": "330d6beb-a9b6-43ed-af9e-a307b85d63d9",
   "metadata": {},
   "outputs": [
    {
     "data": {
      "text/plain": [
       "0.12093363703472379"
      ]
     },
     "execution_count": 73,
     "metadata": {},
     "output_type": "execute_result"
    }
   ],
   "source": [
    "# lower bound\n",
    "np.mean(americans)"
   ]
  },
  {
   "cell_type": "code",
   "execution_count": 74,
   "id": "55efde37-6514-4f07-8842-d7853f5f93dd",
   "metadata": {},
   "outputs": [
    {
     "data": {
      "text/plain": [
       "0.09605892634054225"
      ]
     },
     "execution_count": 74,
     "metadata": {},
     "output_type": "execute_result"
    }
   ],
   "source": [
    "# european\n",
    "BSM_put(1,K, r,sigma,0.25)"
   ]
  },
  {
   "cell_type": "code",
   "execution_count": 40,
   "id": "763d7cc5-6b87-44c7-a20e-a0172babb5a4",
   "metadata": {},
   "outputs": [
    {
     "name": "stderr",
     "output_type": "stream",
     "text": [
      "100%|████████████████████████████████████████████████████████████████████████████████████| 2/2 [02:11<00:00, 65.54s/it]\n"
     ]
    }
   ],
   "source": [
    "totals = []\n",
    "dates = [0,1,2,3]\n",
    "dates.reverse()\n",
    "\n",
    "for i in tqdm(range(2)):\n",
    "    s_all = np.array([np.array(GBM_exact(T, S, sigma, r, M)) for x in range(realizations)])\n",
    "    \n",
    "    nn = Sequential([\n",
    "            Input(shape=(1)),\n",
    "            Dense(nodes,activation='relu',trainable=True, kernel_initializer = 'random_uniform'),\n",
    "            Dense(1,activation='linear',trainable=True, kernel_initializer=keras.initializers.RandomUniform(minval=-0.01, maxval=0.01, seed=None))\n",
    "            ])\n",
    "    nn.compile(tf.optimizers.Adam(learning_rate=0.001), loss='mean_squared_error')\n",
    "    \n",
    "    Y_train = np.maximum(K - s_all[:,-1], 0)\n",
    "    X_train = s_all[:,-1]\n",
    "    callback = tf.keras.callbacks.EarlyStopping(monitor='loss', patience=30)\n",
    "    history = nn.fit(X_train.reshape(-1,1), Y_train.reshape(-1,1), epochs=500, verbose=0, callbacks=[callback])\n",
    "    if history.history['loss'][-1] > 1:\n",
    "        print(\"warning. NN didn't converge\")\n",
    "        \n",
    "        \n",
    "    nf = neural_bermudan_fitter(r, sigma, s_all,  K, dates, epochs = 1000, pre_trained_model= nn, nodes=nodes)\n",
    "    nf.run_pricing_simulation()\n",
    "    \n",
    "    # Final portfolio\n",
    "    w_vect = np.array(nf.nnets[-1].layers[0].get_weights()[0]).reshape(-1)\n",
    "    strikes = np.array(nf.nnets[-1].layers[0].get_weights()[1]).reshape(-1)\n",
    "    w_vect_2 = np.array(nf.nnets[-1].layers[1].get_weights()[0]).reshape(-1)\n",
    "    strikes_2 = np.array(nf.nnets[-1].layers[1].get_weights()[1]).reshape(-1)\n",
    "\n",
    "    positions = identify_positions(w_vect, strikes)[4]\n",
    "\n",
    "    Ks=-strikes/w_vect\n",
    "    \n",
    "    total = 0\n",
    "    for i, position in enumerate(positions):\n",
    "        if position == 'P':\n",
    "            total+=BSM_put(1, Ks[i], r, sigma, 1)*(w_vect_2[i]) + strikes_2\n",
    "\n",
    "    totals.append(total/len(positions[positions=='P']))"
   ]
  },
  {
   "cell_type": "code",
   "execution_count": 41,
   "id": "24da7cf3-3d6a-4c62-8ffd-b3b1cc567444",
   "metadata": {},
   "outputs": [
    {
     "data": {
      "text/plain": [
       "[array([0.288626], dtype=float32), array([0.28605324], dtype=float32)]"
      ]
     },
     "execution_count": 41,
     "metadata": {},
     "output_type": "execute_result"
    }
   ],
   "source": [
    "totals"
   ]
  },
  {
   "cell_type": "code",
   "execution_count": null,
   "id": "95b563af-a7b2-4048-b4e0-04db049052ca",
   "metadata": {},
   "outputs": [],
   "source": []
  },
  {
   "cell_type": "code",
   "execution_count": null,
   "id": "b64dec22-fbb6-461a-905e-1ea3527c8b52",
   "metadata": {},
   "outputs": [],
   "source": []
  },
  {
   "cell_type": "code",
   "execution_count": null,
   "id": "cd51c251-2346-45f8-ba6d-93170eb95678",
   "metadata": {},
   "outputs": [],
   "source": []
  },
  {
   "cell_type": "code",
   "execution_count": 37,
   "id": "9cb2c1eb-7ae1-4826-9c0c-093dc5192236",
   "metadata": {},
   "outputs": [],
   "source": [
    "# Figures for presentation"
   ]
  },
  {
   "cell_type": "code",
   "execution_count": 38,
   "id": "2492cab7-84f3-42e4-abea-07900a5ad256",
   "metadata": {},
   "outputs": [],
   "source": [
    "# Pre trained NN"
   ]
  },
  {
   "cell_type": "code",
   "execution_count": 727,
   "id": "353ffb6b-5fec-44c1-9c7c-fd6504ee1c5f",
   "metadata": {},
   "outputs": [],
   "source": [
    "Y_train = np.maximum(K - s_all[:,-1], 0)\n",
    "\n",
    "X_train = s_all[:,-1]"
   ]
  },
  {
   "cell_type": "code",
   "execution_count": 728,
   "id": "3a56415c-e07a-4464-a5d3-91af1367801a",
   "metadata": {},
   "outputs": [
    {
     "data": {
      "text/plain": [
       "<matplotlib.collections.PathCollection at 0x147124f6c70>"
      ]
     },
     "execution_count": 728,
     "metadata": {},
     "output_type": "execute_result"
    },
    {
     "data": {
      "image/png": "[encoded data removed]",
      "text/plain": [
       "<Figure size 432x288 with 1 Axes>"
      ]
     },
     "metadata": {
      "needs_background": "light"
     },
     "output_type": "display_data"
    }
   ],
   "source": [
    "plt.scatter(X_train, Y_train)"
   ]
  },
  {
   "cell_type": "code",
   "execution_count": 729,
   "id": "49b174b2-5d9a-4b37-ab57-830f83d4396a",
   "metadata": {},
   "outputs": [],
   "source": [
    "S = np.linspace(0.1,2,20)\n",
    "V = np.zeros(S.shape)\n",
    "\n",
    "V = nn.predict(np.array(S).reshape(-1,1))"
   ]
  },
  {
   "cell_type": "code",
   "execution_count": 730,
   "id": "45dfd59c-f44e-4278-b74e-862bd8068cfb",
   "metadata": {},
   "outputs": [
    {
     "data": {
      "image/png": "[encoded data removed]",
      "text/plain": [
       "<Figure size 432x288 with 1 Axes>"
      ]
     },
     "metadata": {
      "needs_background": "light"
     },
     "output_type": "display_data"
    }
   ],
   "source": [
    "plt.scatter(S,V, label=\"NN output\")\n",
    "plt.scatter(X_train, Y_train, label=\"training data\")\n",
    "plt.legend()\n",
    "plt.xlabel(\"S\")\n",
    "plt.ylabel(\"V\")\n",
    "plt.title(\"Payoff for a Bermudan put option at maturity\")\n",
    "plt.savefig(\"figures/put_at_maturity_NN.jpg\", dpi=300)"
   ]
  },
  {
   "cell_type": "code",
   "execution_count": null,
   "id": "a5c996fc-239c-438b-b4e7-d3c1293b0565",
   "metadata": {},
   "outputs": [],
   "source": []
  },
  {
   "cell_type": "code",
   "execution_count": 43,
   "id": "8a01fc76-aee1-4712-a859-f528991e7ada",
   "metadata": {},
   "outputs": [],
   "source": [
    "# NN payoff at later times"
   ]
  },
  {
   "cell_type": "code",
   "execution_count": 731,
   "id": "56453f14-0a4a-441d-941c-6b86843133af",
   "metadata": {},
   "outputs": [],
   "source": [
    "Y_train = np.maximum(K - s_all[:,-1], 0)\n",
    "\n",
    "X_train = s_all[:,-1]"
   ]
  },
  {
   "cell_type": "code",
   "execution_count": 732,
   "id": "38b4feba-8512-40e4-9763-04651838211a",
   "metadata": {},
   "outputs": [],
   "source": [
    "m=2\n",
    "V = np.zeros(len(nf.stock_paths[:,nf.dates[m]]))\n",
    "\n",
    "for s in range(len(nf.stock_paths[:,nf.dates[m]])): \n",
    "    V[s] = np.sum(nf.opt_val[:,m,s])\n",
    "\n",
    "h = np.maximum(0, nf.K - nf.stock_paths[:,dates[m]])\n",
    "\n",
    "for i, value in enumerate(h):\n",
    "    if value > V[i]:\n",
    "        Y_train[i] = value\n",
    "    else:\n",
    "        Y_train[i] = V[i]\n",
    "#Y_train = np.maximum(nf.h, V)\n",
    "\n",
    "X_train = np.array(nf.stock_paths[:,dates[m]]).reshape(1,-1)"
   ]
  },
  {
   "cell_type": "code",
   "execution_count": 733,
   "id": "80ad00bf-f13e-4d2e-924c-b9ce8bbe902b",
   "metadata": {},
   "outputs": [
    {
     "data": {
      "text/plain": [
       "<matplotlib.collections.PathCollection at 0x147125ae6d0>"
      ]
     },
     "execution_count": 733,
     "metadata": {},
     "output_type": "execute_result"
    },
    {
     "data": {
      "image/png": "[encoded data removed]",
      "text/plain": [
       "<Figure size 432x288 with 1 Axes>"
      ]
     },
     "metadata": {
      "needs_background": "light"
     },
     "output_type": "display_data"
    }
   ],
   "source": [
    "plt.scatter(X_train, Y_train)"
   ]
  },
  {
   "cell_type": "code",
   "execution_count": 734,
   "id": "56fa0c36-a7be-4692-8471-e3d26f0a02ca",
   "metadata": {},
   "outputs": [],
   "source": [
    "V = nf.nnets[m].predict(np.array(S).reshape(-1,1))"
   ]
  },
  {
   "cell_type": "code",
   "execution_count": 735,
   "id": "3de444d5-c5ce-460e-a0ca-3d5002d6594f",
   "metadata": {},
   "outputs": [
    {
     "data": {
      "image/png": "[encoded data removed]",
      "text/plain": [
       "<Figure size 432x288 with 1 Axes>"
      ]
     },
     "metadata": {
      "needs_background": "light"
     },
     "output_type": "display_data"
    }
   ],
   "source": [
    "plt.scatter(X_train, Y_train, label=\"training data\")\n",
    "plt.scatter(S,V, label=\"NN output\")\n",
    "#plt.scatter(X_train, Y_train, label=\"training data\")\n",
    "plt.legend()\n",
    "plt.xlabel(\"S\")\n",
    "plt.ylabel(\"V\")\n",
    "plt.title(f\"Estimated Payoff for a put option at M-{m} by NN\")\n",
    "plt.savefig(f\"figures/M-{m}_payoff_NN.jpg\", dpi=300)"
   ]
  }
 ],
 "metadata": {
  "kernelspec": {
   "display_name": "Python 3 (ipykernel)",
   "language": "python",
   "name": "python3"
  },
  "language_info": {
   "codemirror_mode": {
    "name": "ipython",
    "version": 3
   },
   "file_extension": ".py",
   "mimetype": "text/x-python",
   "name": "python",
   "nbconvert_exporter": "python",
   "pygments_lexer": "ipython3",
   "version": "3.9.7"
  }
 },
 "nbformat": 4,
 "nbformat_minor": 5
}
