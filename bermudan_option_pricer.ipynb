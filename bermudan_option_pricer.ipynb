{
 "cells": [
  {
   "cell_type": "code",
   "execution_count": 1,
   "id": "58183e58",
   "metadata": {},
   "outputs": [],
   "source": [
    "import numpy as np\n",
    "import matplotlib.pyplot as plt\n",
    "from scipy import odr"
   ]
  },
  {
   "cell_type": "code",
   "execution_count": 2,
   "id": "88695dce",
   "metadata": {},
   "outputs": [],
   "source": [
    "T = 1\n",
    "K = 110\n",
    "S = 100\n",
    "M=10\n",
    "sigma = 0.2\n",
    "r = 0.06\n",
    "realizations = 8"
   ]
  },
  {
   "cell_type": "code",
   "execution_count": 3,
   "id": "df09d0ea",
   "metadata": {},
   "outputs": [],
   "source": [
    "def GBM_Euler(T, S, sigma, r, M, Z_all = None):\n",
    "    S_all = []\n",
    "    S_all.append(S)\n",
    "    dt = T/M\n",
    "    \n",
    "    Zm = np.random.normal(size=M)\n",
    "    for i in range(M-1):\n",
    "        S_all.append(S_all[i] + r* S_all[i] * dt + sigma * S_all[i] * np.sqrt(dt) * Zm[i]) \n",
    "    return S_all"
   ]
  },
  {
   "cell_type": "code",
   "execution_count": 4,
   "id": "c3ac6a73",
   "metadata": {},
   "outputs": [],
   "source": [
    "s_all = [GBM_Euler(T, S, sigma, r, M) for x in range(realizations)]"
   ]
  },
  {
   "cell_type": "code",
   "execution_count": 5,
   "id": "b434d78b",
   "metadata": {},
   "outputs": [
    {
     "data": {
      "text/plain": [
       "[<matplotlib.lines.Line2D at 0x15918b9c460>]"
      ]
     },
     "execution_count": 5,
     "metadata": {},
     "output_type": "execute_result"
    },
    {
     "data": {
      "image/png": "[encoded data removed]",
      "text/plain": [
       "<Figure size 432x288 with 1 Axes>"
      ]
     },
     "metadata": {
      "needs_background": "light"
     },
     "output_type": "display_data"
    }
   ],
   "source": [
    "plt.plot(s_all[4])"
   ]
  },
  {
   "cell_type": "code",
   "execution_count": 6,
   "id": "e405294b",
   "metadata": {},
   "outputs": [],
   "source": [
    "## Cash flow matrices\n",
    "path_matrix = np.zeros((realizations, M))\n",
    "for realization in range(realizations):\n",
    "    path_matrix[realization,:] = s_all[realization]"
   ]
  },
  {
   "cell_type": "code",
   "execution_count": 7,
   "id": "344f476d",
   "metadata": {},
   "outputs": [
    {
     "data": {
      "text/plain": [
       "array([ 8.7493498 , 13.21117314,  0.        ,  0.        ,  0.        ,\n",
       "        0.        , 11.93696431,  5.66578225])"
      ]
     },
     "execution_count": 7,
     "metadata": {},
     "output_type": "execute_result"
    }
   ],
   "source": [
    "## value at T\n",
    "np.maximum(0,path_matrix[:,M-1] - K)"
   ]
  },
  {
   "cell_type": "code",
   "execution_count": 8,
   "id": "7b4b44b6",
   "metadata": {},
   "outputs": [],
   "source": [
    "## valuation at T-1 with regression model\n",
    "X = np.where(path_matrix[:,M-2]>K, path_matrix[:,M-2], 0)\n",
    "Y = np.where(path_matrix[:,M-2]>K, np.maximum(path_matrix[:,M-1]-K, 0), 0) *np.exp(-r)\n",
    "\n",
    "X_nonzero = X[X>0]\n",
    "Y_nonzero = Y[X>0]"
   ]
  },
  {
   "cell_type": "code",
   "execution_count": 9,
   "id": "f1b6ff7d",
   "metadata": {},
   "outputs": [],
   "source": [
    "poly = odr.polynomial(2)\n",
    "data = odr.Data(X_nonzero ,Y_nonzero)\n",
    "model = odr.ODR(data, poly)\n",
    "output = model.run()\n",
    "final = np.poly1d(output.beta[::-1])\n",
    "final_y = final(X_nonzero)"
   ]
  },
  {
   "cell_type": "code",
   "execution_count": 10,
   "id": "e18115fb",
   "metadata": {},
   "outputs": [
    {
     "data": {
      "text/plain": [
       "<matplotlib.collections.PathCollection at 0x15930db60b0>"
      ]
     },
     "execution_count": 10,
     "metadata": {},
     "output_type": "execute_result"
    },
    {
     "data": {
      "image/png": "[encoded data removed]",
      "text/plain": [
       "<Figure size 432x288 with 1 Axes>"
      ]
     },
     "metadata": {
      "needs_background": "light"
     },
     "output_type": "display_data"
    }
   ],
   "source": [
    "plt.scatter(X_nonzero , final_y, label=\"model\", marker='o')\n",
    "plt.scatter(X_nonzero , Y_nonzero , label=\"data\", marker='o')"
   ]
  },
  {
   "cell_type": "code",
   "execution_count": 11,
   "id": "474a6b57",
   "metadata": {},
   "outputs": [
    {
     "data": {
      "text/plain": [
       "array([110.67354633, 121.32790342,   0.        ,   0.        ,\n",
       "         0.        ,   0.        , 128.04533992, 120.64066095])"
      ]
     },
     "execution_count": 11,
     "metadata": {},
     "output_type": "execute_result"
    }
   ],
   "source": [
    "X"
   ]
  },
  {
   "cell_type": "code",
   "execution_count": 12,
   "id": "a18f92c1",
   "metadata": {},
   "outputs": [
    {
     "data": {
      "text/plain": [
       "array([ 8.23982733, 12.44181431,  0.        ,  0.        ,  0.        ,\n",
       "        0.        , 11.24180962,  5.33583277])"
      ]
     },
     "execution_count": 12,
     "metadata": {},
     "output_type": "execute_result"
    }
   ],
   "source": [
    "Y"
   ]
  },
  {
   "cell_type": "code",
   "execution_count": 13,
   "id": "8b1b96d5",
   "metadata": {},
   "outputs": [],
   "source": [
    "## Compare excerise with continuation\n",
    "ex_cont = np.zeros((len(X_nonzero), 2))\n",
    "ex_cont[:,0] = X_nonzero - K\n",
    "ex_cont[:,1] = final_y"
   ]
  },
  {
   "cell_type": "code",
   "execution_count": 14,
   "id": "d651ecef",
   "metadata": {},
   "outputs": [
    {
     "data": {
      "text/plain": [
       "array([[ 0.67354633,  8.04901361],\n",
       "       [11.32790342,  7.04691499],\n",
       "       [18.04533992, 16.9431806 ],\n",
       "       [10.64066095,  6.49356552]])"
      ]
     },
     "execution_count": 14,
     "metadata": {},
     "output_type": "execute_result"
    }
   ],
   "source": [
    "ex_cont"
   ]
  },
  {
   "cell_type": "code",
   "execution_count": 15,
   "id": "e216e2d0",
   "metadata": {},
   "outputs": [],
   "source": [
    "## build cash flow matrix T-1"
   ]
  },
  {
   "cell_type": "code",
   "execution_count": 16,
   "id": "ef687b00",
   "metadata": {},
   "outputs": [],
   "source": [
    "cash_flow_2 = np.zeros((realizations, 2))"
   ]
  },
  {
   "cell_type": "code",
   "execution_count": 17,
   "id": "dede617b",
   "metadata": {},
   "outputs": [],
   "source": [
    "j=0\n",
    "for i in range(len(X)):\n",
    "    if X[i] > 0:\n",
    "        if ex_cont[j,0] > ex_cont[j,1]:\n",
    "            cash_flow_2[i, 0] = ex_cont[j,0] \n",
    "        else:\n",
    "            cash_flow_2[i,1] = ex_cont[j,1]\n",
    "            \n",
    "        j+=1"
   ]
  },
  {
   "cell_type": "code",
   "execution_count": 18,
   "id": "7a875413",
   "metadata": {},
   "outputs": [
    {
     "data": {
      "text/plain": [
       "array([[ 0.        ,  8.04901361],\n",
       "       [11.32790342,  0.        ],\n",
       "       [ 0.        ,  0.        ],\n",
       "       [ 0.        ,  0.        ],\n",
       "       [ 0.        ,  0.        ],\n",
       "       [ 0.        ,  0.        ],\n",
       "       [18.04533992,  0.        ],\n",
       "       [10.64066095,  0.        ]])"
      ]
     },
     "execution_count": 18,
     "metadata": {},
     "output_type": "execute_result"
    }
   ],
   "source": [
    "cash_flow_2"
   ]
  },
  {
   "cell_type": "code",
   "execution_count": 19,
   "id": "cf30b6ee",
   "metadata": {},
   "outputs": [
    {
     "data": {
      "text/plain": [
       "array([[100.        , 107.83366884,  97.39047041,  98.2476303 ,\n",
       "         80.75940358,  83.66123896,  90.87905131,  96.974391  ,\n",
       "        110.67354633, 118.7493498 ],\n",
       "       [100.        , 113.19967133, 110.81314327, 105.18250773,\n",
       "        120.56767172, 132.42068379, 122.8153136 , 122.81360268,\n",
       "        121.32790342, 123.21117314],\n",
       "       [100.        ,  97.98975081,  95.52950052, 100.6953805 ,\n",
       "         94.09212191,  92.76282123,  91.04431923,  81.09346251,\n",
       "         88.34881936,  91.05524683],\n",
       "       [100.        , 100.97362113,  88.79931854,  94.76323804,\n",
       "         94.60324023,  98.6271666 ,  94.7628143 ,  95.61877756,\n",
       "        100.14640329,  97.16832953],\n",
       "       [100.        ,  98.106327  , 104.14823235,  96.73412459,\n",
       "         88.14945747,  90.2247255 ,  91.75934215,  87.04407498,\n",
       "         86.66286078,  97.86092501],\n",
       "       [100.        , 105.64936865, 104.01953156, 106.55138431,\n",
       "        111.91275851, 106.41585149,  97.28380905,  98.53759228,\n",
       "         98.2666538 ,  95.13523401],\n",
       "       [100.        ,  96.31098846, 101.58352857, 116.70521975,\n",
       "        120.19246023, 120.60704072, 125.71734684, 128.05844948,\n",
       "        128.04533992, 121.93696431],\n",
       "       [100.        , 102.6120716 , 102.73878402, 107.0269893 ,\n",
       "        112.15573503, 117.7868212 , 122.27701629, 118.87967323,\n",
       "        120.64066095, 115.66578225]])"
      ]
     },
     "execution_count": 19,
     "metadata": {},
     "output_type": "execute_result"
    }
   ],
   "source": [
    "path_matrix"
   ]
  }
 ],
 "metadata": {
  "kernelspec": {
   "display_name": "Python 3 (ipykernel)",
   "language": "python",
   "name": "python3"
  },
  "language_info": {
   "codemirror_mode": {
    "name": "ipython",
    "version": 3
   },
   "file_extension": ".py",
   "mimetype": "text/x-python",
   "name": "python",
   "nbconvert_exporter": "python",
   "pygments_lexer": "ipython3",
   "version": "3.10.4"
  }
 },
 "nbformat": 4,
 "nbformat_minor": 5
}
