{
 "cells": [
  {
   "cell_type": "code",
   "execution_count": 1,
   "id": "58183e58",
   "metadata": {},
   "outputs": [],
   "source": [
    "import numpy as np\n",
    "import matplotlib.pyplot as plt\n",
    "from scipy import odr"
   ]
  },
  {
   "cell_type": "code",
   "execution_count": 34,
   "id": "88695dce",
   "metadata": {},
   "outputs": [],
   "source": [
    "T = 1\n",
    "K = 110\n",
    "S = 100\n",
    "M=12\n",
    "sigma = 0.2\n",
    "r = 0.06/M\n",
    "realizations = 300"
   ]
  },
  {
   "cell_type": "code",
   "execution_count": 35,
   "id": "df09d0ea",
   "metadata": {},
   "outputs": [],
   "source": [
    "def GBM_Euler(T, S, sigma, r, M, Z_all = None):\n",
    "    S_all = []\n",
    "    S_all.append(S)\n",
    "    dt = T/M\n",
    "    \n",
    "    Zm = np.random.normal(size=M)\n",
    "    for i in range(M-1):\n",
    "        S_all.append(S_all[i] + r* S_all[i] * dt + sigma * S_all[i] * np.sqrt(dt) * Zm[i]) \n",
    "    return S_all"
   ]
  },
  {
   "cell_type": "code",
   "execution_count": 36,
   "id": "c3ac6a73",
   "metadata": {},
   "outputs": [],
   "source": [
    "s_all = [GBM_Euler(T, S, sigma, r, M) for x in range(realizations)]"
   ]
  },
  {
   "cell_type": "code",
   "execution_count": 37,
   "id": "b434d78b",
   "metadata": {},
   "outputs": [
    {
     "data": {
      "text/plain": [
       "[<matplotlib.lines.Line2D at 0x209de80f520>]"
      ]
     },
     "execution_count": 37,
     "metadata": {},
     "output_type": "execute_result"
    },
    {
     "data": {
      "image/png": "[encoded data removed]",
      "text/plain": [
       "<Figure size 432x288 with 1 Axes>"
      ]
     },
     "metadata": {
      "needs_background": "light"
     },
     "output_type": "display_data"
    }
   ],
   "source": [
    "plt.plot(s_all[4])"
   ]
  },
  {
   "cell_type": "code",
   "execution_count": 38,
   "id": "e405294b",
   "metadata": {},
   "outputs": [],
   "source": [
    "## path matrix\n",
    "path_matrix = np.zeros((realizations, M))\n",
    "for realization in range(realizations):\n",
    "    path_matrix[realization,:] = s_all[realization]"
   ]
  },
  {
   "cell_type": "code",
   "execution_count": 39,
   "id": "9ba8745e",
   "metadata": {},
   "outputs": [],
   "source": [
    "def value_option_schwarz(M,K,path_matrix, r, realizations, option=\"call\", poly_choice=\"laguerre\"):\n",
    "    option_cash_flow_matrix = np.zeros(path_matrix.shape)\n",
    "    if option == \"call\":\n",
    "        option_cash_flow_matrix[:,-1] = np.maximum(path_matrix[:,M-1]-K, 0)\n",
    "    else:\n",
    "        option_cash_flow_matrix[:,-1] = np.maximum(K-path_matrix[:,M-1], 0)\n",
    "    for time in range(M-2):\n",
    "        if option == \"call\":\n",
    "            X = np.where(path_matrix[:,M-time-2]>K, path_matrix[:,M-time-2], 0)\n",
    "            Y = np.where(path_matrix[:,M-time-2]>K, option_cash_flow_matrix[:,M-time-1], 0) *np.exp(-r)\n",
    "        else:\n",
    "            X = np.where(path_matrix[:,M-time-2]<K, path_matrix[:,M-time-2], 0)\n",
    "            Y = np.where(path_matrix[:,M-time-2]<K, option_cash_flow_matrix[:,M-time-1], 0) *np.exp(-r)\n",
    "\n",
    "        X_nonzero = X[X>0]\n",
    "        Y_nonzero = Y[X>0]\n",
    "        \n",
    "        if poly_choice == \"laguerre\":\n",
    "            poly = np.polynomial.laguerre.Laguerre.fit(X_nonzero, Y_nonzero, 3)\n",
    "            final_y = np.zeros(len(X_nonzero))\n",
    "            for i, val in enumerate(X_nonzero): \n",
    "                final_y[i] = poly(val)\n",
    "        else:\n",
    "            poly = odr.polynomial(2)\n",
    "            data = odr.Data(X_nonzero ,Y_nonzero)\n",
    "            model = odr.ODR(data, poly)\n",
    "            output = model.run()\n",
    "            final = np.poly1d(output.beta[::-1])\n",
    "            final_y = final(X_nonzero)\n",
    "        ## Compare excerise with continuation\n",
    "        ex_cont = np.zeros((len(X_nonzero), 2))\n",
    "        \n",
    "        if option == \"call\":\n",
    "            ex_cont[:,0] = X_nonzero - K\n",
    "        else:\n",
    "            ex_cont[:,0] = K - X_nonzero\n",
    "        ex_cont[:,1] = final_y\n",
    "        \n",
    "        cash_flow = np.zeros((realizations, 2))\n",
    "        \n",
    "        j=0\n",
    "        for i in range(len(X)):\n",
    "            if X[i] > 0:\n",
    "                if ex_cont[j,0] > ex_cont[j,1]:\n",
    "                    cash_flow[i, 0] = ex_cont[j,0] \n",
    "                else:\n",
    "                    cash_flow[i,1] = ex_cont[j,1]\n",
    "\n",
    "                j+=1\n",
    "        \n",
    "        # save answer of time\n",
    "        for i, ans in enumerate(cash_flow[:,0]):\n",
    "            if ans!=0:\n",
    "                option_cash_flow_matrix[i,:] = 0\n",
    "                option_cash_flow_matrix[i,M-time-2] = ans\n",
    "    return option_cash_flow_matrix\n",
    "        "
   ]
  },
  {
   "cell_type": "code",
   "execution_count": 42,
   "id": "76a0f775",
   "metadata": {},
   "outputs": [
    {
     "name": "stdout",
     "output_type": "stream",
     "text": [
      "9.751210048051108\n"
     ]
    }
   ],
   "source": [
    "option_cash_flow = value_option_schwarz(M,K,path_matrix, r, realizations,option=\"put\", poly_choice=\"dumb\")\n",
    "\n",
    "for time in range(option_cash_flow.shape[1]):\n",
    "    option_cash_flow[:,time]*=np.exp(-r*time)\n",
    "    \n",
    "print(np.sum(option_cash_flow[1:])/realizations)"
   ]
  },
  {
   "cell_type": "code",
   "execution_count": 43,
   "id": "1284b3a7",
   "metadata": {},
   "outputs": [
    {
     "name": "stdout",
     "output_type": "stream",
     "text": [
      "9.562763956732658\n"
     ]
    }
   ],
   "source": [
    "option_cash_flow = value_option_schwarz(M,K,path_matrix, r, realizations,option=\"put\")\n",
    "\n",
    "for time in range(option_cash_flow.shape[1]):\n",
    "    option_cash_flow[:,time]*=np.exp(-r*time)\n",
    "    \n",
    "print(np.sum(option_cash_flow[1:])/realizations)"
   ]
  },
  {
   "cell_type": "code",
   "execution_count": null,
   "id": "2d05b89e",
   "metadata": {},
   "outputs": [],
   "source": []
  },
  {
   "cell_type": "code",
   "execution_count": null,
   "id": "5aa82638",
   "metadata": {},
   "outputs": [],
   "source": []
  },
  {
   "cell_type": "code",
   "execution_count": 9,
   "id": "19d8d822",
   "metadata": {},
   "outputs": [],
   "source": [
    "def poly(x):\n",
    "    return (-1.813 * x**2 + 2.983 *x -1.07)\n",
    "\n",
    "def poly2(x):\n",
    "    return (2.038 -3.335 *x + 1.356 * x**2)\n",
    "\n",
    "\n",
    "def value_option_schwarz_test(M,K,path_matrix, r, realizations, option=\"call\"):\n",
    "    option_cash_flow_matrix = np.zeros(path_matrix.shape)\n",
    "    if option == \"call\":\n",
    "        option_cash_flow_matrix[:,-1] = np.maximum(path_matrix[:,M-1]-K, 0)\n",
    "    else:\n",
    "        option_cash_flow_matrix[:,-1] = np.maximum(K-path_matrix[:,M-1], 0)\n",
    "    for time in range(M-2):\n",
    "        if option == \"call\":\n",
    "            X = np.where(path_matrix[:,M-time-2]>K, path_matrix[:,M-time-2], 0)\n",
    "            Y = np.where(path_matrix[:,M-time-2]>K, option_cash_flow_matrix[:,M-time-1], 0) *np.exp(-r)\n",
    "        else:\n",
    "            X = np.where(path_matrix[:,M-time-2]<K, path_matrix[:,M-time-2], 0)\n",
    "            Y = np.where(path_matrix[:,M-time-2]<K, option_cash_flow_matrix[:,M-time-1], 0) *np.exp(-r)\n",
    "\n",
    "        X_nonzero = X[X>0]\n",
    "        Y_nonzero = Y[X>0]\n",
    "        \n",
    "        if time == 0:\n",
    "            final_y = poly(X_nonzero)\n",
    "        if time == 1:\n",
    "            final_y = poly2(X_nonzero)\n",
    "        ## Compare excerise with continuation\n",
    "        ex_cont = np.zeros((len(X_nonzero), 2))\n",
    "        \n",
    "        if option == \"call\":\n",
    "            ex_cont[:,0] = X_nonzero - K\n",
    "        else:\n",
    "            ex_cont[:,0] = K - X_nonzero\n",
    "        ex_cont[:,1] = final_y\n",
    "        \n",
    "        cash_flow = np.zeros((realizations, 2))\n",
    "        \n",
    "        j=0\n",
    "        for i in range(len(X)):\n",
    "            if X[i] > 0:\n",
    "                if ex_cont[j,0] > ex_cont[j,1]:\n",
    "                    cash_flow[i, 0] = ex_cont[j,0] \n",
    "                else:\n",
    "                    cash_flow[i,1] = ex_cont[j,1]\n",
    "\n",
    "                j+=1\n",
    "        \n",
    "        # save answer of time\n",
    "        for i, ans in enumerate(cash_flow[:,0]):\n",
    "            if ans!=0:\n",
    "                option_cash_flow_matrix[i,:] = 0\n",
    "                option_cash_flow_matrix[i,M-time-2] = ans\n",
    "    return option_cash_flow_matrix"
   ]
  },
  {
   "cell_type": "code",
   "execution_count": 10,
   "id": "b51ae416",
   "metadata": {},
   "outputs": [
    {
     "name": "stdout",
     "output_type": "stream",
     "text": [
      "0\n",
      "1\n",
      "2\n",
      "3\n",
      "0.11099480538230913\n",
      "0\n",
      "1\n",
      "2\n",
      "3\n",
      "0.11443433004505696\n"
     ]
    }
   ],
   "source": [
    "K=1.1; M=4; r=.06;realizations=8\n",
    "\n",
    "path_matrix = np.array([[1.00, 1.09, 1.08, 1.34],\n",
    "[1.00, 1.16, 1.26, 1.54],\n",
    "[1.00, 1.22, 1.07, 1.03],\n",
    "[1.00, 0.93, 0.97, 0.92],\n",
    "[1.00, 1.11, 1.56, 1.52],\n",
    "[1.00, .76, 0.77, 0.90],\n",
    "[1.00, 0.92, 0.84, 1.01],\n",
    "[1.00, 0.88, 1.22, 1.34]])\n",
    "\n",
    "cash_flows = value_option_schwarz(M,K,path_matrix, r, realizations, option=\"put\")\n",
    "\n",
    "for time in range(cash_flows.shape[1]):\n",
    "    print(time)\n",
    "    cash_flows[:,time]*=np.exp(-r*time)\n",
    "print(np.sum(cash_flows[1:])/realizations)\n",
    "\n",
    "cash_flows = value_option_schwarz_test(M,K,path_matrix, r, realizations, option=\"put\")\n",
    "\n",
    "for time in range(cash_flows.shape[1]):\n",
    "    print(time)\n",
    "    cash_flows[:,time]*=np.exp(-r*time)\n",
    "print(np.sum(cash_flows[1:])/realizations)"
   ]
  }
 ],
 "metadata": {
  "kernelspec": {
   "display_name": "Python 3 (ipykernel)",
   "language": "python",
   "name": "python3"
  },
  "language_info": {
   "codemirror_mode": {
    "name": "ipython",
    "version": 3
   },
   "file_extension": ".py",
   "mimetype": "text/x-python",
   "name": "python",
   "nbconvert_exporter": "python",
   "pygments_lexer": "ipython3",
   "version": "3.10.4"
  }
 },
 "nbformat": 4,
 "nbformat_minor": 5
}
