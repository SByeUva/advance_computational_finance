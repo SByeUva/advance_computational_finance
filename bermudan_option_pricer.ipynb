{
 "cells": [
  {
   "cell_type": "markdown",
   "id": "7e538ce4",
   "metadata": {},
   "source": [
    "# American and Bermudan Option pricer"
   ]
  },
  {
   "cell_type": "code",
   "execution_count": 1,
   "id": "58183e58",
   "metadata": {},
   "outputs": [],
   "source": [
    "# Packages used\n",
    "import numpy as np\n",
    "import matplotlib.pyplot as plt\n",
    "from scipy import odr\n",
    "from helper import GBM_Euler, value_option_schwarz, value_option_schwarz_test, value_option_bermudan"
   ]
  },
  {
   "cell_type": "markdown",
   "id": "aba344ff",
   "metadata": {},
   "source": [
    "## Simulations Run with Data from paper\n",
    "\n",
    "American option should be priced at .1144"
   ]
  },
  {
   "cell_type": "code",
   "execution_count": 2,
   "id": "3371e58d",
   "metadata": {},
   "outputs": [],
   "source": [
    "# Parameters\n",
    "K=1.1; M=4; r=.06; realizations=8\n",
    "\n",
    "# Matrix\n",
    "path_matrix = np.array([\n",
    "[1.00, 1.09, 1.08, 1.34],\n",
    "[1.00, 1.16, 1.26, 1.54],\n",
    "[1.00, 1.22, 1.07, 1.03],\n",
    "[1.00, 0.93, 0.97, 0.92],\n",
    "[1.00, 1.11, 1.56, 1.52],\n",
    "[1.00, .76, 0.77, 0.90],\n",
    "[1.00, 0.92, 0.84, 1.01],\n",
    "[1.00, 0.88, 1.22, 1.34]])"
   ]
  },
  {
   "cell_type": "code",
   "execution_count": 3,
   "id": "518fe3c0",
   "metadata": {},
   "outputs": [
    {
     "name": "stdout",
     "output_type": "stream",
     "text": [
      "Price of American Option is: 0.11665163113684986\n"
     ]
    }
   ],
   "source": [
    "# Generate cash flows under Longstaff-Schwarz\n",
    "cash_flows = value_option_schwarz(M,K,path_matrix, r, realizations, option=\"put\")\n",
    "\n",
    "# Discount cash flows\n",
    "for time in range(cash_flows.shape[1]):\n",
    "    cash_flows[:,time]*=np.exp(-r*time)\n",
    "print(f'Price of American Option is: {np.sum(cash_flows[0:])/realizations}')"
   ]
  },
  {
   "cell_type": "code",
   "execution_count": 4,
   "id": "25774ac4",
   "metadata": {},
   "outputs": [
    {
     "name": "stdout",
     "output_type": "stream",
     "text": [
      "Price of American Option is: 0.11443433004505696\n"
     ]
    }
   ],
   "source": [
    "cash_flows_test = value_option_schwarz_test(M,K,path_matrix, r, realizations, option=\"put\")\n",
    "\n",
    "# Discount cash flows\n",
    "for time in range(cash_flows.shape[1]):\n",
    "    cash_flows_test[:,time]*=np.exp(-r*time)\n",
    "print(f'Price of American Option is: {np.sum(cash_flows_test[0:])/realizations}')    "
   ]
  },
  {
   "cell_type": "code",
   "execution_count": 5,
   "id": "db2ce593",
   "metadata": {},
   "outputs": [
    {
     "name": "stdout",
     "output_type": "stream",
     "text": [
      "Price of Bermudan Option is: 0.11561153571203728\n"
     ]
    }
   ],
   "source": [
    "# Unit test Bermudian pricer by giving it same amount of exericse options as American\n",
    "exercise_dates = [1,2,3,4]\n",
    "cash_flow_bermudan = value_option_bermudan(M, K, path_matrix, r, realizations, exercise_dates, option=\"put\")\n",
    "\n",
    "for time in range(cash_flow_bermudan.shape[1]):\n",
    "    cash_flow_bermudan[:,time] *= np.exp(-r*time)\n",
    "print(f'Price of Bermudan Option is: {np.sum(cash_flow_bermudan[0:])/realizations}')    "
   ]
  },
  {
   "cell_type": "code",
   "execution_count": 6,
   "id": "3d7b91bf",
   "metadata": {},
   "outputs": [
    {
     "name": "stdout",
     "output_type": "stream",
     "text": [
      "Price of Bermudan Option is: 0.056380739270260896\n"
     ]
    }
   ],
   "source": [
    "# Fewer exercise points should lead to lower option price\n",
    "exercise_dates = [2,3]\n",
    "cash_flow_bermudan = value_option_bermudan(M, K, path_matrix, r, realizations, exercise_dates, option=\"put\")\n",
    "\n",
    "for time in range(cash_flow_bermudan.shape[1]):\n",
    "    cash_flow_bermudan[:,time] *= np.exp(-r*time)\n",
    "print(f'Price of Bermudan Option is: {np.sum(cash_flow_bermudan[0:])/realizations}')    "
   ]
  },
  {
   "cell_type": "markdown",
   "id": "fa7f14bb",
   "metadata": {},
   "source": [
    "## Simulation based on GBM"
   ]
  },
  {
   "cell_type": "code",
   "execution_count": 112,
   "id": "c7beb285",
   "metadata": {},
   "outputs": [],
   "source": [
    "# Variables used\n",
    "T = 1\n",
    "K = 95\n",
    "S = 100\n",
    "M = 100\n",
    "sigma = 0.2\n",
    "r = 0.06/M\n",
    "realizations = 100000\n",
    "exercise_dates = np.array([2,4,6,8])"
   ]
  },
  {
   "cell_type": "code",
   "execution_count": 113,
   "id": "c3ac6a73",
   "metadata": {},
   "outputs": [],
   "source": [
    "# Generate stock scenarios\n",
    "s_all = np.array([np.array(GBM_Euler(T, S, sigma, r, M)) for x in range(realizations)])"
   ]
  },
  {
   "cell_type": "code",
   "execution_count": 114,
   "id": "e405294b",
   "metadata": {},
   "outputs": [],
   "source": [
    "# Generate path matrix\n",
    "path_matrix = np.zeros((realizations, M))\n",
    "for realization in range(realizations):\n",
    "    path_matrix[realization,:] = s_all[realization]"
   ]
  },
  {
   "cell_type": "code",
   "execution_count": null,
   "id": "ee7dd97e",
   "metadata": {},
   "outputs": [],
   "source": []
  },
  {
   "cell_type": "code",
   "execution_count": 115,
   "id": "1284b3a7",
   "metadata": {},
   "outputs": [
    {
     "name": "stdout",
     "output_type": "stream",
     "text": [
      "5.091211371341537\n"
     ]
    }
   ],
   "source": [
    "option_cash_flow = value_option_schwarz(M,K,path_matrix, r, realizations,option=\"call\")\n",
    "\n",
    "for time in range(option_cash_flow.shape[1]):\n",
    "    option_cash_flow[:,time]*=np.exp(-r*time)\n",
    "    \n",
    "print(np.sum(option_cash_flow[1:])/realizations)"
   ]
  },
  {
   "cell_type": "code",
   "execution_count": 116,
   "id": "79b874ec",
   "metadata": {},
   "outputs": [],
   "source": [
    "option_cash_flow = value_option_schwarz(M,K,path_matrix, r, realizations,option=\"call\")\n"
   ]
  },
  {
   "cell_type": "code",
   "execution_count": 117,
   "id": "03a34cf9",
   "metadata": {},
   "outputs": [],
   "source": [
    "def option_pricer(option_cash_flow, realizations, M, r):\n",
    "    '''\n",
    "    Take option cash flow matrix, discount time step and calculate the average and standard devation\n",
    "    Input: cash flow matrix, realisations, time points, risk free interest rate\n",
    "    Output: Option price +/- std\n",
    "    '''\n",
    "    \n",
    "    # Discount \n",
    "    for time in range(option_cash_flow.shape[1]):\n",
    "        option_cash_flow[:,time] *= np.exp(-r*time)\n",
    "    \n",
    "    # Subtract values which are not zero and create vector to compute first and second moment\n",
    "    final_price = np.zeros(realizations)\n",
    "    \n",
    "    for i in range(realizations):\n",
    "        for j in range(M):\n",
    "            if option_cash_flow[i][j] != 0:\n",
    "                final_price[i] = option_cash_flow[i][j]\n",
    "    \n",
    "    return [np.mean(final_price), np.std(final_price)]"
   ]
  },
  {
   "cell_type": "code",
   "execution_count": 118,
   "id": "bef1f12d",
   "metadata": {},
   "outputs": [
    {
     "data": {
      "text/plain": [
       "[5.091237690670511, 2.1279856167843723]"
      ]
     },
     "execution_count": 118,
     "metadata": {},
     "output_type": "execute_result"
    }
   ],
   "source": [
    "option_pricer(option_cash_flow, realizations, M, r)"
   ]
  },
  {
   "cell_type": "code",
   "execution_count": 119,
   "id": "e2f8f81b",
   "metadata": {},
   "outputs": [
    {
     "name": "stdout",
     "output_type": "stream",
     "text": [
      "9.803907921379512\n"
     ]
    }
   ],
   "source": [
    "cash_flows_bermudan = value_option_bermudan(M, K, path_matrix, r, realizations, exercise_dates, option = \"call\")\n",
    "\n",
    "\n",
    "for time in range(cash_flows_bermudan.shape[1]):\n",
    "    cash_flows_bermudan[:,time]*=np.exp(-r*time)\n",
    "    \n",
    "print(np.sum(cash_flows_bermudan[1:])/realizations)"
   ]
  },
  {
   "cell_type": "code",
   "execution_count": 120,
   "id": "afe63f7b",
   "metadata": {},
   "outputs": [],
   "source": [
    "cash_flows_bermudan = value_option_bermudan(M, K, path_matrix, r, realizations, exercise_dates, option = \"call\")\n"
   ]
  },
  {
   "cell_type": "code",
   "execution_count": 121,
   "id": "df30770d",
   "metadata": {},
   "outputs": [
    {
     "data": {
      "text/plain": [
       "[9.80400561548188, 13.240573527859242]"
      ]
     },
     "execution_count": 121,
     "metadata": {},
     "output_type": "execute_result"
    }
   ],
   "source": [
    "option_pricer(cash_flows_bermudan, realizations, M, r)"
   ]
  },
  {
   "cell_type": "code",
   "execution_count": null,
   "id": "741ddc15",
   "metadata": {},
   "outputs": [],
   "source": []
  }
 ],
 "metadata": {
  "kernelspec": {
   "display_name": "Python 3 (ipykernel)",
   "language": "python",
   "name": "python3"
  },
  "language_info": {
   "codemirror_mode": {
    "name": "ipython",
    "version": 3
   },
   "file_extension": ".py",
   "mimetype": "text/x-python",
   "name": "python",
   "nbconvert_exporter": "python",
   "pygments_lexer": "ipython3",
   "version": "3.9.7"
  }
 },
 "nbformat": 4,
 "nbformat_minor": 5
}
