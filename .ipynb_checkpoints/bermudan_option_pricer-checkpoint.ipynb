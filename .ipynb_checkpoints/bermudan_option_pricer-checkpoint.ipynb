{
 "cells": [
  {
   "cell_type": "markdown",
   "id": "7e538ce4",
   "metadata": {},
   "source": [
    "# American and Bermudan Option pricer"
   ]
  },
  {
   "cell_type": "code",
   "execution_count": 1,
   "id": "58183e58",
   "metadata": {},
   "outputs": [],
   "source": [
    "# Packages used\n",
    "import numpy as np\n",
    "import matplotlib.pyplot as plt\n",
    "from scipy import odr\n",
    "from helper import *\n",
    "import keras\n",
    "from scipy.stats import norm\n",
    "import pandas as pd\n",
    "import seaborn as sns\n",
    "from tqdm import tqdm"
   ]
  },
  {
   "cell_type": "code",
   "execution_count": 2,
   "id": "b6dc98f4-6f39-44bd-9bb5-da4c4f857b1b",
   "metadata": {},
   "outputs": [],
   "source": [
    "def GBM_exact(T, S, sigma, r, M):\n",
    "    S_all = []\n",
    "    S_all.append(S)\n",
    "    dt = T/M\n",
    "    Zm = np.random.normal(size=M)\n",
    "    for i in range(M-1):\n",
    "        S_all.append(S_all[i] * np.exp((r-0.5*sigma**2) * dt + sigma * np.sqrt(dt) * Zm[i])) \n",
    "    return S_all"
   ]
  },
  {
   "cell_type": "markdown",
   "id": "aba344ff",
   "metadata": {
    "tags": []
   },
   "source": [
    "## Simulations Run with Data from paper\n",
    "\n",
    "American option should be priced at .1144"
   ]
  },
  {
   "cell_type": "code",
   "execution_count": 3,
   "id": "3371e58d",
   "metadata": {},
   "outputs": [],
   "source": [
    "# Parameters\n",
    "K=1.1; M=4; r=.06; realizations=8; T=M\n",
    "\n",
    "# Matrix\n",
    "path_matrix = np.array([\n",
    "[1.00, 1.09, 1.08, 1.34],\n",
    "[1.00, 1.16, 1.26, 1.54],\n",
    "[1.00, 1.22, 1.07, 1.03],\n",
    "[1.00, 0.93, 0.97, 0.92],\n",
    "[1.00, 1.11, 1.56, 1.52],\n",
    "[1.00, .76, 0.77, 0.90],\n",
    "[1.00, 0.92, 0.84, 1.01],\n",
    "[1.00, 0.88, 1.22, 1.34]])"
   ]
  },
  {
   "cell_type": "code",
   "execution_count": 4,
   "id": "518fe3c0",
   "metadata": {},
   "outputs": [
    {
     "name": "stdout",
     "output_type": "stream",
     "text": [
      "Price of American Option is: 0.11443433004505696\n"
     ]
    }
   ],
   "source": [
    "# Generate cash flows under Longstaff-Schwarz\n",
    "[cash_flows, somehting_else]= value_option_schwarz(T,M,K,path_matrix, r, realizations, option=\"put\")\n",
    "\n",
    "# Discount cash flows\n",
    "for time in range(cash_flows.shape[1]):\n",
    "    cash_flows[:,time]*=np.exp(-r*time)\n",
    "print(f'Price of American Option is: {np.sum(cash_flows[0:])/realizations}')"
   ]
  },
  {
   "cell_type": "code",
   "execution_count": 5,
   "id": "25774ac4",
   "metadata": {},
   "outputs": [
    {
     "name": "stdout",
     "output_type": "stream",
     "text": [
      "Price of American Option is: 0.11443433004505696\n"
     ]
    }
   ],
   "source": [
    "cash_flows_test = value_option_schwarz_test(M,K,path_matrix, r, realizations, option=\"put\")\n",
    "\n",
    "# Discount cash flows\n",
    "for time in range(cash_flows.shape[1]):\n",
    "    cash_flows_test[:,time]*=np.exp(-r*time)\n",
    "print(f'Price of American Option is: {np.sum(cash_flows_test[0:])/realizations}')    "
   ]
  },
  {
   "cell_type": "code",
   "execution_count": 6,
   "id": "db2ce593",
   "metadata": {},
   "outputs": [
    {
     "name": "stdout",
     "output_type": "stream",
     "text": [
      "Price of Bermudan Option is: 0.11561153571203728\n"
     ]
    }
   ],
   "source": [
    "# Unit test Bermudian pricer by giving it same amount of exericse options as American\n",
    "exercise_dates = [1,2,3,4]\n",
    "cash_flow_bermudan = value_option_bermudan(M, K, path_matrix, r, realizations, exercise_dates, option=\"put\")\n",
    "\n",
    "for time in range(cash_flow_bermudan.shape[1]):\n",
    "    cash_flow_bermudan[:,time] *= np.exp(-r*time)\n",
    "print(f'Price of Bermudan Option is: {np.sum(cash_flow_bermudan[0:])/realizations}')    "
   ]
  },
  {
   "cell_type": "code",
   "execution_count": 7,
   "id": "3d7b91bf",
   "metadata": {},
   "outputs": [
    {
     "name": "stdout",
     "output_type": "stream",
     "text": [
      "Price of Bermudan Option is: 0.056380739270260896\n"
     ]
    }
   ],
   "source": [
    "# Fewer exercise points should lead to lower option price\n",
    "exercise_dates = [2,3,4]\n",
    "cash_flow_bermudan = value_option_bermudan(M, K, path_matrix, r, realizations, exercise_dates, option=\"put\")\n",
    "\n",
    "for time in range(cash_flow_bermudan.shape[1]):\n",
    "    cash_flow_bermudan[:,time] *= np.exp(-r*time)\n",
    "print(f'Price of Bermudan Option is: {np.sum(cash_flow_bermudan[0:])/realizations}')    "
   ]
  },
  {
   "cell_type": "code",
   "execution_count": 8,
   "id": "1cbc3512-ef59-4864-8cfe-b739e9e66a01",
   "metadata": {},
   "outputs": [
    {
     "name": "stdout",
     "output_type": "stream",
     "text": [
      "Price of Bermudan Option is: 0.11561153571203728\n"
     ]
    }
   ],
   "source": [
    "# Unit test Bermudian pricer by giving it same amount of exericse options as American\n",
    "exercise_dates = [1,2,3,4]\n",
    "cash_flow_bermudan = value_option_bermudan(M, K, path_matrix, r, realizations, exercise_dates, option=\"put\")\n",
    "\n",
    "for time in range(cash_flow_bermudan.shape[1]):\n",
    "    cash_flow_bermudan[:,time] *= np.exp(-r*time)\n",
    "print(f'Price of Bermudan Option is: {np.sum(cash_flow_bermudan[0:])/realizations}')  "
   ]
  },
  {
   "cell_type": "markdown",
   "id": "fa7f14bb",
   "metadata": {},
   "source": [
    "## Simulation based on GBM"
   ]
  },
  {
   "cell_type": "code",
   "execution_count": 12,
   "id": "c7beb285",
   "metadata": {},
   "outputs": [],
   "source": [
    "# Variables used\n",
    "T = M = N = 4\n",
    "K = 1.1\n",
    "S = 1\n",
    "sigma = 0.2\n",
    "r = 0.06\n",
    "realizations = 2000\n",
    "\n",
    "repititions = 30\n",
    "europeans = np.zeros(repititions)\n",
    "americans = np.zeros(repititions)\n",
    "dt = T/M\n"
   ]
  },
  {
   "cell_type": "code",
   "execution_count": 10,
   "id": "546daef9-4ff6-4e20-8cdf-0a99595ad4e2",
   "metadata": {},
   "outputs": [],
   "source": [
    "repititions = 30\n",
    "europeans = np.zeros(repititions)\n",
    "americans = np.zeros(repititions)\n",
    "dt = T/M\n",
    "\n",
    "\n",
    "for i in range(repititions):\n",
    "    s_all = np.array([np.array(GBM_exact(T, S, sigma, r, M)) for x in range(realizations)])\n",
    "    europeans[i] = np.sum(np.maximum(0,K-s_all[:,-1]))/realizations * np.exp(-r * T)\n",
    "    [option_cash_flow, cash_flows] = value_option_schwarz(T,M,K,s_all, r, realizations,order=2,option=\"put\")\n",
    "    \n",
    "    for time in range(option_cash_flow.shape[1]):\n",
    "        option_cash_flow[:,time]*=np.exp(-r*(time*dt))\n",
    "    americans[i] =  np.sum(option_cash_flow)/realizations"
   ]
  },
  {
   "cell_type": "code",
   "execution_count": 11,
   "id": "dc2998f1-f4b7-4e15-96ee-99be7b90c615",
   "metadata": {},
   "outputs": [
    {
     "data": {
      "text/plain": [
       "<AxesSubplot:>"
      ]
     },
     "execution_count": 11,
     "metadata": {},
     "output_type": "execute_result"
    },
    {
     "data": {
      "image/png": "[encoded data removed]",
      "text/plain": [
       "<Figure size 432x288 with 2 Axes>"
      ]
     },
     "metadata": {
      "needs_background": "light"
     },
     "output_type": "display_data"
    }
   ],
   "source": [
    "sns.heatmap(cash_flows)"
   ]
  },
  {
   "cell_type": "code",
   "execution_count": 12,
   "id": "3fc470b9-f9b5-45d8-8cc9-33008091034f",
   "metadata": {},
   "outputs": [
    {
     "data": {
      "text/plain": [
       "0.08971985221818492"
      ]
     },
     "execution_count": 12,
     "metadata": {},
     "output_type": "execute_result"
    }
   ],
   "source": [
    "np.mean(europeans)"
   ]
  },
  {
   "cell_type": "code",
   "execution_count": 13,
   "id": "263d9514-3946-45d4-8183-ffa24cbccf15",
   "metadata": {},
   "outputs": [
    {
     "data": {
      "text/plain": [
       "0.0005788308620589761"
      ]
     },
     "execution_count": 13,
     "metadata": {},
     "output_type": "execute_result"
    }
   ],
   "source": [
    "np.std(americans)/np.sqrt(repititions)"
   ]
  },
  {
   "cell_type": "code",
   "execution_count": 14,
   "id": "db63ca63-b909-4a9e-9e45-5ee5d0442ea8",
   "metadata": {},
   "outputs": [
    {
     "data": {
      "text/plain": [
       "0.19537047267703847"
      ]
     },
     "execution_count": 14,
     "metadata": {},
     "output_type": "execute_result"
    }
   ],
   "source": [
    "payoffs = np.maximum(K-s_all[:,:],0)\n",
    "dt = T/M\n",
    "\n",
    "for time in range(payoffs.shape[1]):\n",
    "    payoffs[:,time]*=np.exp(-r*(dt*time))\n",
    "    \n",
    "max_payoffs = []\n",
    "for path in range(payoffs.shape[0]):\n",
    "    max_payoffs.append(max(payoffs[path]))\n",
    "    \n",
    "np.mean(max_payoffs)"
   ]
  },
  {
   "cell_type": "code",
   "execution_count": 15,
   "id": "cd195f13-ba7b-4fe3-84f6-bba0ad186f30",
   "metadata": {},
   "outputs": [
    {
     "data": {
      "text/plain": [
       "0.12060065221395323"
      ]
     },
     "execution_count": 15,
     "metadata": {},
     "output_type": "execute_result"
    }
   ],
   "source": [
    "np.mean(americans)"
   ]
  },
  {
   "cell_type": "code",
   "execution_count": 16,
   "id": "cb8c3e5b-593f-4c49-ba6d-da3be7a82fec",
   "metadata": {},
   "outputs": [
    {
     "data": {
      "text/plain": [
       "0.0031703872012986242"
      ]
     },
     "execution_count": 16,
     "metadata": {},
     "output_type": "execute_result"
    }
   ],
   "source": [
    "np.std(americans)"
   ]
  },
  {
   "cell_type": "markdown",
   "id": "20422073-b690-4c48-a3f1-0327491c5ac4",
   "metadata": {},
   "source": [
    "### Neural Net"
   ]
  },
  {
   "cell_type": "code",
   "execution_count": 3,
   "id": "c47837b0-f685-429c-9d33-47ff0cc81258",
   "metadata": {},
   "outputs": [],
   "source": [
    "from keras.models import Sequential\n",
    "from keras.layers import Dense, Input\n",
    "import keras.optimizers as opt\n",
    "from keras.constraints import Constraint\n",
    "from keras import backend as keras_backend\n",
    "import tensorflow as tf"
   ]
  },
  {
   "cell_type": "code",
   "execution_count": 4,
   "id": "235ad58f-ea92-4f12-9104-d3ba6267539f",
   "metadata": {},
   "outputs": [],
   "source": [
    "'''\n",
    "Pricing options using Black-Scholes\n",
    "'''\n",
    "\n",
    "def d1(S0, r, delta, t0, t, k, sigma):\n",
    "    return 1/(sigma*np.sqrt(t-t0)) * (np.log(S0/k) + (r-delta+(sigma**2)/2)*(t-t0))\n",
    "\n",
    "def d2(S0, r, delta, t0, t, k, sigma):\n",
    "    return 1/(sigma*np.sqrt(t-t0)) * (np.log(S0/k) + (r-delta-(sigma**2)/2)*(t-t0))\n",
    "\n",
    "def BSMcall(S0, r, delta, t0, t, k, sigma):\n",
    "    return S0*np.exp(-delta*(t-t0))*norm.cdf(d1(S0, r, delta, t0, t, k, sigma)) - k*np.exp(-r*(t-t0))*norm.cdf(d2(S0, r, delta, t0, t, k, sigma))\n",
    "\n",
    "def BSMPut(S0, r, delta, t0, t, k, sigma):\n",
    "    return k*np.exp(-r*(t-t0))*norm.cdf(-d2(S0, r, delta, t0, t, k, sigma)) - S0*np.exp(-delta*(t-t0))*norm.cdf(-d1(S0, r, delta, t0, t, k, sigma))\n",
    "\n",
    "def fwdValue(S0, r, delta, t0, t, k):\n",
    "    return S0*np.exp(-delta*(t-t0)) - k*np.exp(-r*(t-t0))\n",
    "\n",
    "def depositPV(t0, t, p):\n",
    "    return p*np.exp(-r*(t-t0))"
   ]
  },
  {
   "cell_type": "code",
   "execution_count": 5,
   "id": "169aaefb-b6e2-4cfd-b27b-7447387dbf73",
   "metadata": {},
   "outputs": [],
   "source": [
    "'''\n",
    "Price a portfolio\n",
    "'''\n",
    "\n",
    "def identify_positions(wt_list, strike_list):\n",
    "    positions = np.where(np.logical_and(wt_list>0, strike_list<0), \"C\", \n",
    "                        np.where(np.logical_and(wt_list>0, strike_list>=0), \"F\", \n",
    "                                 np.where(np.logical_and(wt_list<0, strike_list>0), \"P\", \"N\")))\n",
    "    \n",
    "    pos = (np.array(np.unique(positions, return_counts=True)).T)\n",
    "    no_of_pos_dict = {\"C\":0 , \"P\":0, \"F\":0 , \"N\":0 }\n",
    "    \n",
    "    for i in range(0, len(pos[:,0])):\n",
    "        no_of_pos_dict[pos[i,0]] = int(pos[i,1])\n",
    "\n",
    "    return no_of_pos_dict[\"C\"], no_of_pos_dict[\"P\"], no_of_pos_dict[\"F\"], no_of_pos_dict[\"N\"], positions\n",
    "\n",
    "def find_instr_params(nn_strikes, inner_wts, outer_wts, outer_bias, positions, s_init):\n",
    "    strikes_array = np.where(positions == \"F\", \n",
    "                            - s_init * np.divide(np.abs(nn_strikes), np.abs(inner_wts)), \n",
    "                            s_init * np.divide(np.abs(nn_strikes), np.abs(inner_wts)))\n",
    "    deposit = outer_bias * s_init\n",
    "    pfl_weights = np.multiply(np.abs(inner_wts), outer_wts)\n",
    "    \n",
    "    return strikes_array, deposit, pfl_weights\n",
    "\n",
    "def static_hedge_value_nn(stock_vec, strike_list, positions, pfl_wts, deposit, \n",
    "                          s_init, r, delta, sigma, t):\n",
    "    strks = strike_list.reshape(1,-1)\n",
    "    non_neg_strks = np.abs(strks)\n",
    "    wts = pfl_wts.reshape(1,-1)\n",
    "    pos = positions.reshape(1,-1)\n",
    "    c_wt =   np.multiply(wts, np.where(pos==\"C\", 1, 0))\n",
    "    p_wt =   np.multiply(wts, np.where(pos==\"P\", 1, 0))\n",
    "    f_wt =   np.multiply(wts, np.where(pos==\"F\", 1, 0))\n",
    "    \n",
    "    stock_vec = stock_vec.reshape(-1,1)\n",
    "    #nn_static_hedge_value = np.sum(c_wt*(np.maximum(stock_vec-non_neg_strks,0)) + \n",
    "    #                         p_wt*(np.maximum(non_neg_strks-stock_vec,0)) + \n",
    "    #                         f_wt*(stock_vec-strks), axis=1) + deposit\n",
    "    \n",
    "    portfolio_price_vec = np.sum(c_wt*BSMcall(stock_vec, r, delta, 0, t, non_neg_strks, sigma) \n",
    "    + p_wt*BSMPut(stock_vec, r, delta, 0, t, non_neg_strks, sigma) \n",
    "    + f_wt*fwdValue(stock_vec, r, delta, 0, t, strks), axis=1) + (deposit * np.exp(-r*t))\n",
    "    \n",
    "    pvt0_nn = np.sum(c_wt*BSMcall(s_init, r, delta, 0, t, non_neg_strks, sigma) + \n",
    "                     p_wt*BSMPut(s_init, r, delta, 0, t, non_neg_strks, sigma) + \n",
    "                     f_wt*fwdValue(s_init, r, delta, 0, t, strks), axis=1) + (deposit * np.exp(-r*t))\n",
    "    \n",
    "    return portfolio_price_vec, pvt0_nn"
   ]
  },
  {
   "cell_type": "code",
   "execution_count": 31,
   "id": "c7b7ae3a-bf8f-406d-9e8d-4b20d99d2c09",
   "metadata": {},
   "outputs": [],
   "source": [
    "'''\n",
    "A class that fits neural network to payoff paths of a Bermudan Option\n",
    "'''\n",
    "\n",
    "class neural_bermudan_fitter:\n",
    "    def __init__(self, r, sigma, stock_paths, K, dates, option=\"put\", ittol=10, T=1, nodes=10, epochs=10, pre_trained_model=None, delta=0, learning_rate=.001):\n",
    "        self.stock_paths = stock_paths\n",
    "        self.K = K\n",
    "        assert all(earlier > later for earlier, later in zip(dates, dates[1:])), 'the dates should be in descending order'\n",
    "        self.dates = dates\n",
    "        \n",
    "        self.T=T\n",
    "        self.r = r\n",
    "        self.sigma = sigma\n",
    "        self.option = option.lower()\n",
    "        self.N = len(self.stock_paths)\n",
    "        self.M = len(self.dates)\n",
    "        self.num_stoch_movements = len(self.stock_paths[0])\n",
    "        self.nodes = nodes\n",
    "        self.epochs = epochs\n",
    "        self.ittol=ittol\n",
    "        \n",
    "        self.evaluate_final()\n",
    "        \n",
    "        #step 3 of Jain\n",
    "        self.beta = np.random.uniform(size=(self.N,1))\n",
    "        self.nnets = []\n",
    "        self.positions = []\n",
    "        if pre_trained_model:\n",
    "            self.nnets.append(pre_trained_model)\n",
    "        else:\n",
    "            self.learning_rate = learning_rate\n",
    "            self.setup_network()\n",
    "            \n",
    "        self.s_init = stock_paths[0,0]\n",
    "        self.V = np.zeros(self.N)\n",
    "        self.Q_hat = np.zeros(self.N)\n",
    "        self.callback = tf.keras.callbacks.EarlyStopping(monitor='loss', patience=30)\n",
    "        self.histories = []\n",
    "        self.opt_val = np.zeros((self.nodes, len(self.dates), self.N))\n",
    "        self.delta=delta\n",
    "        \n",
    "    def evaluate_final(self):\n",
    "        # step 2 of algorithm in Jain paper\n",
    "        if self.option == 'call':\n",
    "            self.h = tf.maximum(self.stock_paths[:,-1] - self.K,0)\n",
    "        else:\n",
    "            self.h = tf.maximum(self.K - self.stock_paths[:,-1],0)\n",
    "            \n",
    "    def setup_network(self):\n",
    "        nn = Sequential([\n",
    "                    Input(shape=(1)),\n",
    "                    Dense(self.nodes,activation='relu',trainable=True, kernel_initializer = 'random_uniform'),\n",
    "                    Dense(1,activation='linear',trainable=True, kernel_initializer=keras.initializers.RandomUniform(minval=-0.01, maxval=0.01, seed=None))\n",
    "                    ])\n",
    "        nn.compile(tf.optimizers.Adam(learning_rate=self.learning_rate), loss='mean_squared_error')\n",
    "        \n",
    "        if self.option==\"call\":\n",
    "            Y_train = np.maximum(self.stock_paths[:,-1] - self.K, 0)\n",
    "        else:\n",
    "            Y_train = np.maximum(self.K - self.stock_paths[:,-1], 0)\n",
    "\n",
    "        X_train = self.stock_paths[:,-1]\n",
    "        \n",
    "        callback = tf.keras.callbacks.EarlyStopping(monitor='loss', patience=30)\n",
    "        history = nn.fit(X_train.reshape(-1,1), Y_train.reshape(-1,1), epochs=500, verbose=0, callbacks=[callback])\n",
    "        if history.history['loss'][-1] > 1:\n",
    "            print(\"warning. NN didn't converge\")\n",
    "        \n",
    "        self.nnets.append(nn)\n",
    "    \n",
    "    def copy_network(self):\n",
    "        new_model = keras.models.clone_model(self.nnets[-1])\n",
    "        new_model.compile(tf.optimizers.Adam(learning_rate=self.learning_rate), loss='mean_squared_error')\n",
    "        new_model.set_weights(self.nnets[-1].get_weights())\n",
    "        self.nnets.append(new_model)\n",
    "        \n",
    "    def price_portfolio(self,m):\n",
    "        inner_wts = np.array(self.nnets[-1].layers[0].get_weights()[0]).reshape(-1)\n",
    "        nn_strikes_orig = np.array(self.nnets[-1].layers[0].get_weights()[1]).reshape(-1)\n",
    "        outer_wts = np.array(self.nnets[-1].layers[1].get_weights()[0]).reshape(-1)\n",
    "        outer_bias = np.array(self.nnets[-1].layers[1].get_weights()[1]).reshape(-1)\n",
    "        \n",
    "        #Genererate Derivative contract equivalents from weights\n",
    "        #global no_of_calls, no_of_puts, no_of_fwds, nulls, positions, strike_arry, deposit, pfl_wts\n",
    "        no_of_calls, no_of_puts, no_of_fwds, no_of_nulls, positions = identify_positions(inner_wts, nn_strikes_orig)\n",
    "        self.positions.append(positions)\n",
    "        strike_array, deposit, pfl_wts = find_instr_params(nn_strikes_orig, inner_wts, outer_wts, outer_bias, positions, self.s_init)\n",
    "        deposit_list = np.array([deposit for i in range(0, self.nodes)])\n",
    "        params = [strike_array.reshape(self.nodes,1), deposit_list.reshape(self.nodes,1), pfl_wts.reshape(self.nodes,1)]\n",
    "\n",
    "        #Generate Hedge Values\n",
    "        #stock_vec = np.array(df_sim_stocks_test.iloc[-1,:]).reshape(-1)\n",
    "        self.Q_hat, self.pvt0_nn = static_hedge_value_nn(self.stock_paths[:,self.dates[m+1]], strike_array, positions, pfl_wts, deposit, \n",
    "                                                               self.s_init, self.r, self.delta, self.sigma, self.t)\n",
    "        \n",
    "    def run_pricing_simulation(self):  \n",
    "        # time to maturity for european options\n",
    "        self.t = 1\n",
    "        for m in range(len(self.dates)-2):\n",
    "            #step 5\n",
    "            self.price_portfolio(m)\n",
    "            \n",
    "            self.copy_network()\n",
    "            self.fit_model(m)\n",
    "            \n",
    "        self.price_portfolio(m)\n",
    "        #self.pvt0_nn*=np.exp(self.r*-1)\n",
    "                  \n",
    "            \n",
    "    def fit_model(self,m):\n",
    "        Y_train = np.zeros(self.N)\n",
    "        if self.option=='call':\n",
    "            self.h = np.maximum(0, self.stock_paths[:,self.dates[m+1]] - self.K)\n",
    "            for i, value in enumerate(self.h):\n",
    "                if value > self.Q_hat[i]:\n",
    "                    Y_train[i] = value\n",
    "                else:\n",
    "                    Y_train[i] = self.Q_hat[i]\n",
    "            #print(Y_train)\n",
    "        else:\n",
    "            self.h = np.maximum(0, self.K - self.stock_paths[:,self.dates[m+1]])\n",
    "            try:\n",
    "                for i, value in enumerate(self.h):\n",
    "                    if value > self.Q_hat[i]:\n",
    "                        Y_train[i] = value\n",
    "                    else:\n",
    "                        Y_train[i] = self.Q_hat[i]\n",
    "            except:\n",
    "                print(self.h)\n",
    "            #print(Y_train)\n",
    "            \n",
    "        X_train = np.array(self.stock_paths[:,self.dates[m+1]])\n",
    "        self.histories.append(self.nnets[-1].fit(X_train.reshape(-1,1), Y_train.reshape(-1,1), epochs=self.epochs, callbacks=[self.callback], verbose=0))\n",
    "        i=0\n",
    "        while self.histories[-1].history['loss'][-1] > 10 and i< self.ittol:\n",
    "            i+=1\n",
    "            print(\"warning. NN didn't converge\")\n",
    "            print(f\"loss: {self.histories[-1].history['loss'][-1]}, time: {date}\")\n",
    "            self.histories.append(self.nnets[-1].fit(X_train.reshape(-1,1), Y_train.reshape(-1,1), epochs=self.epochs, callbacks=[self.callback], verbose=0))\n"
   ]
  },
  {
   "cell_type": "code",
   "execution_count": 13,
   "id": "3c2d04e1",
   "metadata": {},
   "outputs": [],
   "source": [
    "s_all = np.array([np.array(GBM_exact(T, S, sigma, r, M)) for x in range(realizations)])"
   ]
  },
  {
   "cell_type": "code",
   "execution_count": 7,
   "id": "5d7ac7e4-8383-4786-abd3-3b49303c78bb",
   "metadata": {},
   "outputs": [],
   "source": [
    "# Pre train a NN at the standard payoffs"
   ]
  },
  {
   "cell_type": "code",
   "execution_count": 8,
   "id": "416a8f68-24ea-4ea3-891f-e84659657745",
   "metadata": {},
   "outputs": [],
   "source": [
    "nodes = 20\n",
    "dates = [3,2,1,0]"
   ]
  },
  {
   "cell_type": "code",
   "execution_count": 14,
   "id": "a629d713-1f26-47e4-84d7-d547000f6b3b",
   "metadata": {},
   "outputs": [],
   "source": [
    "nf = neural_bermudan_fitter(r, sigma, s_all,  K, dates, epochs = 1000, nodes=nodes)"
   ]
  },
  {
   "cell_type": "code",
   "execution_count": 15,
   "id": "2acf4eeb-cde5-437a-a0f1-1b102701eab1",
   "metadata": {},
   "outputs": [
    {
     "name": "stderr",
     "output_type": "stream",
     "text": [
      "C:\\Users\\sebas\\AppData\\Local\\Temp/ipykernel_13160/2176255774.py:6: RuntimeWarning: divide by zero encountered in true_divide\n",
      "  return 1/(sigma*np.sqrt(t-t0)) * (np.log(S0/k) + (r-delta+(sigma**2)/2)*(t-t0))\n",
      "C:\\Users\\sebas\\AppData\\Local\\Temp/ipykernel_13160/2176255774.py:9: RuntimeWarning: divide by zero encountered in true_divide\n",
      "  return 1/(sigma*np.sqrt(t-t0)) * (np.log(S0/k) + (r-delta-(sigma**2)/2)*(t-t0))\n"
     ]
    }
   ],
   "source": [
    "nf.run_pricing_simulation()"
   ]
  },
  {
   "cell_type": "code",
   "execution_count": 16,
   "id": "913549c0-021c-4373-b4cf-89297af743d2",
   "metadata": {},
   "outputs": [
    {
     "data": {
      "text/plain": [
       "[<matplotlib.lines.Line2D at 0x20da9ba23a0>]"
      ]
     },
     "execution_count": 16,
     "metadata": {},
     "output_type": "execute_result"
    },
    {
     "data": {
      "image/png": "[encoded data removed]",
      "text/plain": [
       "<Figure size 432x288 with 1 Axes>"
      ]
     },
     "metadata": {
      "needs_background": "light"
     },
     "output_type": "display_data"
    }
   ],
   "source": [
    "plt.plot(np.linspace(0.2,1.4,1000), nf.nnets[0].predict(np.linspace(0.2,1.4,1000)))"
   ]
  },
  {
   "cell_type": "code",
   "execution_count": 17,
   "id": "d90a997e-3e68-493f-add4-68f1597f0a01",
   "metadata": {},
   "outputs": [
    {
     "data": {
      "text/plain": [
       "[<matplotlib.lines.Line2D at 0x20dabca63d0>]"
      ]
     },
     "execution_count": 17,
     "metadata": {},
     "output_type": "execute_result"
    },
    {
     "data": {
      "image/png": "[encoded data removed]",
      "text/plain": [
       "<Figure size 432x288 with 1 Axes>"
      ]
     },
     "metadata": {
      "needs_background": "light"
     },
     "output_type": "display_data"
    }
   ],
   "source": [
    "plt.plot(np.linspace(0.2,1.4,1000), nf.nnets[1].predict(np.linspace(0.2,1.4,1000)))"
   ]
  },
  {
   "cell_type": "code",
   "execution_count": 18,
   "id": "8fd0cad7-b2fc-4fa8-837f-ed97966fa851",
   "metadata": {},
   "outputs": [
    {
     "data": {
      "text/plain": [
       "[<matplotlib.lines.Line2D at 0x20da6418190>]"
      ]
     },
     "execution_count": 18,
     "metadata": {},
     "output_type": "execute_result"
    },
    {
     "data": {
      "image/png": "[encoded data removed]",
      "text/plain": [
       "<Figure size 432x288 with 1 Axes>"
      ]
     },
     "metadata": {
      "needs_background": "light"
     },
     "output_type": "display_data"
    }
   ],
   "source": [
    "plt.plot(np.linspace(0.2,1.4,1000), nf.nnets[-1].predict(np.linspace(0.2,1.4,1000)))"
   ]
  },
  {
   "cell_type": "code",
   "execution_count": 19,
   "id": "cbfd2daa-fd9e-4349-b2d9-9fa43b2101bf",
   "metadata": {},
   "outputs": [
    {
     "data": {
      "text/plain": [
       "array([0.11485034])"
      ]
     },
     "execution_count": 19,
     "metadata": {},
     "output_type": "execute_result"
    }
   ],
   "source": [
    "nf.pvt0_nn"
   ]
  },
  {
   "cell_type": "code",
   "execution_count": null,
   "id": "1e51d32c-8267-4edc-b82a-7a4ff1e69bac",
   "metadata": {},
   "outputs": [],
   "source": []
  },
  {
   "cell_type": "code",
   "execution_count": 46,
   "id": "edbd3709-520d-4f66-87c8-ff6edcbd2b41",
   "metadata": {},
   "outputs": [
    {
     "name": "stderr",
     "output_type": "stream",
     "text": [
      "  0%|                                                                                            | 0/3 [00:00<?, ?it/s]C:\\Users\\sebas\\AppData\\Local\\Temp/ipykernel_13160/2176255774.py:6: RuntimeWarning: divide by zero encountered in true_divide\n",
      "  return 1/(sigma*np.sqrt(t-t0)) * (np.log(S0/k) + (r-delta+(sigma**2)/2)*(t-t0))\n",
      "C:\\Users\\sebas\\AppData\\Local\\Temp/ipykernel_13160/2176255774.py:9: RuntimeWarning: divide by zero encountered in true_divide\n",
      "  return 1/(sigma*np.sqrt(t-t0)) * (np.log(S0/k) + (r-delta-(sigma**2)/2)*(t-t0))\n",
      "100%|████████████████████████████████████████████████████████████████████████████████████| 3/3 [04:35<00:00, 91.83s/it]\n"
     ]
    }
   ],
   "source": [
    "# study different Ks\n",
    "realizations = 1000\n",
    "repititions = 3\n",
    "americans = np.zeros(repititions)\n",
    "dt = T/M\n",
    "S=1\n",
    "Ks= [1,1.1,1.2]\n",
    "europeans = []\n",
    "lower_bounds = []\n",
    "upper_bounds = []\n",
    "nn_values=[]\n",
    "s_init=S\n",
    "no_of_options=nodes\n",
    "delta=0\n",
    "t=1\n",
    "\n",
    "for K in tqdm(Ks):\n",
    "    europeans.append(BSM_put(S, K, r, sigma, T))\n",
    "    for i in range(repititions):\n",
    "        s_all = np.array([np.array(GBM_exact(T, S, sigma, r, M)) for x in range(realizations)])\n",
    "        [option_cash_flow, cash_flows] = value_option_schwarz(T,M,K,s_all, r, realizations,order=2,option=\"put\")\n",
    "        payoffs = np.maximum(K-s_all[:,:],0)\n",
    "        dt = T/M\n",
    "\n",
    "        for time in range(option_cash_flow.shape[1]):\n",
    "            payoffs[:,time]*=np.exp(-r*(dt*time))\n",
    "            option_cash_flow[:,time]*=np.exp(-r*(time*dt))\n",
    "            \n",
    "        max_payoffs = []\n",
    "        for path in range(payoffs.shape[0]):\n",
    "            max_payoffs.append(max(payoffs[path]))\n",
    "            \n",
    "        americans[i] =  np.sum(option_cash_flow)/realizations\n",
    "            \n",
    "        nf = neural_bermudan_fitter(r, sigma, s_all,  K, dates, epochs = 1000, nodes=nodes)\n",
    "        nf.run_pricing_simulation()\n",
    "        \n",
    "        nn_values.append(nf.pvt0_nn)\n",
    "        \n",
    "    lower_bounds.append(np.mean(americans))\n",
    "    upper_bounds.append(np.mean(max_payoffs))"
   ]
  },
  {
   "cell_type": "code",
   "execution_count": 47,
   "id": "2d014c90-fecf-43d5-98e5-704469e8809d",
   "metadata": {},
   "outputs": [],
   "source": [
    "nn_together = []\n",
    "for i in range(repititions):\n",
    "    nn_together.append(np.mean(nn_values[i*repititions:(i+1)*repititions]))"
   ]
  },
  {
   "cell_type": "code",
   "execution_count": 49,
   "id": "4027d50e-7e2f-4e3a-9113-dcde4cd34cdf",
   "metadata": {},
   "outputs": [
    {
     "data": {
      "image/png": "[encoded data removed]",
      "text/plain": [
       "<Figure size 432x288 with 1 Axes>"
      ]
     },
     "metadata": {
      "needs_background": "light"
     },
     "output_type": "display_data"
    }
   ],
   "source": [
    "plt.plot(Ks, upper_bounds, label='Upper Bound')\n",
    "plt.plot(Ks, lower_bounds, label='Lower Bound')\n",
    "plt.plot(Ks, nn_together, label = 'Neural Pricer')\n",
    "#plt.plot(Ks, np.mean(nn_values), label = 'Neural Pricer')\n",
    "plt.legend()\n",
    "plt.title(\"Estimates of the NN for a Put with S0=1\")\n",
    "plt.ylabel(\"Put value\")\n",
    "plt.xlabel(\"K\")\n",
    "plt.grid()\n",
    "plt.savefig(\"figures/NN_pricer.pdf\", dpi=300)"
   ]
  },
  {
   "cell_type": "markdown",
   "id": "8f934003",
   "metadata": {},
   "source": [
    "## Convergence when # nodes increases"
   ]
  },
  {
   "cell_type": "code",
   "execution_count": 52,
   "id": "8e067a8e",
   "metadata": {},
   "outputs": [],
   "source": [
    "#Study different # nodes\n",
    "S=1\n",
    "K=1.1\n",
    "Nnodes = np.arange(1, 20)\n",
    "#Nnodes = np.linspace(5,30,6)\n",
    "nn_values=[]\n",
    "s_init=S\n",
    "#no_of_options=nodes\n",
    "delta=0\n",
    "t=1"
   ]
  },
  {
   "cell_type": "code",
   "execution_count": 53,
   "id": "ba0c5801",
   "metadata": {},
   "outputs": [],
   "source": [
    "s_all = np.array([np.array(GBM_exact(T, S, sigma, r, M)) for x in range(realizations)])"
   ]
  },
  {
   "cell_type": "code",
   "execution_count": null,
   "id": "9f407bab",
   "metadata": {},
   "outputs": [
    {
     "name": "stderr",
     "output_type": "stream",
     "text": [
      "  0%|                                                                                           | 0/19 [00:00<?, ?it/s]C:\\Users\\sebas\\AppData\\Local\\Temp/ipykernel_13160/2176255774.py:6: RuntimeWarning: divide by zero encountered in true_divide\n",
      "  return 1/(sigma*np.sqrt(t-t0)) * (np.log(S0/k) + (r-delta+(sigma**2)/2)*(t-t0))\n",
      "C:\\Users\\sebas\\AppData\\Local\\Temp/ipykernel_13160/2176255774.py:9: RuntimeWarning: divide by zero encountered in true_divide\n",
      "  return 1/(sigma*np.sqrt(t-t0)) * (np.log(S0/k) + (r-delta-(sigma**2)/2)*(t-t0))\n",
      " 53%|███████████████████████████████████████████▏                                      | 10/19 [05:36<06:43, 44.88s/it]"
     ]
    }
   ],
   "source": [
    "results_convergence = []\n",
    "\n",
    "for nodes in tqdm(Nnodes):\n",
    "\n",
    "    \n",
    "    nodes = int(nodes)\n",
    "    # Set up neural network\n",
    "    nn = Sequential([\n",
    "            Input(shape=(1)),\n",
    "            Dense(nodes,activation='relu',trainable=True, kernel_initializer = 'random_uniform'),\n",
    "            Dense(1,activation='linear',trainable=True, kernel_initializer=keras.initializers.RandomUniform(minval=-0.01, maxval=0.01, seed=None))\n",
    "            ])\n",
    "    nn.compile(tf.optimizers.Adam(learning_rate=0.001), loss='mean_squared_error')\n",
    "    \n",
    "    # Train die nn\n",
    "    Y_train = np.maximum(K - s_all[:,-1], 0)\n",
    "    X_train = s_all[:,-1]\n",
    "\n",
    "    callback = tf.keras.callbacks.EarlyStopping(monitor='loss', patience=30)\n",
    "    history = nn.fit(X_train.reshape(-1,1), Y_train.reshape(-1,1), epochs=500, verbose=0, callbacks=[callback])\n",
    "    if history.history['loss'][-1] > 1:\n",
    "        print(\"warning. NN didn't converge\")\n",
    "\n",
    "    dates = [3,2,1,0]\n",
    "\n",
    "    # fit\n",
    "    nf = neural_bermudan_fitter(r, sigma, s_all,  K, dates, epochs = 1000, nodes=nodes)\n",
    "\n",
    "    # run simulation\n",
    "    nf.run_pricing_simulation()\n",
    "    \n",
    "    # Save price\n",
    "    results_convergence.append(nf.pvt0_nn)"
   ]
  },
  {
   "cell_type": "code",
   "execution_count": null,
   "id": "2cb21e10",
   "metadata": {},
   "outputs": [],
   "source": [
    "plt.plot(results_convergence)"
   ]
  },
  {
   "cell_type": "code",
   "execution_count": 59,
   "id": "bf863208",
   "metadata": {},
   "outputs": [],
   "source": [
    "upperbound = 0.18855579222624316\n",
    "lowerbound_data = np.array([0.11840553, 0.12466009, 0.11907022, 0.12558082, 0.11715823,\n",
    "       0.12534869, 0.11960652, 0.12400716, 0.1217654 , 0.12127061,\n",
    "       0.12065544, 0.12228015, 0.12087237, 0.11960958, 0.12043162,\n",
    "       0.1177108 , 0.12041161, 0.11808278, 0.12043451, 0.12290068,\n",
    "       0.12051659, 0.11865335, 0.12375626, 0.12129248, 0.12487578,\n",
    "       0.12111814, 0.12393027, 0.11984866, 0.11680912, 0.11815887])\n",
    "lowerbound_mean = np.mean(lowerbound_data)\n",
    "lowerbound_err = 1.96 * np.std(lowerbound_data)/np.sqrt(len(lowerbound_data))"
   ]
  },
  {
   "cell_type": "code",
   "execution_count": 66,
   "id": "749c795c",
   "metadata": {},
   "outputs": [
    {
     "data": {
      "text/plain": [
       "0.0008808458720489553"
      ]
     },
     "execution_count": 66,
     "metadata": {},
     "output_type": "execute_result"
    }
   ],
   "source": [
    "lowerbound_err"
   ]
  },
  {
   "cell_type": "code",
   "execution_count": 62,
   "id": "b72461dd",
   "metadata": {},
   "outputs": [
    {
     "data": {
      "text/plain": [
       "Text(0, 0.5, 'V ')"
      ]
     },
     "execution_count": 62,
     "metadata": {},
     "output_type": "execute_result"
    },
    {
     "data": {
      "image/png": "[encoded data removed]",
      "text/plain": [
       "<Figure size 720x720 with 1 Axes>"
      ]
     },
     "metadata": {
      "needs_background": "light"
     },
     "output_type": "display_data"
    }
   ],
   "source": [
    "plt.figure(figsize=(10,10))\n",
    "plt.plot(Nnodes,results_convergence, label = 'NN')\n",
    "plt.plot(Nnodes, [upperbound] * len(Nnodes), label = 'Upper')\n",
    "plt.plot(Nnodes, [lowerbound] *len(Nnodes), label = 'Lower')\n",
    "plt.grid()\n",
    "plt.legend()\n",
    "plt.xlabel('nodes')\n",
    "plt.ylabel('V ')"
   ]
  },
  {
   "cell_type": "code",
   "execution_count": 65,
   "id": "9302ce61",
   "metadata": {},
   "outputs": [
    {
     "data": {
      "text/plain": [
       "Text(0, 0.5, 'V - $\\\\hat{V}$')"
      ]
     },
     "execution_count": 65,
     "metadata": {},
     "output_type": "execute_result"
    },
    {
     "data": {
      "image/png": "[encoded data removed]",
      "text/plain": [
       "<Figure size 432x288 with 1 Axes>"
      ]
     },
     "metadata": {
      "needs_background": "light"
     },
     "output_type": "display_data"
    }
   ],
   "source": [
    "plt.plot(Nnodes, results_convergence - lowerbound_mean)\n",
    "plt.ylabel('V - $\\hat{V}$')"
   ]
  },
  {
   "cell_type": "code",
   "execution_count": null,
   "id": "d0cebe00",
   "metadata": {},
   "outputs": [],
   "source": []
  },
  {
   "cell_type": "code",
   "execution_count": null,
   "id": "4c96ff8d",
   "metadata": {},
   "outputs": [],
   "source": []
  },
  {
   "cell_type": "code",
   "execution_count": 54,
   "id": "6f6d48c3",
   "metadata": {},
   "outputs": [
    {
     "data": {
      "text/plain": [
       "[array([0.12957806]),\n",
       " array([0.12900983]),\n",
       " array([0.12048882]),\n",
       " array([0.13380892]),\n",
       " array([0.1258798]),\n",
       " array([0.11804745]),\n",
       " array([0.12260964]),\n",
       " array([0.1213901]),\n",
       " array([0.12421918]),\n",
       " array([0.128354]),\n",
       " array([0.12850401]),\n",
       " array([0.12977983]),\n",
       " array([0.12941985]),\n",
       " array([0.12427486]),\n",
       " array([0.12335014]),\n",
       " array([0.1260893]),\n",
       " array([0.12162803]),\n",
       " array([0.12322135]),\n",
       " array([0.12648125]),\n",
       " array([0.1233302]),\n",
       " array([0.13317103]),\n",
       " array([0.13346831]),\n",
       " array([0.13199832]),\n",
       " array([0.13094922]),\n",
       " array([0.12857291])]"
      ]
     },
     "execution_count": 54,
     "metadata": {},
     "output_type": "execute_result"
    }
   ],
   "source": [
    "results_convergence"
   ]
  },
  {
   "cell_type": "code",
   "execution_count": 58,
   "id": "e9d3a3ba",
   "metadata": {},
   "outputs": [
    {
     "data": {
      "text/plain": [
       "6.221645219638247"
      ]
     },
     "execution_count": 58,
     "metadata": {},
     "output_type": "execute_result"
    }
   ],
   "source": [
    "(0.129-lowerbound)/0.129 * 100"
   ]
  },
  {
   "cell_type": "code",
   "execution_count": 56,
   "id": "7708d663",
   "metadata": {},
   "outputs": [
    {
     "data": {
      "text/plain": [
       "0.12097407766666667"
      ]
     },
     "execution_count": 56,
     "metadata": {},
     "output_type": "execute_result"
    }
   ],
   "source": [
    "lowerbound"
   ]
  },
  {
   "cell_type": "code",
   "execution_count": null,
   "id": "6746b2e1",
   "metadata": {},
   "outputs": [],
   "source": []
  },
  {
   "cell_type": "code",
   "execution_count": null,
   "id": "cb037090",
   "metadata": {},
   "outputs": [],
   "source": []
  },
  {
   "cell_type": "code",
   "execution_count": null,
   "id": "3025a5d5",
   "metadata": {},
   "outputs": [],
   "source": []
  },
  {
   "cell_type": "code",
   "execution_count": 148,
   "id": "cd51c251-2346-45f8-ba6d-93170eb95678",
   "metadata": {},
   "outputs": [
    {
     "name": "stderr",
     "output_type": "stream",
     "text": [
      "C:\\Users\\JWant\\AppData\\Local\\Temp\\ipykernel_12656\\559481366.py:2: RuntimeWarning: divide by zero encountered in true_divide\n",
      "  return 1/(sigma*np.sqrt(t-t0)) * (np.log(S0/k) + (r-delta+(sigma**2)/2)*(t-t0))\n",
      "C:\\Users\\JWant\\AppData\\Local\\Temp\\ipykernel_12656\\559481366.py:5: RuntimeWarning: divide by zero encountered in true_divide\n",
      "  return 1/(sigma*np.sqrt(t-t0)) * (np.log(S0/k) + (r-delta-(sigma**2)/2)*(t-t0))\n"
     ]
    }
   ],
   "source": [
    "#Study different # nodes\n",
    "S=1\n",
    "K=1.1\n",
    "Nnodes = np.arange(5,30)\n",
    "nn_values=[]\n",
    "s_init=S\n",
    "no_of_options=nodes\n",
    "delta=0\n",
    "t=1\n",
    "\n",
    "for nodes in Nnodes:\n",
    "    no_of_options=nodes\n",
    "    s_all = np.array([np.array(GBM_exact(T, S, sigma, r, M)) for x in range(realizations)])\n",
    "    nf = neural_bermudan_fitter(r, sigma, s_all,  K, dates, epochs = 1000, nodes=nodes)\n",
    "    nf.run_pricing_simulation()\n",
    "    #Neural Network Weights\n",
    "    inner_wts = np.array(nf.nnets[-1].layers[0].get_weights()[0]).reshape(-1)\n",
    "    nn_strikes_orig = np.array(nf.nnets[-1].layers[0].get_weights()[1]).reshape(-1)\n",
    "    outer_wts = np.array(nf.nnets[-1].layers[1].get_weights()[0]).reshape(-1)\n",
    "    #if (outer_bias_init == \"no bias\"):\n",
    "    #    outer_bias = np.array([0]).reshape(-1)\n",
    "    #else:\n",
    "    outer_bias = np.array(nf.nnets[-1].layers[1].get_weights()[1]).reshape(-1)\n",
    "\n",
    "    #Genererate Derivative contract equivalents from weights\n",
    "    global no_of_calls, no_of_puts, no_of_fwds, nulls, positions, strike_arry, deposit, pfl_wts\n",
    "    no_of_calls, no_of_puts, no_of_fwds, no_of_nulls, positions = identify_positions(inner_wts, nn_strikes_orig)\n",
    "    strike_array, deposit, pfl_wts = find_instr_params(nn_strikes_orig, inner_wts, outer_wts, outer_bias, positions, s_init)\n",
    "    deposit_list = np.array([deposit for i in range(0, no_of_options)])\n",
    "    params = [strike_array.reshape(no_of_options,1), deposit_list.reshape(no_of_options,1), pfl_wts.reshape(no_of_options,1)]\n",
    "\n",
    "    #Generate Hedge Values\n",
    "    stock_vec = s_all[:,0]\n",
    "    #stock_vec = np.array(df_sim_stocks_test.iloc[-1,:]).reshape(-1)\n",
    "    nn_static_hedge_value, pvt0_nn = static_hedge_value_nn(stock_vec, strike_array, positions, pfl_wts, deposit, \n",
    "                                                           s_init, r, delta, sigma, t)\n",
    "    nn_values.append(np.sum(nn_static_hedge_value)/len(nn_static_hedge_value))"
   ]
  },
  {
   "cell_type": "code",
   "execution_count": 140,
   "id": "638d3d0c-0945-4453-91ea-01920cf51ce7",
   "metadata": {},
   "outputs": [
    {
     "data": {
      "text/plain": [
       "[array(['P', 'C', 'N', 'P', 'N', 'P', 'N', 'N', 'N', 'N', 'P', 'P', 'P',\n",
       "        'P', 'N', 'N', 'N', 'N', 'N', 'N'], dtype='<U1')]"
      ]
     },
     "execution_count": 140,
     "metadata": {},
     "output_type": "execute_result"
    }
   ],
   "source": [
    "nf.positions"
   ]
  },
  {
   "cell_type": "code",
   "execution_count": 162,
   "id": "fd169636-dd05-4bc2-9f51-815c3c7240a0",
   "metadata": {},
   "outputs": [],
   "source": [
    "T = M = N = 4\n",
    "K = 1.1\n",
    "S = 1\n",
    "sigma = 0.2\n",
    "r = 0.06\n",
    "realizations = 2000\n",
    "\n",
    "repititions = 30\n",
    "upper_bound = []\n",
    "americans = np.zeros(repititions)\n",
    "dt = T/M\n",
    "\n",
    "\n",
    "for i in range(repititions):\n",
    "    s_all = np.array([np.array(GBM_exact(T, S, sigma, r, M)) for x in range(realizations)])\n",
    "    europeans[i] = np.sum(np.maximum(0,K-s_all[:,-1]))/realizations * np.exp(-r * T)\n",
    "    payoffs = np.maximum(K-s_all[:,:],0)\n",
    "    dt = T/M\n",
    "    [option_cash_flow, cash_flows] = value_option_schwarz(T,M,K,s_all, r, realizations,order=2,option=\"put\")\n",
    "    \n",
    "    for time in range(option_cash_flow.shape[1]):\n",
    "        option_cash_flow[:,time]*=np.exp(-r*(time*dt))\n",
    "        payoffs[:,time]*=np.exp(-r*(dt*time))\n",
    "    americans[i] =  np.sum(option_cash_flow)/realizations\n",
    "    \n",
    "    max_payoffs = []\n",
    "    for path in range(payoffs.shape[0]):\n",
    "        max_payoffs.append(max(payoffs[path]))\n",
    "\n",
    "    upper_bound.append(np.mean(max_payoffs))"
   ]
  },
  {
   "cell_type": "code",
   "execution_count": 164,
   "id": "6c50043e-2217-4b30-ae53-3c71b79d1420",
   "metadata": {},
   "outputs": [
    {
     "data": {
      "text/plain": [
       "0.18855579222624316"
      ]
     },
     "execution_count": 164,
     "metadata": {},
     "output_type": "execute_result"
    }
   ],
   "source": []
  },
  {
   "cell_type": "code",
   "execution_count": 153,
   "id": "9252c891-a32e-43d5-b296-c05beff3e353",
   "metadata": {},
   "outputs": [
    {
     "data": {
      "text/plain": [
       "array([0.11840553, 0.12466009, 0.11907022, 0.12558082, 0.11715823,\n",
       "       0.12534869, 0.11960652, 0.12400716, 0.1217654 , 0.12127061,\n",
       "       0.12065544, 0.12228015, 0.12087237, 0.11960958, 0.12043162,\n",
       "       0.1177108 , 0.12041161, 0.11808278, 0.12043451, 0.12290068,\n",
       "       0.12051659, 0.11865335, 0.12375626, 0.12129248, 0.12487578,\n",
       "       0.12111814, 0.12393027, 0.11984866, 0.11680912, 0.11815887])"
      ]
     },
     "execution_count": 153,
     "metadata": {},
     "output_type": "execute_result"
    }
   ],
   "source": [
    "americans"
   ]
  },
  {
   "cell_type": "code",
   "execution_count": 171,
   "id": "abc20232-d1d3-45eb-97cb-a4b880c04684",
   "metadata": {},
   "outputs": [
    {
     "data": {
      "image/png": "[encoded data removed]",
      "text/plain": [
       "<Figure size 432x288 with 1 Axes>"
      ]
     },
     "metadata": {
      "needs_background": "light"
     },
     "output_type": "display_data"
    }
   ],
   "source": [
    "plt.plot(Nnodes,nn_values, label=\"RLNN\",marker='o')\n",
    "plt.plot(Nnodes, np.repeat(np.mean(americans), len(Nnodes)), label=\"Longstaff-Schwarz\")\n",
    "plt.plot(Nnodes, np.repeat(np.mean(upper_bound), len(Nnodes)), label=\"Upper Bound\")\n",
    "plt.legend()\n",
    "plt.ylabel(\"Put price\")\n",
    "plt.xlabel(\"Nodes\")\n",
    "plt.title(\"Convergence of the RLNN as nodes increase\\nS0=1, K=1.1\")\n",
    "plt.savefig(\"figures/convergence_nodes.pdf\",dpi=300)"
   ]
  },
  {
   "cell_type": "code",
   "execution_count": null,
   "id": "5a437e25-2c9a-48e0-a094-a7f2565f1e9b",
   "metadata": {},
   "outputs": [],
   "source": []
  },
  {
   "cell_type": "code",
   "execution_count": null,
   "id": "5aec1aff-c0f8-4852-9870-e91f56662f81",
   "metadata": {},
   "outputs": [],
   "source": []
  },
  {
   "cell_type": "code",
   "execution_count": null,
   "id": "5c167f2c-4e35-45c0-9e1d-c81d8e68b66a",
   "metadata": {},
   "outputs": [],
   "source": []
  },
  {
   "cell_type": "code",
   "execution_count": 37,
   "id": "9cb2c1eb-7ae1-4826-9c0c-093dc5192236",
   "metadata": {},
   "outputs": [],
   "source": [
    "# Figures for presentation"
   ]
  },
  {
   "cell_type": "code",
   "execution_count": 95,
   "id": "2492cab7-84f3-42e4-abea-07900a5ad256",
   "metadata": {},
   "outputs": [],
   "source": [
    "# Pre trained NN"
   ]
  },
  {
   "cell_type": "code",
   "execution_count": 96,
   "id": "353ffb6b-5fec-44c1-9c7c-fd6504ee1c5f",
   "metadata": {},
   "outputs": [],
   "source": [
    "Y_train = np.maximum(K - s_all[:,-1], 0)\n",
    "\n",
    "X_train = s_all[:,-1]"
   ]
  },
  {
   "cell_type": "code",
   "execution_count": 97,
   "id": "3a56415c-e07a-4464-a5d3-91af1367801a",
   "metadata": {},
   "outputs": [
    {
     "data": {
      "text/plain": [
       "<matplotlib.collections.PathCollection at 0x2707d129850>"
      ]
     },
     "execution_count": 97,
     "metadata": {},
     "output_type": "execute_result"
    },
    {
     "data": {
      "image/png": "[encoded data removed]",
      "text/plain": [
       "<Figure size 432x288 with 1 Axes>"
      ]
     },
     "metadata": {
      "needs_background": "light"
     },
     "output_type": "display_data"
    }
   ],
   "source": [
    "plt.scatter(X_train, Y_train)"
   ]
  },
  {
   "cell_type": "code",
   "execution_count": 98,
   "id": "49b174b2-5d9a-4b37-ab57-830f83d4396a",
   "metadata": {},
   "outputs": [],
   "source": [
    "S = np.linspace(0.1,2,20)\n",
    "V = np.zeros(S.shape)\n",
    "\n",
    "V = nn.predict(np.array(S).reshape(-1,1))"
   ]
  },
  {
   "cell_type": "code",
   "execution_count": 99,
   "id": "45dfd59c-f44e-4278-b74e-862bd8068cfb",
   "metadata": {},
   "outputs": [
    {
     "data": {
      "image/png": "[encoded data removed]",
      "text/plain": [
       "<Figure size 432x288 with 1 Axes>"
      ]
     },
     "metadata": {
      "needs_background": "light"
     },
     "output_type": "display_data"
    }
   ],
   "source": [
    "plt.scatter(S,V, label=\"NN output\")\n",
    "plt.scatter(X_train, Y_train, label=\"training data\")\n",
    "plt.legend()\n",
    "plt.xlabel(\"S\")\n",
    "plt.ylabel(\"V\")\n",
    "plt.title(\"Payoff for a Bermudan put option at maturity\")\n",
    "plt.savefig(\"figures/put_at_maturity_NN.jpg\", dpi=300)"
   ]
  },
  {
   "cell_type": "code",
   "execution_count": null,
   "id": "a5c996fc-239c-438b-b4e7-d3c1293b0565",
   "metadata": {},
   "outputs": [],
   "source": []
  },
  {
   "cell_type": "code",
   "execution_count": 100,
   "id": "8a01fc76-aee1-4712-a859-f528991e7ada",
   "metadata": {},
   "outputs": [],
   "source": [
    "# NN payoff at later times"
   ]
  },
  {
   "cell_type": "code",
   "execution_count": 101,
   "id": "56453f14-0a4a-441d-941c-6b86843133af",
   "metadata": {},
   "outputs": [],
   "source": [
    "Y_train = np.maximum(K - s_all[:,-1], 0)\n",
    "\n",
    "X_train = s_all[:,-1]"
   ]
  },
  {
   "cell_type": "code",
   "execution_count": 102,
   "id": "38b4feba-8512-40e4-9763-04651838211a",
   "metadata": {},
   "outputs": [],
   "source": [
    "m=2\n",
    "V = np.zeros(len(nf.stock_paths[:,nf.dates[m]]))\n",
    "\n",
    "for s in range(len(nf.stock_paths[:,nf.dates[m]])): \n",
    "    V[s] = np.sum(nf.opt_val[:,m,s])\n",
    "\n",
    "h = np.maximum(0, nf.K - nf.stock_paths[:,dates[m]])\n",
    "\n",
    "for i, value in enumerate(h):\n",
    "    if value > V[i]:\n",
    "        Y_train[i] = value\n",
    "    else:\n",
    "        Y_train[i] = V[i]\n",
    "#Y_train = np.maximum(nf.h, V)\n",
    "\n",
    "X_train = np.array(nf.stock_paths[:,dates[m]]).reshape(1,-1)"
   ]
  },
  {
   "cell_type": "code",
   "execution_count": 103,
   "id": "80ad00bf-f13e-4d2e-924c-b9ce8bbe902b",
   "metadata": {},
   "outputs": [
    {
     "data": {
      "text/plain": [
       "<matplotlib.collections.PathCollection at 0x2707d1ecf10>"
      ]
     },
     "execution_count": 103,
     "metadata": {},
     "output_type": "execute_result"
    },
    {
     "data": {
      "image/png": "[encoded data removed]",
      "text/plain": [
       "<Figure size 432x288 with 1 Axes>"
      ]
     },
     "metadata": {
      "needs_background": "light"
     },
     "output_type": "display_data"
    }
   ],
   "source": [
    "plt.scatter(X_train, Y_train)"
   ]
  },
  {
   "cell_type": "code",
   "execution_count": 104,
   "id": "56fa0c36-a7be-4692-8471-e3d26f0a02ca",
   "metadata": {},
   "outputs": [],
   "source": [
    "V = nf.nnets[m].predict(np.array(S).reshape(-1,1))"
   ]
  },
  {
   "cell_type": "code",
   "execution_count": 105,
   "id": "3de444d5-c5ce-460e-a0ca-3d5002d6594f",
   "metadata": {},
   "outputs": [
    {
     "data": {
      "image/png": "[encoded data removed]",
      "text/plain": [
       "<Figure size 432x288 with 1 Axes>"
      ]
     },
     "metadata": {
      "needs_background": "light"
     },
     "output_type": "display_data"
    }
   ],
   "source": [
    "plt.scatter(X_train, Y_train, label=\"training data\")\n",
    "plt.scatter(S,V, label=\"NN output\")\n",
    "#plt.scatter(X_train, Y_train, label=\"training data\")\n",
    "plt.legend()\n",
    "plt.xlabel(\"S\")\n",
    "plt.ylabel(\"V\")\n",
    "plt.title(f\"Estimated Payoff for a put option at M-{m} by NN\")\n",
    "plt.savefig(f\"figures/M-{m}_payoff_NN.jpg\", dpi=300)"
   ]
  }
 ],
 "metadata": {
  "kernelspec": {
   "display_name": "Python 3 (ipykernel)",
   "language": "python",
   "name": "python3"
  },
  "language_info": {
   "codemirror_mode": {
    "name": "ipython",
    "version": 3
   },
   "file_extension": ".py",
   "mimetype": "text/x-python",
   "name": "python",
   "nbconvert_exporter": "python",
   "pygments_lexer": "ipython3",
   "version": "3.9.7"
  }
 },
 "nbformat": 4,
 "nbformat_minor": 5
}
