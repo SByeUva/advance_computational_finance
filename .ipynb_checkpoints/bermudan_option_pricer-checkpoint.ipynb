{
 "cells": [
  {
   "cell_type": "markdown",
   "id": "7e538ce4",
   "metadata": {},
   "source": [
    "# American and Bermudan Option pricer"
   ]
  },
  {
   "cell_type": "code",
   "execution_count": 1,
   "id": "58183e58",
   "metadata": {},
   "outputs": [],
   "source": [
    "# Packages used\n",
    "import numpy as np\n",
    "import matplotlib.pyplot as plt\n",
    "from scipy import odr\n",
    "from helper import GBM_Euler, value_option_schwarz, value_option_schwarz_test, value_option_bermudan\n",
    "import keras\n",
    "from scipy.stats import norm"
   ]
  },
  {
   "cell_type": "markdown",
   "id": "aba344ff",
   "metadata": {},
   "source": [
    "## Simulations Run with Data from paper\n",
    "\n",
    "American option should be priced at .1144"
   ]
  },
  {
   "cell_type": "code",
   "execution_count": 81,
   "id": "3371e58d",
   "metadata": {},
   "outputs": [],
   "source": [
    "# Parameters\n",
    "K=1.1; M=4; r=.06; realizations=8\n",
    "\n",
    "# Matrix\n",
    "path_matrix = np.array([\n",
    "[1.00, 1.09, 1.08, 1.34],\n",
    "[1.00, 1.16, 1.26, 1.54],\n",
    "[1.00, 1.22, 1.07, 1.03],\n",
    "[1.00, 0.93, 0.97, 0.92],\n",
    "[1.00, 1.11, 1.56, 1.52],\n",
    "[1.00, .76, 0.77, 0.90],\n",
    "[1.00, 0.92, 0.84, 1.01],\n",
    "[1.00, 0.88, 1.22, 1.34]])"
   ]
  },
  {
   "cell_type": "code",
   "execution_count": 82,
   "id": "518fe3c0",
   "metadata": {},
   "outputs": [
    {
     "name": "stdout",
     "output_type": "stream",
     "text": [
      "Price of American Option is: 0.11665163113684986\n"
     ]
    }
   ],
   "source": [
    "# Generate cash flows under Longstaff-Schwarz\n",
    "cash_flows = value_option_schwarz(M,K,path_matrix, r, realizations, option=\"put\")\n",
    "\n",
    "# Discount cash flows\n",
    "for time in range(cash_flows.shape[1]):\n",
    "    cash_flows[:,time]*=np.exp(-r*time)\n",
    "print(f'Price of American Option is: {np.sum(cash_flows[0:])/realizations}')"
   ]
  },
  {
   "cell_type": "code",
   "execution_count": 83,
   "id": "25774ac4",
   "metadata": {},
   "outputs": [
    {
     "name": "stdout",
     "output_type": "stream",
     "text": [
      "Price of American Option is: 0.11443433004505696\n"
     ]
    }
   ],
   "source": [
    "cash_flows_test = value_option_schwarz_test(M,K,path_matrix, r, realizations, option=\"put\")\n",
    "\n",
    "# Discount cash flows\n",
    "for time in range(cash_flows.shape[1]):\n",
    "    cash_flows_test[:,time]*=np.exp(-r*time)\n",
    "print(f'Price of American Option is: {np.sum(cash_flows_test[0:])/realizations}')    "
   ]
  },
  {
   "cell_type": "code",
   "execution_count": 87,
   "id": "db2ce593",
   "metadata": {},
   "outputs": [
    {
     "name": "stdout",
     "output_type": "stream",
     "text": [
      "Price of Bermudan Option is: 0.11561153571203728\n"
     ]
    }
   ],
   "source": [
    "# Unit test Bermudian pricer by giving it same amount of exericse options as American\n",
    "exercise_dates = [1,2,3,4]\n",
    "cash_flow_bermudan = value_option_bermudan(M, K, path_matrix, r, realizations, exercise_dates, option=\"put\")\n",
    "\n",
    "for time in range(cash_flow_bermudan.shape[1]):\n",
    "    cash_flow_bermudan[:,time] *= np.exp(-r*time)\n",
    "print(f'Price of Bermudan Option is: {np.sum(cash_flow_bermudan[0:])/realizations}')    "
   ]
  },
  {
   "cell_type": "code",
   "execution_count": 85,
   "id": "3d7b91bf",
   "metadata": {},
   "outputs": [
    {
     "name": "stdout",
     "output_type": "stream",
     "text": [
      "Price of Bermudan Option is: 0.056380739270260896\n"
     ]
    }
   ],
   "source": [
    "# Fewer exercise points should lead to lower option price\n",
    "exercise_dates = [2,3]\n",
    "cash_flow_bermudan = value_option_bermudan(M, K, path_matrix, r, realizations, exercise_dates, option=\"put\")\n",
    "\n",
    "for time in range(cash_flow_bermudan.shape[1]):\n",
    "    cash_flow_bermudan[:,time] *= np.exp(-r*time)\n",
    "print(f'Price of Bermudan Option is: {np.sum(cash_flow_bermudan[0:])/realizations}')    "
   ]
  },
  {
   "cell_type": "markdown",
   "id": "fa7f14bb",
   "metadata": {},
   "source": [
    "## Simulation based on GBM"
   ]
  },
  {
   "cell_type": "code",
   "execution_count": 96,
   "id": "c7beb285",
   "metadata": {},
   "outputs": [],
   "source": [
    "# Variables used\n",
    "T = 1\n",
    "K = 95\n",
    "S = 100\n",
    "M = 100\n",
    "sigma = 0.2\n",
    "r = 0.06/M\n",
    "realizations = 1000\n",
    "exercise_dates = np.array([24,49,74,99])"
   ]
  },
  {
   "cell_type": "code",
   "execution_count": 143,
   "id": "c3ac6a73",
   "metadata": {},
   "outputs": [],
   "source": [
    "# Generate stock scenarios\n",
    "s_all = np.array([np.array(GBM_Euler(T, S, sigma, r, M)) for x in range(realizations)])"
   ]
  },
  {
   "cell_type": "code",
   "execution_count": 110,
   "id": "e405294b",
   "metadata": {},
   "outputs": [],
   "source": [
    "# Generate path matrix-- WHY?\n",
    "path_matrix = np.zeros((realizations, M))\n",
    "for realization in range(realizations):\n",
    "    path_matrix[realization,:] = s_all[realization]"
   ]
  },
  {
   "cell_type": "code",
   "execution_count": 111,
   "id": "1284b3a7",
   "metadata": {},
   "outputs": [
    {
     "name": "stdout",
     "output_type": "stream",
     "text": [
      "5.099154334119849\n"
     ]
    }
   ],
   "source": [
    "option_cash_flow = value_option_schwarz(M,K,path_matrix, r, realizations,option=\"call\")\n",
    "\n",
    "for time in range(option_cash_flow.shape[1]):\n",
    "    option_cash_flow[:,time]*=np.exp(-r*time)\n",
    "    \n",
    "print(np.sum(option_cash_flow[1:])/realizations)"
   ]
  },
  {
   "cell_type": "code",
   "execution_count": 116,
   "id": "79b874ec",
   "metadata": {},
   "outputs": [],
   "source": [
    "option_cash_flow = value_option_schwarz(M,K,path_matrix, r, realizations,option=\"call\")\n"
   ]
  },
  {
   "cell_type": "code",
   "execution_count": 118,
   "id": "357b02ec-d6bb-4b27-8349-39a9d4720026",
   "metadata": {},
   "outputs": [
    {
     "name": "stdout",
     "output_type": "stream",
     "text": [
      "5.103432648194892\n"
     ]
    }
   ],
   "source": [
    "print(np.sum(option_cash_flow[1:])/realizations)"
   ]
  },
  {
   "cell_type": "code",
   "execution_count": 119,
   "id": "03a34cf9",
   "metadata": {},
   "outputs": [],
   "source": [
    "def option_pricer(option_cash_flow, realizations, M, r):\n",
    "    '''\n",
    "    Take option cash flow matrix, discount time step and calculate the average and standard devation\n",
    "    Input: cash flow matrix, realisations, time points, risk free interest rate\n",
    "    Output: Option price +/- std\n",
    "    '''\n",
    "    \n",
    "    # Discount \n",
    "    for time in range(option_cash_flow.shape[1]):\n",
    "        option_cash_flow[:,time] *= np.exp(-r*time)\n",
    "    \n",
    "    # Subtract values which are not zero and create vector to compute first and second moment\n",
    "    final_price = np.zeros(realizations)\n",
    "    \n",
    "    for i in range(realizations):\n",
    "        for j in range(M):\n",
    "            if option_cash_flow[i][j] != 0:\n",
    "                final_price[i] = option_cash_flow[i][j]\n",
    "    \n",
    "    return [np.mean(final_price), np.std(final_price)]"
   ]
  },
  {
   "cell_type": "code",
   "execution_count": 120,
   "id": "bef1f12d",
   "metadata": {},
   "outputs": [
    {
     "data": {
      "text/plain": [
       "[5.104262894887486, 2.1008042716011275]"
      ]
     },
     "execution_count": 120,
     "metadata": {},
     "output_type": "execute_result"
    }
   ],
   "source": [
    "option_pricer(option_cash_flow, realizations, M, r)"
   ]
  },
  {
   "cell_type": "code",
   "execution_count": 121,
   "id": "e2f8f81b",
   "metadata": {},
   "outputs": [
    {
     "name": "stdout",
     "output_type": "stream",
     "text": [
      "7.41436468682469\n"
     ]
    }
   ],
   "source": [
    "cash_flows_bermudan = value_option_bermudan(M, K, path_matrix, r, realizations, exercise_dates, option = \"call\")\n",
    "\n",
    "\n",
    "for time in range(cash_flows_bermudan.shape[1]):\n",
    "    cash_flows_bermudan[:,time]*=np.exp(-r*time)\n",
    "    \n",
    "print(np.sum(cash_flows_bermudan[1:])/realizations)"
   ]
  },
  {
   "cell_type": "code",
   "execution_count": 122,
   "id": "afe63f7b",
   "metadata": {},
   "outputs": [],
   "source": [
    "cash_flows_bermudan = value_option_bermudan(M, K, path_matrix, r, realizations, exercise_dates, option = \"call\")\n"
   ]
  },
  {
   "cell_type": "code",
   "execution_count": 123,
   "id": "df30770d",
   "metadata": {},
   "outputs": [
    {
     "data": {
      "text/plain": [
       "[7.41436468682469, 7.119015683937049]"
      ]
     },
     "execution_count": 123,
     "metadata": {},
     "output_type": "execute_result"
    }
   ],
   "source": [
    "option_pricer(cash_flows_bermudan, realizations, M, r)"
   ]
  },
  {
   "cell_type": "markdown",
   "id": "20422073-b690-4c48-a3f1-0327491c5ac4",
   "metadata": {},
   "source": [
    "### Neural Net"
   ]
  },
  {
   "cell_type": "code",
   "execution_count": 124,
   "id": "c47837b0-f685-429c-9d33-47ff0cc81258",
   "metadata": {},
   "outputs": [],
   "source": [
    "from keras.models import Sequential\n",
    "from keras.layers import Dense, Input\n",
    "import keras.optimizers as opt\n",
    "from keras.constraints import Constraint\n",
    "from keras import backend as keras_backend\n",
    "import tensorflow as tf"
   ]
  },
  {
   "cell_type": "code",
   "execution_count": 125,
   "id": "50c4f64d-4e4a-4705-9a9d-2024db02a175",
   "metadata": {},
   "outputs": [],
   "source": [
    "def BSM_call(s_t, k, r, vol, dt):\n",
    "    d_1_c = (1 / (vol * (dt ** 0.5))) \n",
    "    d1_log =  (np.log((s_t)/(k)) + ((r + (vol ** 2) / 2) * dt))\n",
    "    d_1 = d_1_c * d1_log\n",
    "    d_2 = d_1 - vol * (dt ** 0.5)\n",
    "    return (np.multiply(norm.cdf(d_1),  s_t) - (norm.cdf(d_2) * k * np.exp(-r * dt)))\n",
    "\n",
    "def BSM_put(s_t, k, r, vol, dt):\n",
    "    d_1_c = (1 / (vol * (dt ** 0.5))) \n",
    "    d1_log =  (np.log((s_t)/(k)) + ((r + (vol ** 2) / 2) * dt))\n",
    "    d_1 = d_1_c * d1_log\n",
    "    d_2 = d_1 - vol * (dt ** 0.5)\n",
    "    return ((norm.cdf(-d_2) * k * np.exp(-r * dt)) - np.multiply(norm.cdf(-d_1),  s_t))\n",
    "\n",
    "def identify_positions(wt_list, strike_list):\n",
    "    positions = np.where(np.logical_and(wt_list>0, strike_list<0), \"C\", \n",
    "                        np.where(np.logical_and(wt_list>0, strike_list>=0), \"F\", \n",
    "                                 np.where(np.logical_and(wt_list<0, strike_list>0), \"P\", \"N\")))\n",
    "    \n",
    "    pos = (np.array(np.unique(positions, return_counts=True)).T)\n",
    "    no_of_pos_dict = {\"C\":0 , \"P\":0, \"F\":0 , \"N\":0 }\n",
    "    \n",
    "    for i in range(0, len(pos[:,0])):\n",
    "        no_of_pos_dict[pos[i,0]] = int(pos[i,1])\n",
    "\n",
    "    return no_of_pos_dict[\"C\"], no_of_pos_dict[\"P\"], no_of_pos_dict[\"F\"], no_of_pos_dict[\"N\"], positions"
   ]
  },
  {
   "cell_type": "code",
   "execution_count": 126,
   "id": "c7b7ae3a-bf8f-406d-9e8d-4b20d99d2c09",
   "metadata": {},
   "outputs": [],
   "source": [
    "class neural_bermudan_fitter:\n",
    "    def __init__(self, r, sigma, stock_paths, K, dates, option=\"put\", T=1, nodes=10, epochs=10, pre_trained_model=None):\n",
    "        self.stock_paths = stock_paths\n",
    "        self.K = K\n",
    "        assert all(earlier > later for earlier, later in zip(dates, dates[1:])), 'the dates should be in descending order'\n",
    "        self.dates = dates\n",
    "        \n",
    "        self.T=T\n",
    "        self.r = r\n",
    "        self.sigma = sigma\n",
    "        self.option = option.lower()\n",
    "        self.N = len(self.stock_paths)\n",
    "        self.M = len(self.dates)\n",
    "        self.num_stoch_movements = len(self.stock_paths[0])\n",
    "        self.nodes = nodes\n",
    "        self.epochs = epochs\n",
    "        \n",
    "        self.evaluate_final()\n",
    "        \n",
    "        #step 3 of Jain\n",
    "        self.beta = np.random.uniform(size=(self.N,1))\n",
    "        self.nnets = []\n",
    "        if pre_trained_model:\n",
    "            self.nnets.append(pre_trained_model)\n",
    "        else:\n",
    "            self.setup_network()\n",
    "        self.V = np.zeros(self.N)\n",
    "        self.Q_hat = np.zeros(self.N)\n",
    "        self.callback = tf.keras.callbacks.EarlyStopping(monitor='loss', patience=30)\n",
    "        self.histories = []\n",
    "        self.opt_val = np.zeros((self.nodes, len(self.dates), self.N))\n",
    "        \n",
    "    def evaluate_final(self):\n",
    "        # step 2 of algorithm in Jain paper\n",
    "        if self.option == 'call':\n",
    "            self.h = tf.maximum(self.stock_paths[:,-1] - self.K,0)\n",
    "        else:\n",
    "            self.h = tf.maximum(self.K - self.stock_paths[:,-1],0)\n",
    "            \n",
    "    def setup_network(self):\n",
    "        model = Sequential([\n",
    "            Input(shape=(1)),\n",
    "            Dense(10,activation='relu',trainable=True, kernel_initializer = 'random_uniform'),\n",
    "            Dense(1,activation='linear',trainable=True, kernel_initializer=keras.initializers.RandomUniform(minval=-0.01, maxval=0.01, seed=None))\n",
    "            ])\n",
    "        model.compile(tf.optimizers.Adam(learning_rate=0.001), loss='mean_squared_error')\n",
    "        self.nnets.append(model)\n",
    "    \n",
    "    def copy_network(self):\n",
    "        new_model = keras.models.clone_model(self.nnets[-1])\n",
    "        new_model.compile(tf.optimizers.Adam(learning_rate=0.001), loss='mean_squared_error')\n",
    "        self.nnets.append(new_model)\n",
    "        \n",
    "    def run_pricing_simulation(self):        \n",
    "        for m,date in enumerate(self.dates[0:len(self.dates)-1]):\n",
    "            #step 5\n",
    "            self.fit_model(m,date)\n",
    "            w_vect = np.array(self.nnets[-1].layers[0].get_weights()[0]).reshape(-1)\n",
    "            w_vect_2 = np.array(self.nnets[-1].layers[1].get_weights()[0]).reshape(-1)\n",
    "            strikes = np.array(self.nnets[-1].layers[0].get_weights()[1]).reshape(-1)\n",
    "            bias_2 = np.array(self.nnets[-1].layers[1].get_weights()[1]).reshape(-1)\n",
    "            \n",
    "            # steps 6 to 12\n",
    "            time_to_maturity =  (self.dates[m] - self.dates[m+1]) / self.dates[0]                   \n",
    "            for node in range(self.nodes):\n",
    "                # maybe change m-1 to m for all options\n",
    "                if w_vect[node] > 0 and strikes[node] > 0:\n",
    "                    # Forward contract\n",
    "                    self.opt_val[node, m, :] = (w_vect[node]*stock_paths[:,self.dates[m]]+strike[node]) * np.exp(-r*(self.dates[m] - self.dates[m+1]))\n",
    "                elif w_vect[node] < 0 and strikes[node] > 0:\n",
    "                    # Put Option\n",
    "                    put_pricing = lambda s: BSM_put(s, self.K, self.r, self.sigma, time_to_maturity)\n",
    "                    find_put_price = np.vectorize(put_pricing)\n",
    "                    self.opt_val[node, m, :] =  find_put_price(self.stock_paths[:,self.dates[m]])\n",
    "                elif w_vect[node] > 0 and strikes[node] < 0:\n",
    "                    # Call option\n",
    "                    call_pricing = lambda s: BSM_call(s, self.K, self.r, self.sigma, time_to_maturity)\n",
    "                    find_call_price = np.vectorize(call_pricing)\n",
    "                    self.opt_val[node, m, :] =  find_call_price(self.stock_paths[:,self.dates[m]])\n",
    "            \n",
    "            for s in range(len(self.stock_paths[:,self.dates[m+1]])): \n",
    "                self.Q_hat[s] = np.sum(self.opt_val[:,m,s])\n",
    "                           \n",
    "            self.copy_network()\n",
    "\n",
    "            \n",
    "    def fit_model(self,m, date):\n",
    "        if self.option=='call':\n",
    "            self.h = np.maximum(0, self.stock_paths[:,date] - self.K)\n",
    "            for i, value in enumerate(h):\n",
    "                if value > self.Q_hat[i]:\n",
    "                    Y_train[i] = value\n",
    "                else:\n",
    "                    Y_train[i] = self.Q_hat[i]\n",
    "            #print(Y_train)\n",
    "        else:\n",
    "            self.h = np.maximum(0, self.K - self.stock_paths[:,date])\n",
    "            for i, value in enumerate(self.h):\n",
    "                if value > self.Q_hat[i]:\n",
    "                    Y_train[i] = value\n",
    "                else:\n",
    "                    Y_train[i] = self.Q_hat[i]\n",
    "            #print(Y_train)\n",
    "            \n",
    "            \n",
    "        X_train = np.array(self.stock_paths[:,date])\n",
    "        self.histories.append(self.nnets[-1].fit(X_train.reshape(-1,1), Y_train.reshape(-1,1), epochs=self.epochs, callbacks=[self.callback], verbose=0))"
   ]
  },
  {
   "cell_type": "code",
   "execution_count": null,
   "id": "5d7ac7e4-8383-4786-abd3-3b49303c78bb",
   "metadata": {},
   "outputs": [],
   "source": [
    "# Pre train a NN at the standard payoffs"
   ]
  },
  {
   "cell_type": "code",
   "execution_count": 20,
   "id": "e214af52-7d94-4fbd-9fc3-aed63fa8b8b5",
   "metadata": {},
   "outputs": [],
   "source": [
    "nn = Sequential([\n",
    "            Input(shape=(1)),\n",
    "            Dense(10,activation='relu',trainable=True, kernel_initializer = 'random_uniform'),\n",
    "            Dense(1,activation='linear',trainable=True, kernel_initializer=keras.initializers.RandomUniform(minval=-0.01, maxval=0.01, seed=None))\n",
    "            ])\n",
    "nn.compile(tf.optimizers.Adam(learning_rate=0.01), loss='mean_squared_error')"
   ]
  },
  {
   "cell_type": "code",
   "execution_count": 27,
   "id": "09eeaf8d-669f-4352-aeaa-49dd786004bc",
   "metadata": {},
   "outputs": [],
   "source": [
    "callback = tf.keras.callbacks.EarlyStopping(monitor='loss', patience=30)\n",
    "history = nn.fit(X_train.reshape(-1,1), Y_train.reshape(-1,1), epochs=500, verbose=0, callbacks=[callback])"
   ]
  },
  {
   "cell_type": "code",
   "execution_count": 144,
   "id": "ee357210-60b4-4b25-bb2f-d18fe32b71a1",
   "metadata": {},
   "outputs": [],
   "source": [
    "dates = [0,24,49,74, 99]\n",
    "dates.reverse()"
   ]
  },
  {
   "cell_type": "code",
   "execution_count": 162,
   "id": "3b16bae4-fe27-46d8-a1c4-f44941c9cfe2",
   "metadata": {},
   "outputs": [],
   "source": [
    "s_all = np.array([np.array(GBM_Euler(T, S, sigma, r, M)) for x in range(realizations)])"
   ]
  },
  {
   "cell_type": "code",
   "execution_count": 163,
   "id": "a629d713-1f26-47e4-84d7-d547000f6b3b",
   "metadata": {},
   "outputs": [],
   "source": [
    "nf = neural_bermudan_fitter(r, sigma, s_all,  K, dates, epochs = 1000, pre_trained_model= nn)"
   ]
  },
  {
   "cell_type": "code",
   "execution_count": 164,
   "id": "2acf4eeb-cde5-437a-a0f1-1b102701eab1",
   "metadata": {},
   "outputs": [],
   "source": [
    "nf.run_pricing_simulation()"
   ]
  },
  {
   "cell_type": "code",
   "execution_count": 165,
   "id": "d82297c2-7990-48d9-a3af-960fa510da51",
   "metadata": {},
   "outputs": [
    {
     "data": {
      "text/plain": [
       "array([[8.056627]], dtype=float32)"
      ]
     },
     "execution_count": 165,
     "metadata": {},
     "output_type": "execute_result"
    }
   ],
   "source": [
    "# final Bermudan Put value\n",
    "nf.nnets[3].predict(np.array(100).reshape(-1,1))"
   ]
  },
  {
   "cell_type": "code",
   "execution_count": 187,
   "id": "b458d1b6-77f3-4236-836a-650b4aeb1676",
   "metadata": {},
   "outputs": [
    {
     "data": {
      "text/plain": [
       "(0,\n",
       " 3,\n",
       " 0,\n",
       " 7,\n",
       " array(['P', 'P', 'N', 'N', 'N', 'P', 'N', 'N', 'N', 'N'], dtype='<U1'))"
      ]
     },
     "execution_count": 187,
     "metadata": {},
     "output_type": "execute_result"
    }
   ],
   "source": [
    "# Final portfolios\n",
    "w_vect = np.array(nf.nnets[2].layers[0].get_weights()[0]).reshape(-1)\n",
    "strikes = np.array(nf.nnets[2].layers[0].get_weights()[1]).reshape(-1)\n",
    "\n",
    "identify_positions(w_vect, strikes)"
   ]
  },
  {
   "cell_type": "code",
   "execution_count": 188,
   "id": "dd079cce-3768-48b8-b4cd-e9e9e142861d",
   "metadata": {},
   "outputs": [
    {
     "data": {
      "text/plain": [
       "array([ 7.0965695 ,  7.043404  ,  0.        , -0.01269254,  0.        ,\n",
       "        7.09552   ,  0.        ,  0.        ,  0.        ,  0.        ],\n",
       "      dtype=float32)"
      ]
     },
     "execution_count": 188,
     "metadata": {},
     "output_type": "execute_result"
    }
   ],
   "source": [
    "strikes"
   ]
  },
  {
   "cell_type": "code",
   "execution_count": 190,
   "id": "c8f748bb-2a72-47e7-8abb-fd62317bcd26",
   "metadata": {},
   "outputs": [
    {
     "data": {
      "text/plain": [
       "array([-0.06803144, -0.07310713, -0.01295472, -0.00854944, -0.04490669,\n",
       "       -0.07727396, -0.04397749, -0.04190583, -0.04666362, -0.02723113],\n",
       "      dtype=float32)"
      ]
     },
     "execution_count": 190,
     "metadata": {},
     "output_type": "execute_result"
    }
   ],
   "source": [
    "w_vect"
   ]
  },
  {
   "cell_type": "code",
   "execution_count": 189,
   "id": "2154884a-c7a0-4453-ba4d-2eb2c85e3eff",
   "metadata": {},
   "outputs": [
    {
     "data": {
      "text/plain": [
       "array([104.31309 ,  96.3436  ,   0.      ,  -1.484605,   0.      ,\n",
       "        91.82291 ,   0.      ,   0.      ,   0.      ,   0.      ],\n",
       "      dtype=float32)"
      ]
     },
     "execution_count": 189,
     "metadata": {},
     "output_type": "execute_result"
    }
   ],
   "source": [
    "-strikes/w_vect"
   ]
  },
  {
   "cell_type": "code",
   "execution_count": 183,
   "id": "81be74b4-0c18-4f21-9fb8-9cfc4d4f08e8",
   "metadata": {},
   "outputs": [
    {
     "data": {
      "text/plain": [
       "0.25252525252525254"
      ]
     },
     "execution_count": 183,
     "metadata": {},
     "output_type": "execute_result"
    }
   ],
   "source": [
    "# is this correct?\n",
    "m=0\n",
    "(nf.dates[m] - nf.dates[m+1]) / nf.dates[0]"
   ]
  },
  {
   "cell_type": "code",
   "execution_count": 186,
   "id": "55efde37-6514-4f07-8842-d7853f5f93dd",
   "metadata": {},
   "outputs": [
    {
     "data": {
      "text/plain": [
       "4.880871557033046"
      ]
     },
     "execution_count": 186,
     "metadata": {},
     "output_type": "execute_result"
    }
   ],
   "source": [
    "BSM_put(100,101.73646, r,sigma,0.24242424242424243)"
   ]
  },
  {
   "cell_type": "code",
   "execution_count": null,
   "id": "28c19f54-5f70-4126-8fd0-9fbde74012d8",
   "metadata": {},
   "outputs": [],
   "source": [
    "# Open Questions:\n",
    "# - How to choose dt?"
   ]
  },
  {
   "cell_type": "code",
   "execution_count": null,
   "id": "dc971ed1-66f3-4fa1-bc6f-5cefbb299b78",
   "metadata": {},
   "outputs": [],
   "source": []
  },
  {
   "cell_type": "code",
   "execution_count": null,
   "id": "88055479-d2a6-4398-b859-c3a7d7c1721e",
   "metadata": {},
   "outputs": [],
   "source": []
  },
  {
   "cell_type": "code",
   "execution_count": null,
   "id": "622ab3c7-c764-4ad2-b1d4-87c53455bc1b",
   "metadata": {},
   "outputs": [],
   "source": []
  },
  {
   "cell_type": "code",
   "execution_count": null,
   "id": "b142223a-7dfa-4a1c-9010-0e9df49f75d0",
   "metadata": {},
   "outputs": [],
   "source": []
  },
  {
   "cell_type": "code",
   "execution_count": null,
   "id": "b64dec22-fbb6-461a-905e-1ea3527c8b52",
   "metadata": {},
   "outputs": [],
   "source": []
  },
  {
   "cell_type": "code",
   "execution_count": null,
   "id": "cd51c251-2346-45f8-ba6d-93170eb95678",
   "metadata": {},
   "outputs": [],
   "source": []
  },
  {
   "cell_type": "code",
   "execution_count": null,
   "id": "9cb2c1eb-7ae1-4826-9c0c-093dc5192236",
   "metadata": {},
   "outputs": [],
   "source": [
    "# Figures for presentation"
   ]
  },
  {
   "cell_type": "code",
   "execution_count": null,
   "id": "2492cab7-84f3-42e4-abea-07900a5ad256",
   "metadata": {},
   "outputs": [],
   "source": [
    "# Pre trained NN"
   ]
  },
  {
   "cell_type": "code",
   "execution_count": null,
   "id": "353ffb6b-5fec-44c1-9c7c-fd6504ee1c5f",
   "metadata": {},
   "outputs": [],
   "source": [
    "Y_train = np.maximum(K - s_all[:,-1], 0)\n",
    "\n",
    "X_train = s_all[:,-1]"
   ]
  },
  {
   "cell_type": "code",
   "execution_count": null,
   "id": "3a56415c-e07a-4464-a5d3-91af1367801a",
   "metadata": {},
   "outputs": [],
   "source": [
    "plt.scatter(X_train, Y_train)"
   ]
  },
  {
   "cell_type": "code",
   "execution_count": 203,
   "id": "49b174b2-5d9a-4b37-ab57-830f83d4396a",
   "metadata": {},
   "outputs": [],
   "source": [
    "S = np.arange(60,120)\n",
    "V = np.zeros(S.shape)\n",
    "\n",
    "V = nn.predict(np.array(S).reshape(-1,1))"
   ]
  },
  {
   "cell_type": "code",
   "execution_count": null,
   "id": "45dfd59c-f44e-4278-b74e-862bd8068cfb",
   "metadata": {},
   "outputs": [],
   "source": [
    "plt.scatter(S,V, label=\"NN output\")\n",
    "plt.scatter(X_train, Y_train, label=\"training data\")\n",
    "plt.legend()\n",
    "plt.xlabel(\"S\")\n",
    "plt.ylabel(\"V\")\n",
    "plt.title(\"Payoff for a Bermudan put option at maturity\")\n",
    "plt.savefig(\"figures/put_at_maturity_NN.pdf\", dpi=300)"
   ]
  },
  {
   "cell_type": "code",
   "execution_count": null,
   "id": "a5c996fc-239c-438b-b4e7-d3c1293b0565",
   "metadata": {},
   "outputs": [],
   "source": []
  },
  {
   "cell_type": "code",
   "execution_count": null,
   "id": "8a01fc76-aee1-4712-a859-f528991e7ada",
   "metadata": {},
   "outputs": [],
   "source": [
    "# NN payoff at later times"
   ]
  },
  {
   "cell_type": "code",
   "execution_count": 196,
   "id": "e3d23fb3-7289-416a-b372-79c3bc6ee6cb",
   "metadata": {},
   "outputs": [],
   "source": [
    "m=3\n",
    "V = np.zeros(len(nf.stock_paths[:,nf.dates[m+1]]))"
   ]
  },
  {
   "cell_type": "code",
   "execution_count": 197,
   "id": "38b4feba-8512-40e4-9763-04651838211a",
   "metadata": {},
   "outputs": [],
   "source": [
    "m=0\n",
    "for s in range(len(nf.stock_paths[:,nf.dates[m+1]])): \n",
    "    V[s] = np.sum(nf.opt_val[:,m,s])\n",
    "\n",
    "h = np.maximum(0, nf.K - nf.stock_paths[:,99])\n",
    "\n",
    "for i, value in enumerate(h):\n",
    "    if value > V[i]:\n",
    "        Y_train[i] = value\n",
    "    else:\n",
    "        Y_train[i] = V[i]\n",
    "#Y_train = np.maximum(nf.h, V)\n",
    "\n",
    "X_train = np.array(nf.stock_paths[:,99])"
   ]
  },
  {
   "cell_type": "code",
   "execution_count": 198,
   "id": "1b085c58-d3c3-45b7-b671-135451363344",
   "metadata": {},
   "outputs": [],
   "source": [
    "X_train = X_train.reshape(1,-1)"
   ]
  },
  {
   "cell_type": "code",
   "execution_count": 199,
   "id": "80ad00bf-f13e-4d2e-924c-b9ce8bbe902b",
   "metadata": {},
   "outputs": [
    {
     "data": {
      "text/plain": [
       "<matplotlib.collections.PathCollection at 0x18e86089340>"
      ]
     },
     "execution_count": 199,
     "metadata": {},
     "output_type": "execute_result"
    },
    {
     "data": {
      "image/png": "[encoded data removed]",
      "text/plain": [
       "<Figure size 432x288 with 1 Axes>"
      ]
     },
     "metadata": {
      "needs_background": "light"
     },
     "output_type": "display_data"
    }
   ],
   "source": [
    "plt.scatter(X_train, Y_train)"
   ]
  },
  {
   "cell_type": "code",
   "execution_count": 213,
   "id": "56fa0c36-a7be-4692-8471-e3d26f0a02ca",
   "metadata": {},
   "outputs": [],
   "source": [
    "V = nf.nnets[3].predict(np.array(S).reshape(-1,1))"
   ]
  },
  {
   "cell_type": "code",
   "execution_count": 214,
   "id": "3de444d5-c5ce-460e-a0ca-3d5002d6594f",
   "metadata": {},
   "outputs": [
    {
     "data": {
      "image/png": "[encoded data removed]",
      "text/plain": [
       "<Figure size 432x288 with 1 Axes>"
      ]
     },
     "metadata": {
      "needs_background": "light"
     },
     "output_type": "display_data"
    }
   ],
   "source": [
    "plt.scatter(S,V, label=\"NN output\")\n",
    "#plt.scatter(X_train, Y_train, label=\"training data\")\n",
    "plt.legend()\n",
    "plt.xlabel(\"S\")\n",
    "plt.ylabel(\"V\")\n",
    "plt.title(\"Estimated Payoff for a put option at M-4 by NN\")\n",
    "plt.savefig(\"figures/M-4_payoff_NN.pdf\", dpi=300)"
   ]
  }
 ],
 "metadata": {
  "kernelspec": {
   "display_name": "Python 3 (ipykernel)",
   "language": "python",
   "name": "python3"
  },
  "language_info": {
   "codemirror_mode": {
    "name": "ipython",
    "version": 3
   },
   "file_extension": ".py",
   "mimetype": "text/x-python",
   "name": "python",
   "nbconvert_exporter": "python",
   "pygments_lexer": "ipython3",
   "version": "3.8.0"
  }
 },
 "nbformat": 4,
 "nbformat_minor": 5
}
