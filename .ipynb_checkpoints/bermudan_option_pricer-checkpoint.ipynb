{
 "cells": [
  {
   "cell_type": "markdown",
   "id": "7e538ce4",
   "metadata": {},
   "source": [
    "# American and Bermudan Option pricer"
   ]
  },
  {
   "cell_type": "code",
   "execution_count": 1,
   "id": "58183e58",
   "metadata": {},
   "outputs": [],
   "source": [
    "# Packages used\n",
    "import numpy as np\n",
    "import matplotlib.pyplot as plt\n",
    "from scipy import odr\n",
    "from helper import GBM_Euler, value_option_schwarz, value_option_schwarz_test, value_option_bermudan\n",
    "import keras\n",
    "from scipy.stats import norm"
   ]
  },
  {
   "cell_type": "markdown",
   "id": "aba344ff",
   "metadata": {},
   "source": [
    "## Simulations Run with Data from paper\n",
    "\n",
    "American option should be priced at .1144"
   ]
  },
  {
   "cell_type": "code",
   "execution_count": 2,
   "id": "3371e58d",
   "metadata": {},
   "outputs": [],
   "source": [
    "# Parameters\n",
    "K=1.1; M=4; r=.06; realizations=8\n",
    "\n",
    "# Matrix\n",
    "path_matrix = np.array([\n",
    "[1.00, 1.09, 1.08, 1.34],\n",
    "[1.00, 1.16, 1.26, 1.54],\n",
    "[1.00, 1.22, 1.07, 1.03],\n",
    "[1.00, 0.93, 0.97, 0.92],\n",
    "[1.00, 1.11, 1.56, 1.52],\n",
    "[1.00, .76, 0.77, 0.90],\n",
    "[1.00, 0.92, 0.84, 1.01],\n",
    "[1.00, 0.88, 1.22, 1.34]])"
   ]
  },
  {
   "cell_type": "code",
   "execution_count": 5,
   "id": "518fe3c0",
   "metadata": {},
   "outputs": [
    {
     "name": "stdout",
     "output_type": "stream",
     "text": [
      "Price of American Option is: 0.11443433004505696\n"
     ]
    }
   ],
   "source": [
    "# Generate cash flows under Longstaff-Schwarz\n",
    "cash_flows= value_option_schwarz(M,K,path_matrix, r, realizations, option=\"put\")\n",
    "\n",
    "# Discount cash flows\n",
    "for time in range(cash_flows.shape[1]):\n",
    "    cash_flows[:,time]*=np.exp(-r*time)\n",
    "print(f'Price of American Option is: {np.sum(cash_flows[0:])/realizations}')"
   ]
  },
  {
   "cell_type": "code",
   "execution_count": 6,
   "id": "25774ac4",
   "metadata": {},
   "outputs": [
    {
     "name": "stdout",
     "output_type": "stream",
     "text": [
      "Price of American Option is: 0.11443433004505696\n"
     ]
    }
   ],
   "source": [
    "cash_flows_test = value_option_schwarz_test(M,K,path_matrix, r, realizations, option=\"put\")\n",
    "\n",
    "# Discount cash flows\n",
    "for time in range(cash_flows.shape[1]):\n",
    "    cash_flows_test[:,time]*=np.exp(-r*time)\n",
    "print(f'Price of American Option is: {np.sum(cash_flows_test[0:])/realizations}')    "
   ]
  },
  {
   "cell_type": "code",
   "execution_count": 7,
   "id": "db2ce593",
   "metadata": {},
   "outputs": [
    {
     "name": "stdout",
     "output_type": "stream",
     "text": [
      "Price of Bermudan Option is: 0.11561153571203728\n"
     ]
    }
   ],
   "source": [
    "# Unit test Bermudian pricer by giving it same amount of exericse options as American\n",
    "exercise_dates = [1,2,3,4]\n",
    "cash_flow_bermudan = value_option_bermudan(M, K, path_matrix, r, realizations, exercise_dates, option=\"put\")\n",
    "\n",
    "for time in range(cash_flow_bermudan.shape[1]):\n",
    "    cash_flow_bermudan[:,time] *= np.exp(-r*time)\n",
    "print(f'Price of Bermudan Option is: {np.sum(cash_flow_bermudan[0:])/realizations}')    "
   ]
  },
  {
   "cell_type": "code",
   "execution_count": 8,
   "id": "3d7b91bf",
   "metadata": {},
   "outputs": [
    {
     "name": "stdout",
     "output_type": "stream",
     "text": [
      "Price of Bermudan Option is: 0.056380739270260896\n"
     ]
    }
   ],
   "source": [
    "# Fewer exercise points should lead to lower option price\n",
    "exercise_dates = [2,3,4]\n",
    "cash_flow_bermudan = value_option_bermudan(M, K, path_matrix, r, realizations, exercise_dates, option=\"put\")\n",
    "\n",
    "for time in range(cash_flow_bermudan.shape[1]):\n",
    "    cash_flow_bermudan[:,time] *= np.exp(-r*time)\n",
    "print(f'Price of Bermudan Option is: {np.sum(cash_flow_bermudan[0:])/realizations}')    "
   ]
  },
  {
   "cell_type": "code",
   "execution_count": 9,
   "id": "1cbc3512-ef59-4864-8cfe-b739e9e66a01",
   "metadata": {},
   "outputs": [
    {
     "name": "stdout",
     "output_type": "stream",
     "text": [
      "Price of Bermudan Option is: 0.11561153571203728\n"
     ]
    }
   ],
   "source": [
    "# Unit test Bermudian pricer by giving it same amount of exericse options as American\n",
    "exercise_dates = [1,2,3,4]\n",
    "cash_flow_bermudan = value_option_bermudan(M, K, path_matrix, r, realizations, exercise_dates, option=\"put\")\n",
    "\n",
    "for time in range(cash_flow_bermudan.shape[1]):\n",
    "    cash_flow_bermudan[:,time] *= np.exp(-r*time)\n",
    "print(f'Price of Bermudan Option is: {np.sum(cash_flow_bermudan[0:])/realizations}')  "
   ]
  },
  {
   "cell_type": "markdown",
   "id": "fa7f14bb",
   "metadata": {},
   "source": [
    "## Simulation based on GBM"
   ]
  },
  {
   "cell_type": "code",
   "execution_count": 24,
   "id": "c7beb285",
   "metadata": {},
   "outputs": [],
   "source": [
    "# Variables used\n",
    "T = 1\n",
    "K = 110\n",
    "S = 100\n",
    "M = 100\n",
    "sigma = 0.2\n",
    "r = 0.06\n",
    "realizations = 2000\n",
    "exercise_dates = np.array([24,49, 74, 99])"
   ]
  },
  {
   "cell_type": "code",
   "execution_count": 25,
   "id": "546daef9-4ff6-4e20-8cdf-0a99595ad4e2",
   "metadata": {},
   "outputs": [],
   "source": [
    "europeans = np.zeros(100)\n",
    "americans = np.zeros(100)\n",
    "\n",
    "for i in range(100):\n",
    "    s_all = np.array([np.array(GBM_Euler(T, S, sigma, r, M)) for x in range(realizations)])\n",
    "    europeans[i] = np.sum(np.maximum(0,K-s_all[:,-1]))/realizations * np.exp(-r * M)\n",
    "    option_cash_flow = value_option_schwarz(M,K,s_all, r, realizations,order=2,option=\"put\")\n",
    "    for time in range(option_cash_flow.shape[1]):\n",
    "        option_cash_flow[:,time]*=np.exp(-r*time)\n",
    "    americans[i] =  np.sum(option_cash_flow)/realizations"
   ]
  },
  {
   "cell_type": "code",
   "execution_count": 26,
   "id": "3fc470b9-f9b5-45d8-8cc9-33008091034f",
   "metadata": {},
   "outputs": [
    {
     "data": {
      "text/plain": [
       "0.026280931234131343"
      ]
     },
     "execution_count": 26,
     "metadata": {},
     "output_type": "execute_result"
    }
   ],
   "source": [
    "np.mean(europeans)"
   ]
  },
  {
   "cell_type": "code",
   "execution_count": 27,
   "id": "cd195f13-ba7b-4fe3-84f6-bba0ad186f30",
   "metadata": {},
   "outputs": [
    {
     "data": {
      "text/plain": [
       "9.359448855596533"
      ]
     },
     "execution_count": 27,
     "metadata": {},
     "output_type": "execute_result"
    }
   ],
   "source": [
    "np.mean(americans)"
   ]
  },
  {
   "cell_type": "markdown",
   "id": "20422073-b690-4c48-a3f1-0327491c5ac4",
   "metadata": {},
   "source": [
    "### Neural Net"
   ]
  },
  {
   "cell_type": "code",
   "execution_count": 14,
   "id": "c47837b0-f685-429c-9d33-47ff0cc81258",
   "metadata": {},
   "outputs": [],
   "source": [
    "from keras.models import Sequential\n",
    "from keras.layers import Dense, Input\n",
    "import keras.optimizers as opt\n",
    "from keras.constraints import Constraint\n",
    "from keras import backend as keras_backend\n",
    "import tensorflow as tf"
   ]
  },
  {
   "cell_type": "code",
   "execution_count": 15,
   "id": "50c4f64d-4e4a-4705-9a9d-2024db02a175",
   "metadata": {},
   "outputs": [],
   "source": [
    "def BSM_call(s_t, k, r, vol, dt):\n",
    "    d_1_c = (1 / (vol * (dt ** 0.5))) \n",
    "    d1_log =  (np.log((s_t)/(k)) + ((r + (vol ** 2) / 2) * dt))\n",
    "    d_1 = d_1_c * d1_log\n",
    "    d_2 = d_1 - vol * (dt ** 0.5)\n",
    "    return (np.multiply(norm.cdf(d_1),  s_t) - (norm.cdf(d_2) * k * np.exp(-r * dt)))\n",
    "\n",
    "def BSM_put(s_t, k, r, vol, dt):\n",
    "    d_1_c = (1 / (vol * (dt ** 0.5))) \n",
    "    d1_log =  (np.log((s_t)/(k)) + ((r + (vol ** 2) / 2) * dt))\n",
    "    d_1 = d_1_c * d1_log\n",
    "    d_2 = d_1 - vol * (dt ** 0.5)\n",
    "    return ((norm.cdf(-d_2) * k * np.exp(-r * dt)) - np.multiply(norm.cdf(-d_1),  s_t))\n",
    "\n",
    "def identify_positions(wt_list, strike_list):\n",
    "    positions = np.where(np.logical_and(wt_list>0, strike_list<0), \"C\", \n",
    "                        np.where(np.logical_and(wt_list>0, strike_list>=0), \"F\", \n",
    "                                 np.where(np.logical_and(wt_list<0, strike_list>0), \"P\", \"N\")))\n",
    "    \n",
    "    pos = (np.array(np.unique(positions, return_counts=True)).T)\n",
    "    no_of_pos_dict = {\"C\":0 , \"P\":0, \"F\":0 , \"N\":0 }\n",
    "    \n",
    "    for i in range(0, len(pos[:,0])):\n",
    "        no_of_pos_dict[pos[i,0]] = int(pos[i,1])\n",
    "\n",
    "    return no_of_pos_dict[\"C\"], no_of_pos_dict[\"P\"], no_of_pos_dict[\"F\"], no_of_pos_dict[\"N\"], positions"
   ]
  },
  {
   "cell_type": "code",
   "execution_count": 81,
   "id": "c7b7ae3a-bf8f-406d-9e8d-4b20d99d2c09",
   "metadata": {},
   "outputs": [],
   "source": [
    "class neural_bermudan_fitter:\n",
    "    def __init__(self, r, sigma, stock_paths, K, dates, option=\"put\", ittol=10, T=1, nodes=10, epochs=10, pre_trained_model=None):\n",
    "        self.stock_paths = stock_paths\n",
    "        self.K = K\n",
    "        assert all(earlier > later for earlier, later in zip(dates, dates[1:])), 'the dates should be in descending order'\n",
    "        self.dates = dates\n",
    "        \n",
    "        self.T=T\n",
    "        self.r = r\n",
    "        self.sigma = sigma\n",
    "        self.option = option.lower()\n",
    "        self.N = len(self.stock_paths)\n",
    "        self.M = len(self.dates)\n",
    "        self.num_stoch_movements = len(self.stock_paths[0])\n",
    "        self.nodes = nodes\n",
    "        self.epochs = epochs\n",
    "        self.ittol=ittol\n",
    "        \n",
    "        self.evaluate_final()\n",
    "        \n",
    "        #step 3 of Jain\n",
    "        self.beta = np.random.uniform(size=(self.N,1))\n",
    "        self.nnets = []\n",
    "        if pre_trained_model:\n",
    "            self.nnets.append(pre_trained_model)\n",
    "        else:\n",
    "            self.setup_network()\n",
    "        self.V = np.zeros(self.N)\n",
    "        self.Q_hat = np.zeros(self.N)\n",
    "        self.callback = tf.keras.callbacks.EarlyStopping(monitor='loss', patience=30)\n",
    "        self.histories = []\n",
    "        self.opt_val = np.zeros((self.nodes, len(self.dates), self.N))\n",
    "        \n",
    "    def evaluate_final(self):\n",
    "        # step 2 of algorithm in Jain paper\n",
    "        if self.option == 'call':\n",
    "            self.h = tf.maximum(self.stock_paths[:,-1] - self.K,0)\n",
    "        else:\n",
    "            self.h = tf.maximum(self.K - self.stock_paths[:,-1],0)\n",
    "            \n",
    "    def setup_network(self):\n",
    "        model = Sequential([\n",
    "            Input(shape=(1)),\n",
    "            Dense(10,activation='relu',trainable=True, kernel_initializer = 'random_uniform'),\n",
    "            Dense(1,activation='linear',trainable=True, kernel_initializer=keras.initializers.RandomUniform(minval=-0.01, maxval=0.01, seed=None))\n",
    "            ])\n",
    "        model.compile(tf.optimizers.Adam(learning_rate=0.001), loss='mean_squared_error')\n",
    "        self.nnets.append(model)\n",
    "    \n",
    "    def copy_network(self):\n",
    "        new_model = keras.models.clone_model(self.nnets[-1])\n",
    "        new_model.compile(tf.optimizers.Adam(learning_rate=0.001), loss='mean_squared_error')\n",
    "        new_model.set_weights(self.nnets[-1].get_weights())\n",
    "        self.nnets.append(new_model)\n",
    "        \n",
    "    def run_pricing_simulation(self):        \n",
    "        for m,date in enumerate(self.dates[0:len(self.dates)-1]):\n",
    "            #step 5\n",
    "            self.fit_model(m,date)\n",
    "            w_vect = np.array(self.nnets[-1].layers[0].get_weights()[0]).reshape(-1)\n",
    "            w_vect_2 = np.array(self.nnets[-1].layers[1].get_weights()[0]).reshape(-1)\n",
    "            strikes = np.array(self.nnets[-1].layers[0].get_weights()[1]).reshape(-1)\n",
    "            bias_2 = np.array(self.nnets[-1].layers[1].get_weights()[1]).reshape(-1)\n",
    "            \n",
    "            # steps 6 to 12\n",
    "            time_to_maturity =  (self.dates[m] - self.dates[m+1]) / self.dates[0]                   \n",
    "            for node in range(self.nodes):\n",
    "                # maybe change m-1 to m for all options\n",
    "                if w_vect[node] > 0 and strikes[node] > 0:\n",
    "                    # Forward contract\n",
    "                    self.opt_val[node, m, :] = (w_vect[node]*stock_paths[:,self.dates[m]]+strike[node]) * np.exp(-r*(self.dates[m] - self.dates[m+1]))\n",
    "                elif w_vect[node] < 0 and strikes[node] > 0:\n",
    "                    # Put Option\n",
    "                    k = -strikes[node]/w_vect[node]\n",
    "                    put_pricing = lambda s: BSM_put(s, k, self.r, self.sigma, time_to_maturity)\n",
    "                    find_put_price = np.vectorize(put_pricing)\n",
    "                    self.opt_val[node, m, :] =  find_put_price(self.stock_paths[:,self.dates[m]])\n",
    "                elif w_vect[node] > 0 and strikes[node] < 0:\n",
    "                    # Call option\n",
    "                    k = strikes[node]/w_vect[node]\n",
    "                    call_pricing = lambda s: BSM_call(s, k, self.r, self.sigma, time_to_maturity)\n",
    "                    find_call_price = np.vectorize(call_pricing)\n",
    "                    self.opt_val[node, m, :] =  find_call_price(self.stock_paths[:,self.dates[m]])\n",
    "            \n",
    "            for s in range(len(self.stock_paths[:,self.dates[m+1]])): \n",
    "                self.Q_hat[s] = np.sum(self.opt_val[:,m,s])\n",
    "                           \n",
    "            self.copy_network()\n",
    "\n",
    "            \n",
    "    def fit_model(self,m, date):\n",
    "        if self.option=='call':\n",
    "            self.h = np.maximum(0, self.stock_paths[:,date] - self.K)\n",
    "            for i, value in enumerate(h):\n",
    "                if value > self.Q_hat[i]:\n",
    "                    Y_train[i] = value\n",
    "                else:\n",
    "                    Y_train[i] = self.Q_hat[i]\n",
    "            #print(Y_train)\n",
    "        else:\n",
    "            self.h = np.maximum(0, self.K - self.stock_paths[:,date])\n",
    "            for i, value in enumerate(self.h):\n",
    "                if value > self.Q_hat[i]:\n",
    "                    Y_train[i] = value\n",
    "                else:\n",
    "                    Y_train[i] = self.Q_hat[i]\n",
    "            #print(Y_train)\n",
    "            \n",
    "            \n",
    "        X_train = np.array(self.stock_paths[:,date])\n",
    "        self.histories.append(self.nnets[-1].fit(X_train.reshape(-1,1), Y_train.reshape(-1,1), epochs=self.epochs, callbacks=[self.callback], verbose=0))\n",
    "        i=0\n",
    "        while self.histories[-1].history['loss'][-1] > 100 and i< self.ittol:\n",
    "            i+=1\n",
    "            print(\"warning. NN didn't converge\")\n",
    "            print(f\"loss: {self.histories[-1].history['loss'][-1]}, time: {date}\")\n",
    "            self.histories.append(self.nnets[-1].fit(X_train.reshape(-1,1), Y_train.reshape(-1,1), epochs=self.epochs, callbacks=[self.callback], verbose=0))\n"
   ]
  },
  {
   "cell_type": "code",
   "execution_count": 21,
   "id": "5d7ac7e4-8383-4786-abd3-3b49303c78bb",
   "metadata": {},
   "outputs": [],
   "source": [
    "# Pre train a NN at the standard payoffs"
   ]
  },
  {
   "cell_type": "code",
   "execution_count": 82,
   "id": "e214af52-7d94-4fbd-9fc3-aed63fa8b8b5",
   "metadata": {},
   "outputs": [],
   "source": [
    "nn = Sequential([\n",
    "            Input(shape=(1)),\n",
    "            Dense(10,activation='relu',trainable=True, kernel_initializer = 'random_uniform'),\n",
    "            Dense(1,activation='linear',trainable=True, kernel_initializer=keras.initializers.RandomUniform(minval=-0.01, maxval=0.01, seed=None))\n",
    "            ])\n",
    "nn.compile(tf.optimizers.Adam(learning_rate=0.001), loss='mean_squared_error')"
   ]
  },
  {
   "cell_type": "code",
   "execution_count": 83,
   "id": "d73f1342-a90f-48e4-a630-16f8d350214b",
   "metadata": {},
   "outputs": [],
   "source": [
    "Y_train = np.maximum(K - s_all[:,-1], 0)\n",
    "\n",
    "X_train = s_all[:,-1]"
   ]
  },
  {
   "cell_type": "code",
   "execution_count": 84,
   "id": "09eeaf8d-669f-4352-aeaa-49dd786004bc",
   "metadata": {},
   "outputs": [],
   "source": [
    "callback = tf.keras.callbacks.EarlyStopping(monitor='loss', patience=30)\n",
    "history = nn.fit(X_train.reshape(-1,1), Y_train.reshape(-1,1), epochs=500, verbose=0, callbacks=[callback])\n",
    "if history.history['loss'][-1] > 1:\n",
    "    print(\"warning. NN didn't converge\")"
   ]
  },
  {
   "cell_type": "code",
   "execution_count": 85,
   "id": "ee357210-60b4-4b25-bb2f-d18fe32b71a1",
   "metadata": {},
   "outputs": [],
   "source": [
    "dates = [0,24,49,74, 99]\n",
    "dates.reverse()"
   ]
  },
  {
   "cell_type": "code",
   "execution_count": 86,
   "id": "a629d713-1f26-47e4-84d7-d547000f6b3b",
   "metadata": {},
   "outputs": [],
   "source": [
    "nf = neural_bermudan_fitter(r, sigma, s_all,  K, dates, epochs = 1000, pre_trained_model= nn)"
   ]
  },
  {
   "cell_type": "code",
   "execution_count": 87,
   "id": "2acf4eeb-cde5-437a-a0f1-1b102701eab1",
   "metadata": {},
   "outputs": [
    {
     "name": "stdout",
     "output_type": "stream",
     "text": [
      "warning. NN didn't converge\n",
      "loss: 567.5603637695312, time: 74\n",
      "warning. NN didn't converge\n",
      "loss: 569.5548095703125, time: 74\n",
      "warning. NN didn't converge\n",
      "loss: 565.6134033203125, time: 74\n",
      "warning. NN didn't converge\n",
      "loss: 569.0899047851562, time: 74\n",
      "warning. NN didn't converge\n",
      "loss: 567.4295654296875, time: 74\n",
      "warning. NN didn't converge\n",
      "loss: 567.0747680664062, time: 74\n",
      "warning. NN didn't converge\n",
      "loss: 571.1113891601562, time: 74\n",
      "warning. NN didn't converge\n",
      "loss: 567.7628784179688, time: 74\n",
      "warning. NN didn't converge\n",
      "loss: 568.4844970703125, time: 74\n",
      "warning. NN didn't converge\n",
      "loss: 566.000244140625, time: 74\n",
      "warning. NN didn't converge\n",
      "loss: 657.841796875, time: 49\n",
      "warning. NN didn't converge\n",
      "loss: 653.6802978515625, time: 49\n",
      "warning. NN didn't converge\n",
      "loss: 650.7765502929688, time: 49\n",
      "warning. NN didn't converge\n",
      "loss: 653.4404907226562, time: 49\n",
      "warning. NN didn't converge\n",
      "loss: 651.8623657226562, time: 49\n",
      "warning. NN didn't converge\n",
      "loss: 654.5042114257812, time: 49\n",
      "warning. NN didn't converge\n",
      "loss: 650.5671997070312, time: 49\n",
      "warning. NN didn't converge\n",
      "loss: 653.2686767578125, time: 49\n",
      "warning. NN didn't converge\n",
      "loss: 650.0784912109375, time: 49\n",
      "warning. NN didn't converge\n",
      "loss: 652.9342041015625, time: 49\n",
      "warning. NN didn't converge\n",
      "loss: 695.8899536132812, time: 24\n",
      "warning. NN didn't converge\n",
      "loss: 700.6055297851562, time: 24\n",
      "warning. NN didn't converge\n",
      "loss: 703.4400634765625, time: 24\n",
      "warning. NN didn't converge\n",
      "loss: 694.70458984375, time: 24\n",
      "warning. NN didn't converge\n",
      "loss: 697.0095825195312, time: 24\n",
      "warning. NN didn't converge\n",
      "loss: 700.176513671875, time: 24\n",
      "warning. NN didn't converge\n",
      "loss: 699.4863891601562, time: 24\n",
      "warning. NN didn't converge\n",
      "loss: 697.229248046875, time: 24\n",
      "warning. NN didn't converge\n",
      "loss: 697.7908325195312, time: 24\n",
      "warning. NN didn't converge\n",
      "loss: 695.0182495117188, time: 24\n"
     ]
    }
   ],
   "source": [
    "nf.run_pricing_simulation()"
   ]
  },
  {
   "cell_type": "code",
   "execution_count": 62,
   "id": "d82297c2-7990-48d9-a3af-960fa510da51",
   "metadata": {},
   "outputs": [
    {
     "data": {
      "text/plain": [
       "array([[33.144867]], dtype=float32)"
      ]
     },
     "execution_count": 62,
     "metadata": {},
     "output_type": "execute_result"
    }
   ],
   "source": [
    "# final Bermudan Put value\n",
    "nf.nnets[3].predict(np.array(100).reshape(-1,1))"
   ]
  },
  {
   "cell_type": "code",
   "execution_count": 63,
   "id": "b458d1b6-77f3-4236-836a-650b4aeb1676",
   "metadata": {
    "tags": []
   },
   "outputs": [
    {
     "data": {
      "text/plain": [
       "(0,\n",
       " 2,\n",
       " 0,\n",
       " 8,\n",
       " array(['N', 'P', 'N', 'N', 'P', 'N', 'N', 'N', 'N', 'N'], dtype='<U1'))"
      ]
     },
     "execution_count": 63,
     "metadata": {},
     "output_type": "execute_result"
    }
   ],
   "source": [
    "# Final portfolios\n",
    "w_vect = np.array(nf.nnets[0].layers[0].get_weights()[0]).reshape(-1)\n",
    "strikes = np.array(nf.nnets[0].layers[0].get_weights()[1]).reshape(-1)\n",
    "\n",
    "identify_positions(w_vect, strikes)"
   ]
  },
  {
   "cell_type": "code",
   "execution_count": 64,
   "id": "2154884a-c7a0-4453-ba4d-2eb2c85e3eff",
   "metadata": {},
   "outputs": [
    {
     "data": {
      "text/plain": [
       "array([  0.     , 109.99946,   0.     ,   0.     , 110.00026,   0.     ,\n",
       "         0.     ,   0.     ,   0.     ,   0.     ], dtype=float32)"
      ]
     },
     "execution_count": 64,
     "metadata": {},
     "output_type": "execute_result"
    }
   ],
   "source": [
    "-strikes/w_vect"
   ]
  },
  {
   "cell_type": "code",
   "execution_count": 65,
   "id": "55efde37-6514-4f07-8842-d7853f5f93dd",
   "metadata": {},
   "outputs": [
    {
     "data": {
      "text/plain": [
       "9.605892634054214"
      ]
     },
     "execution_count": 65,
     "metadata": {},
     "output_type": "execute_result"
    }
   ],
   "source": [
    "BSM_put(100,K, r,sigma,0.25)"
   ]
  },
  {
   "cell_type": "code",
   "execution_count": 36,
   "id": "28c19f54-5f70-4126-8fd0-9fbde74012d8",
   "metadata": {},
   "outputs": [],
   "source": [
    "# Open Questions:\n",
    "# - How to choose dt?"
   ]
  },
  {
   "cell_type": "code",
   "execution_count": null,
   "id": "dc971ed1-66f3-4fa1-bc6f-5cefbb299b78",
   "metadata": {},
   "outputs": [],
   "source": []
  },
  {
   "cell_type": "code",
   "execution_count": null,
   "id": "88055479-d2a6-4398-b859-c3a7d7c1721e",
   "metadata": {},
   "outputs": [],
   "source": []
  },
  {
   "cell_type": "code",
   "execution_count": null,
   "id": "622ab3c7-c764-4ad2-b1d4-87c53455bc1b",
   "metadata": {},
   "outputs": [],
   "source": []
  },
  {
   "cell_type": "code",
   "execution_count": null,
   "id": "b142223a-7dfa-4a1c-9010-0e9df49f75d0",
   "metadata": {},
   "outputs": [],
   "source": []
  },
  {
   "cell_type": "code",
   "execution_count": null,
   "id": "b64dec22-fbb6-461a-905e-1ea3527c8b52",
   "metadata": {},
   "outputs": [],
   "source": []
  },
  {
   "cell_type": "code",
   "execution_count": null,
   "id": "cd51c251-2346-45f8-ba6d-93170eb95678",
   "metadata": {},
   "outputs": [],
   "source": []
  },
  {
   "cell_type": "code",
   "execution_count": 37,
   "id": "9cb2c1eb-7ae1-4826-9c0c-093dc5192236",
   "metadata": {},
   "outputs": [],
   "source": [
    "# Figures for presentation"
   ]
  },
  {
   "cell_type": "code",
   "execution_count": 38,
   "id": "2492cab7-84f3-42e4-abea-07900a5ad256",
   "metadata": {},
   "outputs": [],
   "source": [
    "# Pre trained NN"
   ]
  },
  {
   "cell_type": "code",
   "execution_count": 69,
   "id": "353ffb6b-5fec-44c1-9c7c-fd6504ee1c5f",
   "metadata": {},
   "outputs": [],
   "source": [
    "Y_train = np.maximum(K - s_all[:,-1], 0)\n",
    "\n",
    "X_train = s_all[:,-1]"
   ]
  },
  {
   "cell_type": "code",
   "execution_count": 70,
   "id": "3a56415c-e07a-4464-a5d3-91af1367801a",
   "metadata": {},
   "outputs": [
    {
     "data": {
      "text/plain": [
       "<matplotlib.collections.PathCollection at 0x214e2f7f940>"
      ]
     },
     "execution_count": 70,
     "metadata": {},
     "output_type": "execute_result"
    },
    {
     "data": {
      "image/png": "[encoded data removed]",
      "text/plain": [
       "<Figure size 432x288 with 1 Axes>"
      ]
     },
     "metadata": {
      "needs_background": "light"
     },
     "output_type": "display_data"
    }
   ],
   "source": [
    "plt.scatter(X_train, Y_train)"
   ]
  },
  {
   "cell_type": "code",
   "execution_count": 72,
   "id": "49b174b2-5d9a-4b37-ab57-830f83d4396a",
   "metadata": {},
   "outputs": [
    {
     "name": "stdout",
     "output_type": "stream",
     "text": [
      "WARNING:tensorflow:5 out of the last 11 calls to <function Model.make_predict_function.<locals>.predict_function at 0x00000213A3E691F0> triggered tf.function retracing. Tracing is expensive and the excessive number of tracings could be due to (1) creating @tf.function repeatedly in a loop, (2) passing tensors with different shapes, (3) passing Python objects instead of tensors. For (1), please define your @tf.function outside of the loop. For (2), @tf.function has experimental_relax_shapes=True option that relaxes argument shapes that can avoid unnecessary retracing. For (3), please refer to https://www.tensorflow.org/guide/function#controlling_retracing and https://www.tensorflow.org/api_docs/python/tf/function for  more details.\n"
     ]
    }
   ],
   "source": [
    "S = np.arange(60,120)\n",
    "V = np.zeros(S.shape)\n",
    "\n",
    "V = nn.predict(np.array(S).reshape(-1,1))"
   ]
  },
  {
   "cell_type": "code",
   "execution_count": 73,
   "id": "45dfd59c-f44e-4278-b74e-862bd8068cfb",
   "metadata": {},
   "outputs": [
    {
     "data": {
      "image/png": "[encoded data removed]",
      "text/plain": [
       "<Figure size 432x288 with 1 Axes>"
      ]
     },
     "metadata": {
      "needs_background": "light"
     },
     "output_type": "display_data"
    }
   ],
   "source": [
    "plt.scatter(S,V, label=\"NN output\")\n",
    "plt.scatter(X_train, Y_train, label=\"training data\")\n",
    "plt.legend()\n",
    "plt.xlabel(\"S\")\n",
    "plt.ylabel(\"V\")\n",
    "plt.title(\"Payoff for a Bermudan put option at maturity\")\n",
    "plt.savefig(\"figures/put_at_maturity_NN.jpg\", dpi=300)"
   ]
  },
  {
   "cell_type": "code",
   "execution_count": null,
   "id": "a5c996fc-239c-438b-b4e7-d3c1293b0565",
   "metadata": {},
   "outputs": [],
   "source": []
  },
  {
   "cell_type": "code",
   "execution_count": 43,
   "id": "8a01fc76-aee1-4712-a859-f528991e7ada",
   "metadata": {},
   "outputs": [],
   "source": [
    "# NN payoff at later times"
   ]
  },
  {
   "cell_type": "code",
   "execution_count": 43,
   "id": "56453f14-0a4a-441d-941c-6b86843133af",
   "metadata": {},
   "outputs": [],
   "source": [
    "Y_train = np.maximum(K - s_all[:,-1], 0)\n",
    "\n",
    "X_train = s_all[:,-1]"
   ]
  },
  {
   "cell_type": "code",
   "execution_count": 44,
   "id": "38b4feba-8512-40e4-9763-04651838211a",
   "metadata": {},
   "outputs": [],
   "source": [
    "m=1\n",
    "V = np.zeros(len(nf.stock_paths[:,nf.dates[m]]))\n",
    "\n",
    "for s in range(len(nf.stock_paths[:,nf.dates[m]])): \n",
    "    V[s] = np.sum(nf.opt_val[:,m,s])\n",
    "\n",
    "h = np.maximum(0, nf.K - nf.stock_paths[:,dates[m]])\n",
    "\n",
    "for i, value in enumerate(h):\n",
    "    if value > V[i]:\n",
    "        Y_train[i] = value\n",
    "    else:\n",
    "        Y_train[i] = V[i]\n",
    "#Y_train = np.maximum(nf.h, V)\n",
    "\n",
    "X_train = np.array(nf.stock_paths[:,dates[m]]).reshape(1,-1)"
   ]
  },
  {
   "cell_type": "code",
   "execution_count": 45,
   "id": "80ad00bf-f13e-4d2e-924c-b9ce8bbe902b",
   "metadata": {},
   "outputs": [
    {
     "data": {
      "text/plain": [
       "<matplotlib.collections.PathCollection at 0x214e2f01b20>"
      ]
     },
     "execution_count": 45,
     "metadata": {},
     "output_type": "execute_result"
    },
    {
     "data": {
      "image/png": "[encoded data removed]",
      "text/plain": [
       "<Figure size 432x288 with 1 Axes>"
      ]
     },
     "metadata": {
      "needs_background": "light"
     },
     "output_type": "display_data"
    }
   ],
   "source": [
    "plt.scatter(X_train, Y_train)"
   ]
  },
  {
   "cell_type": "code",
   "execution_count": 46,
   "id": "d88046ee-3a4c-4008-a79b-f25d5048e954",
   "metadata": {},
   "outputs": [],
   "source": [
    "S=np.arange(50,180)"
   ]
  },
  {
   "cell_type": "code",
   "execution_count": 47,
   "id": "56fa0c36-a7be-4692-8471-e3d26f0a02ca",
   "metadata": {},
   "outputs": [],
   "source": [
    "V = nf.nnets[m].predict(np.array(S).reshape(-1,1))"
   ]
  },
  {
   "cell_type": "code",
   "execution_count": 48,
   "id": "3de444d5-c5ce-460e-a0ca-3d5002d6594f",
   "metadata": {},
   "outputs": [
    {
     "data": {
      "image/png": "[encoded data removed]",
      "text/plain": [
       "<Figure size 432x288 with 1 Axes>"
      ]
     },
     "metadata": {
      "needs_background": "light"
     },
     "output_type": "display_data"
    }
   ],
   "source": [
    "plt.scatter(X_train, Y_train, label=\"training data\")\n",
    "plt.scatter(S,V, label=\"NN output\")\n",
    "#plt.scatter(X_train, Y_train, label=\"training data\")\n",
    "plt.legend()\n",
    "plt.xlabel(\"S\")\n",
    "plt.ylabel(\"V\")\n",
    "plt.title(f\"Estimated Payoff for a put option at M-{m} by NN\")\n",
    "plt.savefig(f\"figures/M-{m}_payoff_NN.jpg\", dpi=300)"
   ]
  }
 ],
 "metadata": {
  "kernelspec": {
   "display_name": "Python 3 (ipykernel)",
   "language": "python",
   "name": "python3"
  },
  "language_info": {
   "codemirror_mode": {
    "name": "ipython",
    "version": 3
   },
   "file_extension": ".py",
   "mimetype": "text/x-python",
   "name": "python",
   "nbconvert_exporter": "python",
   "pygments_lexer": "ipython3",
   "version": "3.8.0"
  }
 },
 "nbformat": 4,
 "nbformat_minor": 5
}
