{
 "cells": [
  {
   "cell_type": "markdown",
   "id": "7e538ce4",
   "metadata": {},
   "source": [
    "# American and Bermudan Option pricer"
   ]
  },
  {
   "cell_type": "code",
   "execution_count": 1,
   "id": "58183e58",
   "metadata": {},
   "outputs": [],
   "source": [
    "# Packages used\n",
    "import numpy as np\n",
    "import matplotlib.pyplot as plt\n",
    "from scipy import odr\n",
    "from helper import GBM_Euler, value_option_schwarz, value_option_schwarz_test, bermudian_pricer"
   ]
  },
  {
   "cell_type": "markdown",
   "id": "aba344ff",
   "metadata": {},
   "source": [
    "## Simulations Run with Data from paper\n",
    "\n",
    "American option should be priced at .1144"
   ]
  },
  {
   "cell_type": "code",
   "execution_count": 42,
   "id": "3371e58d",
   "metadata": {},
   "outputs": [],
   "source": [
    "# Parameters\n",
    "K=1.1; M=4; r=.06; realizations=8\n",
    "\n",
    "# Matrix\n",
    "path_matrix = np.array([\n",
    "[1.00, 1.09, 1.08, 1.34],\n",
    "[1.00, 1.16, 1.26, 1.54],\n",
    "[1.00, 1.22, 1.07, 1.03],\n",
    "[1.00, 0.93, 0.97, 0.92],\n",
    "[1.00, 1.11, 1.56, 1.52],\n",
    "[1.00, .76, 0.77, 0.90],\n",
    "[1.00, 0.92, 0.84, 1.01],\n",
    "[1.00, 0.88, 1.22, 1.34]])"
   ]
  },
  {
   "cell_type": "code",
   "execution_count": 44,
   "id": "518fe3c0",
   "metadata": {},
   "outputs": [
    {
     "name": "stdout",
     "output_type": "stream",
     "text": [
      "Price of American Option is: 0.11665163113684986\n"
     ]
    }
   ],
   "source": [
    "# Generate cash flows under Longstaff-Schwarz\n",
    "cash_flows = value_option_schwarz(M,K,path_matrix, r, realizations, option=\"put\")\n",
    "\n",
    "# Discount cash flows\n",
    "for time in range(cash_flows.shape[1]):\n",
    "    cash_flows[:,time]*=np.exp(-r*time)\n",
    "print(f'Price of American Option is: {np.sum(cash_flows[0:])/realizations}')"
   ]
  },
  {
   "cell_type": "code",
   "execution_count": 54,
   "id": "25774ac4",
   "metadata": {},
   "outputs": [
    {
     "name": "stdout",
     "output_type": "stream",
     "text": [
      "Price of American Option is: 0.11443433004505696\n"
     ]
    }
   ],
   "source": [
    "cash_flows_test = value_option_schwarz_test(M,K,path_matrix, r, realizations, option=\"put\")\n",
    "\n",
    "# Discount cash flows\n",
    "for time in range(cash_flows.shape[1]):\n",
    "    cash_flows_test[:,time]*=np.exp(-r*time)\n",
    "print(f'Price of American Option is: {np.sum(cash_flows_test[0:])/realizations}')    "
   ]
  },
  {
   "cell_type": "code",
   "execution_count": 56,
   "id": "db2ce593",
   "metadata": {},
   "outputs": [
    {
     "name": "stdout",
     "output_type": "stream",
     "text": [
      "Price of Bermudan Option is: 0.11606347518346377\n"
     ]
    }
   ],
   "source": [
    "# Unit test Bermudian pricer by giving it same amount of exericse options as American\n",
    "exercise_dates = [1,2,3]\n",
    "cash_flow_bermudan = bermudian_pricer(M, K, path_matrix, r, realizations, exercise_dates, option=\"put\")\n",
    "\n",
    "for time in range(cash_flow_bermudan.shape[1]):\n",
    "    cash_flow_bermudan[:,time] *= np.exp(-r*time)\n",
    "print(f'Price of Bermudan Option is: {np.sum(cash_flow_bermudan[0:])/realizations}')    "
   ]
  },
  {
   "cell_type": "code",
   "execution_count": 60,
   "id": "3d7b91bf",
   "metadata": {},
   "outputs": [
    {
     "name": "stdout",
     "output_type": "stream",
     "text": [
      "Price of Bermudan Option is: 0.10123968736030678\n"
     ]
    }
   ],
   "source": [
    "# Fewer exercise points should lead to lower option price\n",
    "exercise_dates = [2,3]\n",
    "cash_flow_bermudan = bermudian_pricer(M, K, path_matrix, r, realizations, exercise_dates, option=\"put\")\n",
    "\n",
    "for time in range(cash_flow_bermudan.shape[1]):\n",
    "    cash_flow_bermudan[:,time] *= np.exp(-r*time)\n",
    "print(f'Price of Bermudan Option is: {np.sum(cash_flow_bermudan[0:])/realizations}')    "
   ]
  },
  {
   "cell_type": "markdown",
   "id": "fa7f14bb",
   "metadata": {},
   "source": [
    "## Simulation based on GBM"
   ]
  },
  {
   "cell_type": "code",
   "execution_count": 68,
   "id": "c7beb285",
   "metadata": {},
   "outputs": [],
   "source": [
    "# Variables used\n",
    "T = 1\n",
    "K = 100\n",
    "S = 100\n",
    "M = 48\n",
    "sigma = 0.2\n",
    "r = 0.06/M\n",
    "realizations = 100\n",
    "exercise_dates = np.array([6, 12, 18, 24, 30, 36]) - 1"
   ]
  },
  {
   "cell_type": "code",
   "execution_count": 69,
   "id": "c3ac6a73",
   "metadata": {},
   "outputs": [],
   "source": [
    "# Generate stock scenarios\n",
    "s_all = np.array([np.array(GBM_Euler(T, S, sigma, r, M)) for x in range(realizations)])"
   ]
  },
  {
   "cell_type": "code",
   "execution_count": 70,
   "id": "e405294b",
   "metadata": {},
   "outputs": [],
   "source": [
    "# Generate path matrix\n",
    "path_matrix = np.zeros((realizations, M))\n",
    "for realization in range(realizations):\n",
    "    path_matrix[realization,:] = s_all[realization]"
   ]
  },
  {
   "cell_type": "code",
   "execution_count": 73,
   "id": "1284b3a7",
   "metadata": {},
   "outputs": [
    {
     "name": "stdout",
     "output_type": "stream",
     "text": [
      "2.8860019125550376\n"
     ]
    }
   ],
   "source": [
    "option_cash_flow = value_option_schwarz(M,K,path_matrix, r, realizations,option=\"put\")\n",
    "\n",
    "for time in range(option_cash_flow.shape[1]):\n",
    "    option_cash_flow[:,time]*=np.exp(-r*time)\n",
    "    \n",
    "print(np.sum(option_cash_flow[1:])/realizations)"
   ]
  },
  {
   "cell_type": "code",
   "execution_count": 74,
   "id": "e2f8f81b",
   "metadata": {},
   "outputs": [],
   "source": [
    "cash_flows_bermudan = bermudian_pricer(M, K, path_matrix, r, realizations, exercise_dates, option = \"put\")"
   ]
  },
  {
   "cell_type": "code",
   "execution_count": 84,
   "id": "68e288d6",
   "metadata": {
    "scrolled": false
   },
   "outputs": [
    {
     "name": "stdout",
     "output_type": "stream",
     "text": [
      "3.557788254727098\n"
     ]
    }
   ],
   "source": [
    "for time in range(cash_flows_bermudan.shape[1]):\n",
    "    \n",
    "    cash_flows_bermudan[:,time]*=np.exp(-r*exercise_dates[time])\n",
    "\n",
    "print(np.sum(cash_flows_bermudan[1:])/realizations)"
   ]
  },
  {
   "cell_type": "code",
   "execution_count": 85,
   "id": "127d725f",
   "metadata": {},
   "outputs": [
    {
     "data": {
      "text/plain": [
       "5"
      ]
     },
     "execution_count": 85,
     "metadata": {},
     "output_type": "execute_result"
    }
   ],
   "source": [
    "time\n"
   ]
  },
  {
   "cell_type": "code",
   "execution_count": 87,
   "id": "0b29e657",
   "metadata": {},
   "outputs": [
    {
     "data": {
      "text/plain": [
       "35"
      ]
     },
     "execution_count": 87,
     "metadata": {},
     "output_type": "execute_result"
    }
   ],
   "source": [
    "exercise_dates[time]"
   ]
  },
  {
   "cell_type": "code",
   "execution_count": null,
   "id": "136ddfab",
   "metadata": {},
   "outputs": [],
   "source": []
  }
 ],
 "metadata": {
  "kernelspec": {
   "display_name": "Python 3 (ipykernel)",
   "language": "python",
   "name": "python3"
  },
  "language_info": {
   "codemirror_mode": {
    "name": "ipython",
    "version": 3
   },
   "file_extension": ".py",
   "mimetype": "text/x-python",
   "name": "python",
   "nbconvert_exporter": "python",
   "pygments_lexer": "ipython3",
   "version": "3.9.7"
  }
 },
 "nbformat": 4,
 "nbformat_minor": 5
}
