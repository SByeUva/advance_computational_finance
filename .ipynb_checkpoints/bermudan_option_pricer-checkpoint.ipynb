{
 "cells": [
  {
   "cell_type": "markdown",
   "id": "7e538ce4",
   "metadata": {},
   "source": [
    "# American and Bermudan Option pricer"
   ]
  },
  {
   "cell_type": "code",
   "execution_count": 270,
   "id": "58183e58",
   "metadata": {},
   "outputs": [],
   "source": [
    "# Packages used\n",
    "import numpy as np\n",
    "import matplotlib.pyplot as plt\n",
    "from scipy import odr\n",
    "from helper import GBM_Euler, value_option_schwarz, value_option_schwarz_test, value_option_bermudan\n",
    "import keras\n",
    "from scipy.stats import norm\n",
    "import pandas as pd\n",
    "import seaborn as sns"
   ]
  },
  {
   "cell_type": "code",
   "execution_count": null,
   "id": "b6dc98f4-6f39-44bd-9bb5-da4c4f857b1b",
   "metadata": {},
   "outputs": [],
   "source": [
    "def GBM_exact(T, S, sigma, r, M):\n",
    "    S_all = []\n",
    "    S_all.append(S)\n",
    "    dt = T/M\n",
    "    Zm = np.random.normal(size=M)\n",
    "    for i in range(M-1):\n",
    "        S_all.append(S_all[i] * np.exp((r-0.5*sigma**2) * dt + sigma * np.sqrt(dt) * Zm[i])) \n",
    "    return S_all"
   ]
  },
  {
   "cell_type": "markdown",
   "id": "aba344ff",
   "metadata": {
    "tags": []
   },
   "source": [
    "## Simulations Run with Data from paper\n",
    "\n",
    "American option should be priced at .1144"
   ]
  },
  {
   "cell_type": "code",
   "execution_count": 2,
   "id": "3371e58d",
   "metadata": {},
   "outputs": [],
   "source": [
    "# Parameters\n",
    "K=1.1; M=4; r=.06; realizations=8\n",
    "\n",
    "# Matrix\n",
    "path_matrix = np.array([\n",
    "[1.00, 1.09, 1.08, 1.34],\n",
    "[1.00, 1.16, 1.26, 1.54],\n",
    "[1.00, 1.22, 1.07, 1.03],\n",
    "[1.00, 0.93, 0.97, 0.92],\n",
    "[1.00, 1.11, 1.56, 1.52],\n",
    "[1.00, .76, 0.77, 0.90],\n",
    "[1.00, 0.92, 0.84, 1.01],\n",
    "[1.00, 0.88, 1.22, 1.34]])"
   ]
  },
  {
   "cell_type": "code",
   "execution_count": 3,
   "id": "518fe3c0",
   "metadata": {},
   "outputs": [
    {
     "name": "stdout",
     "output_type": "stream",
     "text": [
      "Price of American Option is: 0.11443433004505696\n"
     ]
    }
   ],
   "source": [
    "# Generate cash flows under Longstaff-Schwarz\n",
    "cash_flows= value_option_schwarz(M,K,path_matrix, r, realizations, option=\"put\")\n",
    "\n",
    "# Discount cash flows\n",
    "for time in range(cash_flows.shape[1]):\n",
    "    cash_flows[:,time]*=np.exp(-r*time)\n",
    "print(f'Price of American Option is: {np.sum(cash_flows[0:])/realizations}')"
   ]
  },
  {
   "cell_type": "code",
   "execution_count": 4,
   "id": "25774ac4",
   "metadata": {},
   "outputs": [
    {
     "name": "stdout",
     "output_type": "stream",
     "text": [
      "Price of American Option is: 0.11443433004505696\n"
     ]
    }
   ],
   "source": [
    "cash_flows_test = value_option_schwarz_test(M,K,path_matrix, r, realizations, option=\"put\")\n",
    "\n",
    "# Discount cash flows\n",
    "for time in range(cash_flows.shape[1]):\n",
    "    cash_flows_test[:,time]*=np.exp(-r*time)\n",
    "print(f'Price of American Option is: {np.sum(cash_flows_test[0:])/realizations}')    "
   ]
  },
  {
   "cell_type": "code",
   "execution_count": 5,
   "id": "db2ce593",
   "metadata": {},
   "outputs": [
    {
     "name": "stdout",
     "output_type": "stream",
     "text": [
      "Price of Bermudan Option is: 0.11561153571203728\n"
     ]
    }
   ],
   "source": [
    "# Unit test Bermudian pricer by giving it same amount of exericse options as American\n",
    "exercise_dates = [1,2,3,4]\n",
    "cash_flow_bermudan = value_option_bermudan(M, K, path_matrix, r, realizations, exercise_dates, option=\"put\")\n",
    "\n",
    "for time in range(cash_flow_bermudan.shape[1]):\n",
    "    cash_flow_bermudan[:,time] *= np.exp(-r*time)\n",
    "print(f'Price of Bermudan Option is: {np.sum(cash_flow_bermudan[0:])/realizations}')    "
   ]
  },
  {
   "cell_type": "code",
   "execution_count": 6,
   "id": "3d7b91bf",
   "metadata": {},
   "outputs": [
    {
     "name": "stdout",
     "output_type": "stream",
     "text": [
      "Price of Bermudan Option is: 0.056380739270260896\n"
     ]
    }
   ],
   "source": [
    "# Fewer exercise points should lead to lower option price\n",
    "exercise_dates = [2,3,4]\n",
    "cash_flow_bermudan = value_option_bermudan(M, K, path_matrix, r, realizations, exercise_dates, option=\"put\")\n",
    "\n",
    "for time in range(cash_flow_bermudan.shape[1]):\n",
    "    cash_flow_bermudan[:,time] *= np.exp(-r*time)\n",
    "print(f'Price of Bermudan Option is: {np.sum(cash_flow_bermudan[0:])/realizations}')    "
   ]
  },
  {
   "cell_type": "code",
   "execution_count": 7,
   "id": "1cbc3512-ef59-4864-8cfe-b739e9e66a01",
   "metadata": {},
   "outputs": [
    {
     "name": "stdout",
     "output_type": "stream",
     "text": [
      "Price of Bermudan Option is: 0.11561153571203728\n"
     ]
    }
   ],
   "source": [
    "# Unit test Bermudian pricer by giving it same amount of exericse options as American\n",
    "exercise_dates = [1,2,3,4]\n",
    "cash_flow_bermudan = value_option_bermudan(M, K, path_matrix, r, realizations, exercise_dates, option=\"put\")\n",
    "\n",
    "for time in range(cash_flow_bermudan.shape[1]):\n",
    "    cash_flow_bermudan[:,time] *= np.exp(-r*time)\n",
    "print(f'Price of Bermudan Option is: {np.sum(cash_flow_bermudan[0:])/realizations}')  "
   ]
  },
  {
   "cell_type": "markdown",
   "id": "fa7f14bb",
   "metadata": {},
   "source": [
    "## Simulation based on GBM"
   ]
  },
  {
   "cell_type": "code",
   "execution_count": 306,
   "id": "c7beb285",
   "metadata": {},
   "outputs": [],
   "source": [
    "# Variables used\n",
    "T = M = N = 10\n",
    "K = 100\n",
    "S = 100\n",
    "sigma = 0.2\n",
    "r = 0.06\n",
    "realizations = 100\n",
    "exercise_dates = np.array([24,49, 74, 99])"
   ]
  },
  {
   "cell_type": "code",
   "execution_count": 307,
   "id": "2869e190-c3d3-4d7d-98d4-aa0ffea4e5cf",
   "metadata": {},
   "outputs": [],
   "source": [
    "def value_option_schwarz(T,M,K,path_matrix, r, realizations, order=2,option=\"call\", poly_choice=\"laguerre\"):\n",
    "    '''\n",
    "    Longstaff-Scharwz option pricer\n",
    "    '''\n",
    "    dt = T/M\n",
    "    stopping_rule = np.zeros(path_matrix.shape)\n",
    "    cash_flows = np.zeros(path_matrix.shape)\n",
    "    \n",
    "    # save payoffs for later use\n",
    "    if option == \"call\":\n",
    "        exercise_value = np.maximum(path_matrix-K,0)\n",
    "        stopping_rule[:,-1] = np.where(path_matrix[:,-1]-K>0, 1, 0)\n",
    "        cash_flows[:,-1] = np.maximum(path_matrix[:,-1]-K,0)\n",
    "    else:\n",
    "        exercise_value = np.maximum(K-path_matrix,0)\n",
    "        stopping_rule[:,-1] = np.where(K-path_matrix[:,-1]>0, 1, 0)\n",
    "        cash_flows[:,-1] = np.maximum(K-path_matrix[:,-1],0)\n",
    "        \n",
    "    exercise_value[:,0] = 0\n",
    "\n",
    "    for time in range(1,M-1):\n",
    "        # get X at time step and Y at time step+1 (Regress now) \n",
    "        if option == \"call\":\n",
    "            X = np.where(path_matrix[:,M-time-1]>K, path_matrix[:,M-time-1], 0)\n",
    "            Y = np.where(path_matrix[:,M-time-1]>K, cash_flows[:,M-time], 0)\n",
    "        else:\n",
    "            X = np.where(path_matrix[:,M-time-1]<K, path_matrix[:,M-time-1], 0)\n",
    "            Y = np.where(path_matrix[:,M-time-1]<K, cash_flows[:,M-time], 0)\n",
    "            \n",
    "        X_nonzero = X[X>0]\n",
    "        Y_nonzero = Y[X>0]\n",
    "        Y_nonzero *= np.exp(-r * (dt*time))\n",
    "        #Y_nonzero -= -20\n",
    "        \n",
    "        \n",
    "        if len(Y_nonzero!=0):\n",
    "            # perform regression\n",
    "            try:\n",
    "                #print(f\"In the money paths: {len(X_nonzero)}\")\n",
    "                poly = np.polynomial.laguerre.Laguerre.fit(X_nonzero, Y_nonzero, order)\n",
    "            except:\n",
    "                print(\"Regression failed. Inputs:\")\n",
    "                print(X_nonzero)\n",
    "                print(Y_nonzero)\n",
    "            final_y = poly(X_nonzero)\n",
    "            \n",
    "            ## Compare excerise with continuation\n",
    "            ex_cont = np.zeros((len(X_nonzero), 2))\n",
    "\n",
    "            if option == \"call\":\n",
    "                ex_cont[:,0] = X_nonzero - K\n",
    "            else:\n",
    "                ex_cont[:,0] = K - X_nonzero\n",
    "            ex_cont[:,1] = final_y\n",
    "            \n",
    "            j=0\n",
    "            for i in range(len(X)):\n",
    "                if X[i] > 0:\n",
    "                    if ex_cont[j,0] > ex_cont[j,1]:\n",
    "                        stopping_rule[i,:] = 0\n",
    "                        stopping_rule[i,M-time-1] = 1\n",
    "                        cash_flows[i, :] = 0\n",
    "                        cash_flows[i, M-time-1] = ex_cont[j,0]\n",
    "                    j+=1      \n",
    "        else:\n",
    "            print(f\"time: {time}\")\n",
    "            print(\"No path in-the-money-path found. Convergence issues expected\")\n",
    "    \n",
    "    return stopping_rule * exercise_value, cash_flows"
   ]
  },
  {
   "cell_type": "code",
   "execution_count": 308,
   "id": "546daef9-4ff6-4e20-8cdf-0a99595ad4e2",
   "metadata": {},
   "outputs": [],
   "source": [
    "repititions = 10\n",
    "europeans = np.zeros(repititions)\n",
    "americans = np.zeros(repititions)\n",
    "dt = T/M\n",
    "\n",
    "\n",
    "for i in range(repititions):\n",
    "    s_all = np.array([np.array(GBM_exact(T, S, sigma, r, M)) for x in range(realizations)])\n",
    "    europeans[i] = np.sum(np.maximum(0,K-s_all[:,-1]))/realizations * np.exp(-r * T)\n",
    "    [option_cash_flow, cash_flows] = value_option_schwarz(T,M,K,s_all, r, realizations,order=2,option=\"put\")\n",
    "    \n",
    "    for time in range(option_cash_flow.shape[1]):\n",
    "        option_cash_flow[:,time]*=np.exp(-r*(time*dt))\n",
    "    americans[i] =  np.sum(option_cash_flow)/realizations"
   ]
  },
  {
   "cell_type": "code",
   "execution_count": 309,
   "id": "43d2ec05-ae27-4c3a-ab74-7ad5b3438018",
   "metadata": {},
   "outputs": [
    {
     "data": {
      "text/plain": [
       "(100, 10)"
      ]
     },
     "execution_count": 309,
     "metadata": {},
     "output_type": "execute_result"
    }
   ],
   "source": [
    "cash_flows.shape"
   ]
  },
  {
   "cell_type": "code",
   "execution_count": 310,
   "id": "dc2998f1-f4b7-4e15-96ee-99be7b90c615",
   "metadata": {},
   "outputs": [
    {
     "data": {
      "text/plain": [
       "<AxesSubplot:>"
      ]
     },
     "execution_count": 310,
     "metadata": {},
     "output_type": "execute_result"
    },
    {
     "data": {
      "image/png": "[encoded data removed]",
      "text/plain": [
       "<Figure size 432x288 with 2 Axes>"
      ]
     },
     "metadata": {
      "needs_background": "light"
     },
     "output_type": "display_data"
    }
   ],
   "source": [
    "sns.heatmap(cash_flows)"
   ]
  },
  {
   "cell_type": "code",
   "execution_count": 311,
   "id": "ad66744f-1a99-48f3-bd74-98e152163863",
   "metadata": {},
   "outputs": [
    {
     "data": {
      "text/html": [
       "<div>\n",
       "<style scoped>\n",
       "    .dataframe tbody tr th:only-of-type {\n",
       "        vertical-align: middle;\n",
       "    }\n",
       "\n",
       "    .dataframe tbody tr th {\n",
       "        vertical-align: top;\n",
       "    }\n",
       "\n",
       "    .dataframe thead th {\n",
       "        text-align: right;\n",
       "    }\n",
       "</style>\n",
       "<table border=\"1\" class=\"dataframe\">\n",
       "  <thead>\n",
       "    <tr style=\"text-align: right;\">\n",
       "      <th></th>\n",
       "      <th>0</th>\n",
       "      <th>1</th>\n",
       "      <th>2</th>\n",
       "      <th>3</th>\n",
       "      <th>4</th>\n",
       "      <th>5</th>\n",
       "      <th>6</th>\n",
       "      <th>7</th>\n",
       "      <th>8</th>\n",
       "      <th>9</th>\n",
       "    </tr>\n",
       "  </thead>\n",
       "  <tbody>\n",
       "    <tr>\n",
       "      <th>0</th>\n",
       "      <td>0.0</td>\n",
       "      <td>0.000000</td>\n",
       "      <td>0.000000</td>\n",
       "      <td>0.0</td>\n",
       "      <td>0.000000</td>\n",
       "      <td>0.0</td>\n",
       "      <td>0.0</td>\n",
       "      <td>0.0</td>\n",
       "      <td>0.0</td>\n",
       "      <td>0.0</td>\n",
       "    </tr>\n",
       "    <tr>\n",
       "      <th>1</th>\n",
       "      <td>0.0</td>\n",
       "      <td>0.000000</td>\n",
       "      <td>12.988868</td>\n",
       "      <td>0.0</td>\n",
       "      <td>0.000000</td>\n",
       "      <td>0.0</td>\n",
       "      <td>0.0</td>\n",
       "      <td>0.0</td>\n",
       "      <td>0.0</td>\n",
       "      <td>0.0</td>\n",
       "    </tr>\n",
       "    <tr>\n",
       "      <th>2</th>\n",
       "      <td>0.0</td>\n",
       "      <td>20.632133</td>\n",
       "      <td>0.000000</td>\n",
       "      <td>0.0</td>\n",
       "      <td>0.000000</td>\n",
       "      <td>0.0</td>\n",
       "      <td>0.0</td>\n",
       "      <td>0.0</td>\n",
       "      <td>0.0</td>\n",
       "      <td>0.0</td>\n",
       "    </tr>\n",
       "    <tr>\n",
       "      <th>3</th>\n",
       "      <td>0.0</td>\n",
       "      <td>33.829276</td>\n",
       "      <td>0.000000</td>\n",
       "      <td>0.0</td>\n",
       "      <td>0.000000</td>\n",
       "      <td>0.0</td>\n",
       "      <td>0.0</td>\n",
       "      <td>0.0</td>\n",
       "      <td>0.0</td>\n",
       "      <td>0.0</td>\n",
       "    </tr>\n",
       "    <tr>\n",
       "      <th>4</th>\n",
       "      <td>0.0</td>\n",
       "      <td>0.000000</td>\n",
       "      <td>0.000000</td>\n",
       "      <td>0.0</td>\n",
       "      <td>0.000000</td>\n",
       "      <td>0.0</td>\n",
       "      <td>0.0</td>\n",
       "      <td>0.0</td>\n",
       "      <td>0.0</td>\n",
       "      <td>0.0</td>\n",
       "    </tr>\n",
       "    <tr>\n",
       "      <th>...</th>\n",
       "      <td>...</td>\n",
       "      <td>...</td>\n",
       "      <td>...</td>\n",
       "      <td>...</td>\n",
       "      <td>...</td>\n",
       "      <td>...</td>\n",
       "      <td>...</td>\n",
       "      <td>...</td>\n",
       "      <td>...</td>\n",
       "      <td>...</td>\n",
       "    </tr>\n",
       "    <tr>\n",
       "      <th>95</th>\n",
       "      <td>0.0</td>\n",
       "      <td>0.000000</td>\n",
       "      <td>0.000000</td>\n",
       "      <td>0.0</td>\n",
       "      <td>0.000000</td>\n",
       "      <td>0.0</td>\n",
       "      <td>0.0</td>\n",
       "      <td>0.0</td>\n",
       "      <td>0.0</td>\n",
       "      <td>0.0</td>\n",
       "    </tr>\n",
       "    <tr>\n",
       "      <th>96</th>\n",
       "      <td>0.0</td>\n",
       "      <td>0.000000</td>\n",
       "      <td>0.000000</td>\n",
       "      <td>0.0</td>\n",
       "      <td>0.000000</td>\n",
       "      <td>0.0</td>\n",
       "      <td>0.0</td>\n",
       "      <td>0.0</td>\n",
       "      <td>0.0</td>\n",
       "      <td>0.0</td>\n",
       "    </tr>\n",
       "    <tr>\n",
       "      <th>97</th>\n",
       "      <td>0.0</td>\n",
       "      <td>0.000000</td>\n",
       "      <td>0.000000</td>\n",
       "      <td>0.0</td>\n",
       "      <td>3.413612</td>\n",
       "      <td>0.0</td>\n",
       "      <td>0.0</td>\n",
       "      <td>0.0</td>\n",
       "      <td>0.0</td>\n",
       "      <td>0.0</td>\n",
       "    </tr>\n",
       "    <tr>\n",
       "      <th>98</th>\n",
       "      <td>0.0</td>\n",
       "      <td>11.068702</td>\n",
       "      <td>0.000000</td>\n",
       "      <td>0.0</td>\n",
       "      <td>0.000000</td>\n",
       "      <td>0.0</td>\n",
       "      <td>0.0</td>\n",
       "      <td>0.0</td>\n",
       "      <td>0.0</td>\n",
       "      <td>0.0</td>\n",
       "    </tr>\n",
       "    <tr>\n",
       "      <th>99</th>\n",
       "      <td>0.0</td>\n",
       "      <td>0.000000</td>\n",
       "      <td>0.000000</td>\n",
       "      <td>0.0</td>\n",
       "      <td>0.000000</td>\n",
       "      <td>0.0</td>\n",
       "      <td>0.0</td>\n",
       "      <td>0.0</td>\n",
       "      <td>0.0</td>\n",
       "      <td>0.0</td>\n",
       "    </tr>\n",
       "  </tbody>\n",
       "</table>\n",
       "<p>100 rows × 10 columns</p>\n",
       "</div>"
      ],
      "text/plain": [
       "      0          1          2    3         4    5    6    7    8    9\n",
       "0   0.0   0.000000   0.000000  0.0  0.000000  0.0  0.0  0.0  0.0  0.0\n",
       "1   0.0   0.000000  12.988868  0.0  0.000000  0.0  0.0  0.0  0.0  0.0\n",
       "2   0.0  20.632133   0.000000  0.0  0.000000  0.0  0.0  0.0  0.0  0.0\n",
       "3   0.0  33.829276   0.000000  0.0  0.000000  0.0  0.0  0.0  0.0  0.0\n",
       "4   0.0   0.000000   0.000000  0.0  0.000000  0.0  0.0  0.0  0.0  0.0\n",
       "..  ...        ...        ...  ...       ...  ...  ...  ...  ...  ...\n",
       "95  0.0   0.000000   0.000000  0.0  0.000000  0.0  0.0  0.0  0.0  0.0\n",
       "96  0.0   0.000000   0.000000  0.0  0.000000  0.0  0.0  0.0  0.0  0.0\n",
       "97  0.0   0.000000   0.000000  0.0  3.413612  0.0  0.0  0.0  0.0  0.0\n",
       "98  0.0  11.068702   0.000000  0.0  0.000000  0.0  0.0  0.0  0.0  0.0\n",
       "99  0.0   0.000000   0.000000  0.0  0.000000  0.0  0.0  0.0  0.0  0.0\n",
       "\n",
       "[100 rows x 10 columns]"
      ]
     },
     "execution_count": 311,
     "metadata": {},
     "output_type": "execute_result"
    }
   ],
   "source": [
    "pd.DataFrame(cash_flows)"
   ]
  },
  {
   "cell_type": "code",
   "execution_count": 312,
   "id": "95c3f0e9-1476-4250-9a0c-5a601de4c72e",
   "metadata": {},
   "outputs": [
    {
     "data": {
      "text/html": [
       "<div>\n",
       "<style scoped>\n",
       "    .dataframe tbody tr th:only-of-type {\n",
       "        vertical-align: middle;\n",
       "    }\n",
       "\n",
       "    .dataframe tbody tr th {\n",
       "        vertical-align: top;\n",
       "    }\n",
       "\n",
       "    .dataframe thead th {\n",
       "        text-align: right;\n",
       "    }\n",
       "</style>\n",
       "<table border=\"1\" class=\"dataframe\">\n",
       "  <thead>\n",
       "    <tr style=\"text-align: right;\">\n",
       "      <th></th>\n",
       "      <th>0</th>\n",
       "      <th>1</th>\n",
       "      <th>2</th>\n",
       "      <th>3</th>\n",
       "      <th>4</th>\n",
       "      <th>5</th>\n",
       "      <th>6</th>\n",
       "      <th>7</th>\n",
       "      <th>8</th>\n",
       "      <th>9</th>\n",
       "    </tr>\n",
       "  </thead>\n",
       "  <tbody>\n",
       "    <tr>\n",
       "      <th>0</th>\n",
       "      <td>0.0</td>\n",
       "      <td>0.000000</td>\n",
       "      <td>0.000000</td>\n",
       "      <td>0.0</td>\n",
       "      <td>0.000000</td>\n",
       "      <td>0.0</td>\n",
       "      <td>0.0</td>\n",
       "      <td>0.0</td>\n",
       "      <td>0.0</td>\n",
       "      <td>0.0</td>\n",
       "    </tr>\n",
       "    <tr>\n",
       "      <th>1</th>\n",
       "      <td>0.0</td>\n",
       "      <td>0.000000</td>\n",
       "      <td>11.520092</td>\n",
       "      <td>0.0</td>\n",
       "      <td>0.000000</td>\n",
       "      <td>0.0</td>\n",
       "      <td>0.0</td>\n",
       "      <td>0.0</td>\n",
       "      <td>0.0</td>\n",
       "      <td>0.0</td>\n",
       "    </tr>\n",
       "    <tr>\n",
       "      <th>2</th>\n",
       "      <td>0.0</td>\n",
       "      <td>19.430611</td>\n",
       "      <td>0.000000</td>\n",
       "      <td>0.0</td>\n",
       "      <td>0.000000</td>\n",
       "      <td>0.0</td>\n",
       "      <td>0.0</td>\n",
       "      <td>0.0</td>\n",
       "      <td>0.0</td>\n",
       "      <td>0.0</td>\n",
       "    </tr>\n",
       "    <tr>\n",
       "      <th>3</th>\n",
       "      <td>0.0</td>\n",
       "      <td>31.859213</td>\n",
       "      <td>0.000000</td>\n",
       "      <td>0.0</td>\n",
       "      <td>0.000000</td>\n",
       "      <td>0.0</td>\n",
       "      <td>0.0</td>\n",
       "      <td>0.0</td>\n",
       "      <td>0.0</td>\n",
       "      <td>0.0</td>\n",
       "    </tr>\n",
       "    <tr>\n",
       "      <th>4</th>\n",
       "      <td>0.0</td>\n",
       "      <td>0.000000</td>\n",
       "      <td>0.000000</td>\n",
       "      <td>0.0</td>\n",
       "      <td>0.000000</td>\n",
       "      <td>0.0</td>\n",
       "      <td>0.0</td>\n",
       "      <td>0.0</td>\n",
       "      <td>0.0</td>\n",
       "      <td>0.0</td>\n",
       "    </tr>\n",
       "    <tr>\n",
       "      <th>...</th>\n",
       "      <td>...</td>\n",
       "      <td>...</td>\n",
       "      <td>...</td>\n",
       "      <td>...</td>\n",
       "      <td>...</td>\n",
       "      <td>...</td>\n",
       "      <td>...</td>\n",
       "      <td>...</td>\n",
       "      <td>...</td>\n",
       "      <td>...</td>\n",
       "    </tr>\n",
       "    <tr>\n",
       "      <th>95</th>\n",
       "      <td>0.0</td>\n",
       "      <td>0.000000</td>\n",
       "      <td>0.000000</td>\n",
       "      <td>0.0</td>\n",
       "      <td>0.000000</td>\n",
       "      <td>0.0</td>\n",
       "      <td>0.0</td>\n",
       "      <td>0.0</td>\n",
       "      <td>0.0</td>\n",
       "      <td>0.0</td>\n",
       "    </tr>\n",
       "    <tr>\n",
       "      <th>96</th>\n",
       "      <td>0.0</td>\n",
       "      <td>0.000000</td>\n",
       "      <td>0.000000</td>\n",
       "      <td>0.0</td>\n",
       "      <td>0.000000</td>\n",
       "      <td>0.0</td>\n",
       "      <td>0.0</td>\n",
       "      <td>0.0</td>\n",
       "      <td>0.0</td>\n",
       "      <td>0.0</td>\n",
       "    </tr>\n",
       "    <tr>\n",
       "      <th>97</th>\n",
       "      <td>0.0</td>\n",
       "      <td>0.000000</td>\n",
       "      <td>0.000000</td>\n",
       "      <td>0.0</td>\n",
       "      <td>2.685242</td>\n",
       "      <td>0.0</td>\n",
       "      <td>0.0</td>\n",
       "      <td>0.0</td>\n",
       "      <td>0.0</td>\n",
       "      <td>0.0</td>\n",
       "    </tr>\n",
       "    <tr>\n",
       "      <th>98</th>\n",
       "      <td>0.0</td>\n",
       "      <td>10.424111</td>\n",
       "      <td>0.000000</td>\n",
       "      <td>0.0</td>\n",
       "      <td>0.000000</td>\n",
       "      <td>0.0</td>\n",
       "      <td>0.0</td>\n",
       "      <td>0.0</td>\n",
       "      <td>0.0</td>\n",
       "      <td>0.0</td>\n",
       "    </tr>\n",
       "    <tr>\n",
       "      <th>99</th>\n",
       "      <td>0.0</td>\n",
       "      <td>0.000000</td>\n",
       "      <td>0.000000</td>\n",
       "      <td>0.0</td>\n",
       "      <td>0.000000</td>\n",
       "      <td>0.0</td>\n",
       "      <td>0.0</td>\n",
       "      <td>0.0</td>\n",
       "      <td>0.0</td>\n",
       "      <td>0.0</td>\n",
       "    </tr>\n",
       "  </tbody>\n",
       "</table>\n",
       "<p>100 rows × 10 columns</p>\n",
       "</div>"
      ],
      "text/plain": [
       "      0          1          2    3         4    5    6    7    8    9\n",
       "0   0.0   0.000000   0.000000  0.0  0.000000  0.0  0.0  0.0  0.0  0.0\n",
       "1   0.0   0.000000  11.520092  0.0  0.000000  0.0  0.0  0.0  0.0  0.0\n",
       "2   0.0  19.430611   0.000000  0.0  0.000000  0.0  0.0  0.0  0.0  0.0\n",
       "3   0.0  31.859213   0.000000  0.0  0.000000  0.0  0.0  0.0  0.0  0.0\n",
       "4   0.0   0.000000   0.000000  0.0  0.000000  0.0  0.0  0.0  0.0  0.0\n",
       "..  ...        ...        ...  ...       ...  ...  ...  ...  ...  ...\n",
       "95  0.0   0.000000   0.000000  0.0  0.000000  0.0  0.0  0.0  0.0  0.0\n",
       "96  0.0   0.000000   0.000000  0.0  0.000000  0.0  0.0  0.0  0.0  0.0\n",
       "97  0.0   0.000000   0.000000  0.0  2.685242  0.0  0.0  0.0  0.0  0.0\n",
       "98  0.0  10.424111   0.000000  0.0  0.000000  0.0  0.0  0.0  0.0  0.0\n",
       "99  0.0   0.000000   0.000000  0.0  0.000000  0.0  0.0  0.0  0.0  0.0\n",
       "\n",
       "[100 rows x 10 columns]"
      ]
     },
     "execution_count": 312,
     "metadata": {},
     "output_type": "execute_result"
    }
   ],
   "source": [
    "pd.DataFrame(option_cash_flow)"
   ]
  },
  {
   "cell_type": "code",
   "execution_count": 313,
   "id": "e041602a-b5ee-478b-9882-668707650a1e",
   "metadata": {},
   "outputs": [
    {
     "data": {
      "text/plain": [
       "4.168475334794614"
      ]
     },
     "execution_count": 313,
     "metadata": {},
     "output_type": "execute_result"
    }
   ],
   "source": [
    "BSM_put(100, K, r, sigma, T)"
   ]
  },
  {
   "cell_type": "code",
   "execution_count": 314,
   "id": "3fc470b9-f9b5-45d8-8cc9-33008091034f",
   "metadata": {},
   "outputs": [
    {
     "data": {
      "text/plain": [
       "4.464572038959721"
      ]
     },
     "execution_count": 314,
     "metadata": {},
     "output_type": "execute_result"
    }
   ],
   "source": [
    "np.mean(europeans)"
   ]
  },
  {
   "cell_type": "code",
   "execution_count": 315,
   "id": "263d9514-3946-45d4-8183-ffa24cbccf15",
   "metadata": {},
   "outputs": [
    {
     "data": {
      "text/plain": [
       "0.20701650588892392"
      ]
     },
     "execution_count": 315,
     "metadata": {},
     "output_type": "execute_result"
    }
   ],
   "source": [
    "np.std(americans)/np.sqrt(repititions)"
   ]
  },
  {
   "cell_type": "code",
   "execution_count": 316,
   "id": "db63ca63-b909-4a9e-9e45-5ee5d0442ea8",
   "metadata": {},
   "outputs": [
    {
     "data": {
      "text/plain": [
       "13.576584674205744"
      ]
     },
     "execution_count": 316,
     "metadata": {},
     "output_type": "execute_result"
    }
   ],
   "source": [
    "payoffs = np.maximum(K-s_all[:,:],0)\n",
    "dt = T/M\n",
    "\n",
    "for time in range(payoffs.shape[1]):\n",
    "    payoffs[:,time]*=np.exp(-r*(dt*time))\n",
    "    \n",
    "max_payoffs = []\n",
    "for path in range(payoffs.shape[0]):\n",
    "    max_payoffs.append(max(payoffs[path]))\n",
    "    \n",
    "np.mean(max_payoffs)"
   ]
  },
  {
   "cell_type": "code",
   "execution_count": 317,
   "id": "cd195f13-ba7b-4fe3-84f6-bba0ad186f30",
   "metadata": {},
   "outputs": [
    {
     "data": {
      "text/plain": [
       "7.865606276785314"
      ]
     },
     "execution_count": 317,
     "metadata": {},
     "output_type": "execute_result"
    }
   ],
   "source": [
    "np.mean(americans)"
   ]
  },
  {
   "cell_type": "code",
   "execution_count": 318,
   "id": "cb8c3e5b-593f-4c49-ba6d-da3be7a82fec",
   "metadata": {},
   "outputs": [
    {
     "data": {
      "text/plain": [
       "0.6546436718586599"
      ]
     },
     "execution_count": 318,
     "metadata": {},
     "output_type": "execute_result"
    }
   ],
   "source": [
    "np.std(americans)"
   ]
  },
  {
   "cell_type": "markdown",
   "id": "20422073-b690-4c48-a3f1-0327491c5ac4",
   "metadata": {},
   "source": [
    "### Neural Net"
   ]
  },
  {
   "cell_type": "code",
   "execution_count": 14,
   "id": "c47837b0-f685-429c-9d33-47ff0cc81258",
   "metadata": {},
   "outputs": [],
   "source": [
    "from keras.models import Sequential\n",
    "from keras.layers import Dense, Input\n",
    "import keras.optimizers as opt\n",
    "from keras.constraints import Constraint\n",
    "from keras import backend as keras_backend\n",
    "import tensorflow as tf"
   ]
  },
  {
   "cell_type": "code",
   "execution_count": 22,
   "id": "50c4f64d-4e4a-4705-9a9d-2024db02a175",
   "metadata": {},
   "outputs": [],
   "source": [
    "def BSM_call(s_t, k, r, vol, dt):\n",
    "    d_1_c = (1 / (vol * (dt ** 0.5))) \n",
    "    d1_log =  (np.log((s_t)/(k)) + ((r + (vol ** 2) / 2) * dt))\n",
    "    d_1 = d_1_c * d1_log\n",
    "    d_2 = d_1 - vol * (dt ** 0.5)\n",
    "    return (np.multiply(norm.cdf(d_1),  s_t) - (norm.cdf(d_2) * k * np.exp(-r * dt)))\n",
    "\n",
    "def BSM_put(s_t, k, r, vol, dt):\n",
    "    d_1_c = (1 / (vol * (dt ** 0.5))) \n",
    "    d1_log =  (np.log((s_t)/(k)) + ((r + (vol ** 2) / 2) * dt))\n",
    "    d_1 = d_1_c * d1_log\n",
    "    d_2 = d_1 - vol * (dt ** 0.5)\n",
    "    return ((norm.cdf(-d_2) * k * np.exp(-r * dt)) - np.multiply(norm.cdf(-d_1),  s_t))\n",
    "\n",
    "def identify_positions(wt_list, strike_list):\n",
    "    positions = np.where(np.logical_and(wt_list>0, strike_list<0), \"C\", \n",
    "                        np.where(np.logical_and(wt_list>0, strike_list>=0), \"F\", \n",
    "                                 np.where(np.logical_and(wt_list<0, strike_list>0), \"P\", \"N\")))\n",
    "    \n",
    "    pos = (np.array(np.unique(positions, return_counts=True)).T)\n",
    "    no_of_pos_dict = {\"C\":0 , \"P\":0, \"F\":0 , \"N\":0 }\n",
    "    \n",
    "    for i in range(0, len(pos[:,0])):\n",
    "        no_of_pos_dict[pos[i,0]] = int(pos[i,1])\n",
    "\n",
    "    return no_of_pos_dict[\"C\"], no_of_pos_dict[\"P\"], no_of_pos_dict[\"F\"], no_of_pos_dict[\"N\"], positions"
   ]
  },
  {
   "cell_type": "code",
   "execution_count": 16,
   "id": "c7b7ae3a-bf8f-406d-9e8d-4b20d99d2c09",
   "metadata": {},
   "outputs": [],
   "source": [
    "class neural_bermudan_fitter:\n",
    "    def __init__(self, r, sigma, stock_paths, K, dates, option=\"put\", ittol=10, T=1, nodes=10, epochs=10, pre_trained_model=None):\n",
    "        self.stock_paths = stock_paths\n",
    "        self.K = K\n",
    "        assert all(earlier > later for earlier, later in zip(dates, dates[1:])), 'the dates should be in descending order'\n",
    "        self.dates = dates\n",
    "        \n",
    "        self.T=T\n",
    "        self.r = r\n",
    "        self.sigma = sigma\n",
    "        self.option = option.lower()\n",
    "        self.N = len(self.stock_paths)\n",
    "        self.M = len(self.dates)\n",
    "        self.num_stoch_movements = len(self.stock_paths[0])\n",
    "        self.nodes = nodes\n",
    "        self.epochs = epochs\n",
    "        self.ittol=ittol\n",
    "        \n",
    "        self.evaluate_final()\n",
    "        \n",
    "        #step 3 of Jain\n",
    "        self.beta = np.random.uniform(size=(self.N,1))\n",
    "        self.nnets = []\n",
    "        if pre_trained_model:\n",
    "            self.nnets.append(pre_trained_model)\n",
    "        else:\n",
    "            self.setup_network()\n",
    "        self.V = np.zeros(self.N)\n",
    "        self.Q_hat = np.zeros(self.N)\n",
    "        self.callback = tf.keras.callbacks.EarlyStopping(monitor='loss', patience=30)\n",
    "        self.histories = []\n",
    "        self.opt_val = np.zeros((self.nodes, len(self.dates), self.N))\n",
    "        \n",
    "    def evaluate_final(self):\n",
    "        # step 2 of algorithm in Jain paper\n",
    "        if self.option == 'call':\n",
    "            self.h = tf.maximum(self.stock_paths[:,-1] - self.K,0)\n",
    "        else:\n",
    "            self.h = tf.maximum(self.K - self.stock_paths[:,-1],0)\n",
    "            \n",
    "    def setup_network(self):\n",
    "        model = Sequential([\n",
    "            Input(shape=(1)),\n",
    "            Dense(10,activation='relu',trainable=True, kernel_initializer = 'random_uniform'),\n",
    "            Dense(1,activation='linear',trainable=True, kernel_initializer=keras.initializers.RandomUniform(minval=-0.01, maxval=0.01, seed=None))\n",
    "            ])\n",
    "        model.compile(tf.optimizers.Adam(learning_rate=0.001), loss='mean_squared_error')\n",
    "        self.nnets.append(model)\n",
    "    \n",
    "    def copy_network(self):\n",
    "        new_model = keras.models.clone_model(self.nnets[-1])\n",
    "        new_model.compile(tf.optimizers.Adam(learning_rate=0.001), loss='mean_squared_error')\n",
    "        new_model.set_weights(self.nnets[-1].get_weights())\n",
    "        self.nnets.append(new_model)\n",
    "        \n",
    "    def run_pricing_simulation(self):        \n",
    "        for m,date in enumerate(self.dates[0:len(self.dates)-1]):\n",
    "            #step 5\n",
    "            self.fit_model(m,date)\n",
    "            w_vect = np.array(self.nnets[-1].layers[0].get_weights()[0]).reshape(-1)\n",
    "            w_vect_2 = np.array(self.nnets[-1].layers[1].get_weights()[0]).reshape(-1)\n",
    "            strikes = np.array(self.nnets[-1].layers[0].get_weights()[1]).reshape(-1)\n",
    "            bias_2 = np.array(self.nnets[-1].layers[1].get_weights()[1]).reshape(-1)\n",
    "            \n",
    "            # steps 6 to 12\n",
    "            time_to_maturity =  (self.dates[m] - self.dates[m+1]) / self.dates[0]                   \n",
    "            for node in range(self.nodes):\n",
    "                # maybe change m-1 to m for all options\n",
    "                if w_vect[node] > 0 and strikes[node] > 0:\n",
    "                    # Forward contract\n",
    "                    self.opt_val[node, m, :] = (w_vect[node]*stock_paths[:,self.dates[m]]+strike[node]) * np.exp(-r*(self.dates[m] - self.dates[m+1]))\n",
    "                elif w_vect[node] < 0 and strikes[node] > 0:\n",
    "                    # Put Option\n",
    "                    k = -strikes[node]/w_vect[node]\n",
    "                    put_pricing = lambda s: BSM_put(s, k, self.r, self.sigma, time_to_maturity)\n",
    "                    find_put_price = np.vectorize(put_pricing)\n",
    "                    self.opt_val[node, m, :] =  find_put_price(self.stock_paths[:,self.dates[m]])\n",
    "                elif w_vect[node] > 0 and strikes[node] < 0:\n",
    "                    # Call option\n",
    "                    k = strikes[node]/w_vect[node]\n",
    "                    call_pricing = lambda s: BSM_call(s, k, self.r, self.sigma, time_to_maturity)\n",
    "                    find_call_price = np.vectorize(call_pricing)\n",
    "                    self.opt_val[node, m, :] =  find_call_price(self.stock_paths[:,self.dates[m]])\n",
    "            \n",
    "            for s in range(len(self.stock_paths[:,self.dates[m+1]])): \n",
    "                self.Q_hat[s] = np.sum(self.opt_val[:,m,s])\n",
    "                           \n",
    "            self.copy_network()\n",
    "\n",
    "            \n",
    "    def fit_model(self,m, date):\n",
    "        if self.option=='call':\n",
    "            self.h = np.maximum(0, self.stock_paths[:,date] - self.K)\n",
    "            for i, value in enumerate(h):\n",
    "                if value > self.Q_hat[i]:\n",
    "                    Y_train[i] = value\n",
    "                else:\n",
    "                    Y_train[i] = self.Q_hat[i]\n",
    "            #print(Y_train)\n",
    "        else:\n",
    "            self.h = np.maximum(0, self.K - self.stock_paths[:,date])\n",
    "            for i, value in enumerate(self.h):\n",
    "                if value > self.Q_hat[i]:\n",
    "                    Y_train[i] = value\n",
    "                else:\n",
    "                    Y_train[i] = self.Q_hat[i]\n",
    "            #print(Y_train)\n",
    "            \n",
    "            \n",
    "        X_train = np.array(self.stock_paths[:,date])\n",
    "        self.histories.append(self.nnets[-1].fit(X_train.reshape(-1,1), Y_train.reshape(-1,1), epochs=self.epochs, callbacks=[self.callback], verbose=0))\n",
    "        i=0\n",
    "        while self.histories[-1].history['loss'][-1] > 100 and i< self.ittol:\n",
    "            i+=1\n",
    "            print(\"warning. NN didn't converge\")\n",
    "            print(f\"loss: {self.histories[-1].history['loss'][-1]}, time: {date}\")\n",
    "            self.histories.append(self.nnets[-1].fit(X_train.reshape(-1,1), Y_train.reshape(-1,1), epochs=self.epochs, callbacks=[self.callback], verbose=0))\n"
   ]
  },
  {
   "cell_type": "code",
   "execution_count": 21,
   "id": "5d7ac7e4-8383-4786-abd3-3b49303c78bb",
   "metadata": {},
   "outputs": [],
   "source": [
    "# Pre train a NN at the standard payoffs"
   ]
  },
  {
   "cell_type": "code",
   "execution_count": 17,
   "id": "e214af52-7d94-4fbd-9fc3-aed63fa8b8b5",
   "metadata": {},
   "outputs": [],
   "source": [
    "nn = Sequential([\n",
    "            Input(shape=(1)),\n",
    "            Dense(10,activation='relu',trainable=True, kernel_initializer = 'random_uniform'),\n",
    "            Dense(1,activation='linear',trainable=True, kernel_initializer=keras.initializers.RandomUniform(minval=-0.01, maxval=0.01, seed=None))\n",
    "            ])\n",
    "nn.compile(tf.optimizers.Adam(learning_rate=0.001), loss='mean_squared_error')"
   ]
  },
  {
   "cell_type": "code",
   "execution_count": 18,
   "id": "d73f1342-a90f-48e4-a630-16f8d350214b",
   "metadata": {},
   "outputs": [],
   "source": [
    "Y_train = np.maximum(K - s_all[:,-1], 0)\n",
    "\n",
    "X_train = s_all[:,-1]"
   ]
  },
  {
   "cell_type": "code",
   "execution_count": 19,
   "id": "09eeaf8d-669f-4352-aeaa-49dd786004bc",
   "metadata": {},
   "outputs": [],
   "source": [
    "callback = tf.keras.callbacks.EarlyStopping(monitor='loss', patience=30)\n",
    "history = nn.fit(X_train.reshape(-1,1), Y_train.reshape(-1,1), epochs=500, verbose=0, callbacks=[callback])\n",
    "if history.history['loss'][-1] > 1:\n",
    "    print(\"warning. NN didn't converge\")"
   ]
  },
  {
   "cell_type": "code",
   "execution_count": 20,
   "id": "ee357210-60b4-4b25-bb2f-d18fe32b71a1",
   "metadata": {},
   "outputs": [],
   "source": [
    "dates = [0,24,49,74, 99]\n",
    "dates.reverse()"
   ]
  },
  {
   "cell_type": "code",
   "execution_count": 40,
   "id": "a629d713-1f26-47e4-84d7-d547000f6b3b",
   "metadata": {},
   "outputs": [],
   "source": [
    "nf = neural_bermudan_fitter(r, sigma, s_all,  K, dates, epochs = 1000, pre_trained_model= nn, nodes=20)"
   ]
  },
  {
   "cell_type": "code",
   "execution_count": 41,
   "id": "2acf4eeb-cde5-437a-a0f1-1b102701eab1",
   "metadata": {},
   "outputs": [
    {
     "ename": "IndexError",
     "evalue": "index 10 is out of bounds for axis 0 with size 10",
     "output_type": "error",
     "traceback": [
      "\u001b[1;31m---------------------------------------------------------------------------\u001b[0m",
      "\u001b[1;31mIndexError\u001b[0m                                Traceback (most recent call last)",
      "Input \u001b[1;32mIn [41]\u001b[0m, in \u001b[0;36m<cell line: 1>\u001b[1;34m()\u001b[0m\n\u001b[1;32m----> 1\u001b[0m \u001b[43mnf\u001b[49m\u001b[38;5;241;43m.\u001b[39;49m\u001b[43mrun_pricing_simulation\u001b[49m\u001b[43m(\u001b[49m\u001b[43m)\u001b[49m\n",
      "Input \u001b[1;32mIn [16]\u001b[0m, in \u001b[0;36mneural_bermudan_fitter.run_pricing_simulation\u001b[1;34m(self)\u001b[0m\n\u001b[0;32m     66\u001b[0m time_to_maturity \u001b[38;5;241m=\u001b[39m  (\u001b[38;5;28mself\u001b[39m\u001b[38;5;241m.\u001b[39mdates[m] \u001b[38;5;241m-\u001b[39m \u001b[38;5;28mself\u001b[39m\u001b[38;5;241m.\u001b[39mdates[m\u001b[38;5;241m+\u001b[39m\u001b[38;5;241m1\u001b[39m]) \u001b[38;5;241m/\u001b[39m \u001b[38;5;28mself\u001b[39m\u001b[38;5;241m.\u001b[39mdates[\u001b[38;5;241m0\u001b[39m]                   \n\u001b[0;32m     67\u001b[0m \u001b[38;5;28;01mfor\u001b[39;00m node \u001b[38;5;129;01min\u001b[39;00m \u001b[38;5;28mrange\u001b[39m(\u001b[38;5;28mself\u001b[39m\u001b[38;5;241m.\u001b[39mnodes):\n\u001b[0;32m     68\u001b[0m     \u001b[38;5;66;03m# maybe change m-1 to m for all options\u001b[39;00m\n\u001b[1;32m---> 69\u001b[0m     \u001b[38;5;28;01mif\u001b[39;00m \u001b[43mw_vect\u001b[49m\u001b[43m[\u001b[49m\u001b[43mnode\u001b[49m\u001b[43m]\u001b[49m \u001b[38;5;241m>\u001b[39m \u001b[38;5;241m0\u001b[39m \u001b[38;5;129;01mand\u001b[39;00m strikes[node] \u001b[38;5;241m>\u001b[39m \u001b[38;5;241m0\u001b[39m:\n\u001b[0;32m     70\u001b[0m         \u001b[38;5;66;03m# Forward contract\u001b[39;00m\n\u001b[0;32m     71\u001b[0m         \u001b[38;5;28mself\u001b[39m\u001b[38;5;241m.\u001b[39mopt_val[node, m, :] \u001b[38;5;241m=\u001b[39m (w_vect[node]\u001b[38;5;241m*\u001b[39mstock_paths[:,\u001b[38;5;28mself\u001b[39m\u001b[38;5;241m.\u001b[39mdates[m]]\u001b[38;5;241m+\u001b[39mstrike[node]) \u001b[38;5;241m*\u001b[39m np\u001b[38;5;241m.\u001b[39mexp(\u001b[38;5;241m-\u001b[39mr\u001b[38;5;241m*\u001b[39m(\u001b[38;5;28mself\u001b[39m\u001b[38;5;241m.\u001b[39mdates[m] \u001b[38;5;241m-\u001b[39m \u001b[38;5;28mself\u001b[39m\u001b[38;5;241m.\u001b[39mdates[m\u001b[38;5;241m+\u001b[39m\u001b[38;5;241m1\u001b[39m]))\n\u001b[0;32m     72\u001b[0m     \u001b[38;5;28;01melif\u001b[39;00m w_vect[node] \u001b[38;5;241m<\u001b[39m \u001b[38;5;241m0\u001b[39m \u001b[38;5;129;01mand\u001b[39;00m strikes[node] \u001b[38;5;241m>\u001b[39m \u001b[38;5;241m0\u001b[39m:\n\u001b[0;32m     73\u001b[0m         \u001b[38;5;66;03m# Put Option\u001b[39;00m\n",
      "\u001b[1;31mIndexError\u001b[0m: index 10 is out of bounds for axis 0 with size 10"
     ]
    }
   ],
   "source": [
    "nf.run_pricing_simulation()"
   ]
  },
  {
   "cell_type": "code",
   "execution_count": 24,
   "id": "d82297c2-7990-48d9-a3af-960fa510da51",
   "metadata": {},
   "outputs": [
    {
     "data": {
      "text/plain": [
       "array([[57.26711]], dtype=float32)"
      ]
     },
     "execution_count": 24,
     "metadata": {},
     "output_type": "execute_result"
    }
   ],
   "source": [
    "# final Bermudan Put value\n",
    "nf.nnets[3].predict(np.array(100).reshape(-1,1))"
   ]
  },
  {
   "cell_type": "code",
   "execution_count": 25,
   "id": "b458d1b6-77f3-4236-836a-650b4aeb1676",
   "metadata": {
    "tags": []
   },
   "outputs": [
    {
     "data": {
      "text/plain": [
       "(0,\n",
       " 4,\n",
       " 0,\n",
       " 6,\n",
       " array(['P', 'P', 'P', 'N', 'N', 'N', 'N', 'N', 'P', 'N'], dtype='<U1'))"
      ]
     },
     "execution_count": 25,
     "metadata": {},
     "output_type": "execute_result"
    }
   ],
   "source": [
    "# Final portfolios\n",
    "w_vect = np.array(nf.nnets[0].layers[0].get_weights()[0]).reshape(-1)\n",
    "strikes = np.array(nf.nnets[0].layers[0].get_weights()[1]).reshape(-1)\n",
    "\n",
    "identify_positions(w_vect, strikes)"
   ]
  },
  {
   "cell_type": "code",
   "execution_count": 38,
   "id": "c84ad533-06dd-47df-a1a3-9969be483790",
   "metadata": {},
   "outputs": [
    {
     "data": {
      "text/plain": [
       "array([ 3.9845927e+00,  4.1912999e+00,  4.0602536e+00,  6.3017458e-03,\n",
       "       -8.7277144e-03,  4.3193623e-04,  3.8547972e-03,  7.1581546e-03,\n",
       "        4.1844492e+00, -4.1765496e-03], dtype=float32)"
      ]
     },
     "execution_count": 38,
     "metadata": {},
     "output_type": "execute_result"
    }
   ],
   "source": [
    "np.array(nf.nnets[0].layers[1].get_weights()[0]).reshape(-1)"
   ]
  },
  {
   "cell_type": "code",
   "execution_count": 26,
   "id": "2154884a-c7a0-4453-ba4d-2eb2c85e3eff",
   "metadata": {},
   "outputs": [
    {
     "data": {
      "text/plain": [
       "array([109.97673, 109.97784, 110.04448,   0.     ,   0.     ,   0.     ,\n",
       "         0.     ,   0.     , 109.97754,   0.     ], dtype=float32)"
      ]
     },
     "execution_count": 26,
     "metadata": {},
     "output_type": "execute_result"
    }
   ],
   "source": [
    "-strikes/w_vect"
   ]
  },
  {
   "cell_type": "code",
   "execution_count": 27,
   "id": "55efde37-6514-4f07-8842-d7853f5f93dd",
   "metadata": {},
   "outputs": [
    {
     "data": {
      "text/plain": [
       "9.605892634054214"
      ]
     },
     "execution_count": 27,
     "metadata": {},
     "output_type": "execute_result"
    }
   ],
   "source": [
    "BSM_put(100,K, r,sigma,0.25)"
   ]
  },
  {
   "cell_type": "code",
   "execution_count": 36,
   "id": "28c19f54-5f70-4126-8fd0-9fbde74012d8",
   "metadata": {},
   "outputs": [],
   "source": [
    "# Open Questions:\n",
    "# - How to choose dt?"
   ]
  },
  {
   "cell_type": "code",
   "execution_count": null,
   "id": "dc971ed1-66f3-4fa1-bc6f-5cefbb299b78",
   "metadata": {},
   "outputs": [],
   "source": []
  },
  {
   "cell_type": "code",
   "execution_count": null,
   "id": "88055479-d2a6-4398-b859-c3a7d7c1721e",
   "metadata": {},
   "outputs": [],
   "source": []
  },
  {
   "cell_type": "code",
   "execution_count": null,
   "id": "622ab3c7-c764-4ad2-b1d4-87c53455bc1b",
   "metadata": {},
   "outputs": [],
   "source": []
  },
  {
   "cell_type": "code",
   "execution_count": null,
   "id": "b142223a-7dfa-4a1c-9010-0e9df49f75d0",
   "metadata": {},
   "outputs": [],
   "source": []
  },
  {
   "cell_type": "code",
   "execution_count": null,
   "id": "b64dec22-fbb6-461a-905e-1ea3527c8b52",
   "metadata": {},
   "outputs": [],
   "source": []
  },
  {
   "cell_type": "code",
   "execution_count": null,
   "id": "cd51c251-2346-45f8-ba6d-93170eb95678",
   "metadata": {},
   "outputs": [],
   "source": []
  },
  {
   "cell_type": "code",
   "execution_count": 37,
   "id": "9cb2c1eb-7ae1-4826-9c0c-093dc5192236",
   "metadata": {},
   "outputs": [],
   "source": [
    "# Figures for presentation"
   ]
  },
  {
   "cell_type": "code",
   "execution_count": 38,
   "id": "2492cab7-84f3-42e4-abea-07900a5ad256",
   "metadata": {},
   "outputs": [],
   "source": [
    "# Pre trained NN"
   ]
  },
  {
   "cell_type": "code",
   "execution_count": 28,
   "id": "353ffb6b-5fec-44c1-9c7c-fd6504ee1c5f",
   "metadata": {},
   "outputs": [],
   "source": [
    "Y_train = np.maximum(K - s_all[:,-1], 0)\n",
    "\n",
    "X_train = s_all[:,-1]"
   ]
  },
  {
   "cell_type": "code",
   "execution_count": 29,
   "id": "3a56415c-e07a-4464-a5d3-91af1367801a",
   "metadata": {},
   "outputs": [
    {
     "data": {
      "text/plain": [
       "<matplotlib.collections.PathCollection at 0x2bb6568be50>"
      ]
     },
     "execution_count": 29,
     "metadata": {},
     "output_type": "execute_result"
    },
    {
     "data": {
      "image/png": "[encoded data removed]",
      "text/plain": [
       "<Figure size 432x288 with 1 Axes>"
      ]
     },
     "metadata": {
      "needs_background": "light"
     },
     "output_type": "display_data"
    }
   ],
   "source": [
    "plt.scatter(X_train, Y_train)"
   ]
  },
  {
   "cell_type": "code",
   "execution_count": 30,
   "id": "49b174b2-5d9a-4b37-ab57-830f83d4396a",
   "metadata": {},
   "outputs": [],
   "source": [
    "S = np.arange(60,120)\n",
    "V = np.zeros(S.shape)\n",
    "\n",
    "V = nn.predict(np.array(S).reshape(-1,1))"
   ]
  },
  {
   "cell_type": "code",
   "execution_count": 31,
   "id": "45dfd59c-f44e-4278-b74e-862bd8068cfb",
   "metadata": {},
   "outputs": [
    {
     "data": {
      "image/png": "[encoded data removed]",
      "text/plain": [
       "<Figure size 432x288 with 1 Axes>"
      ]
     },
     "metadata": {
      "needs_background": "light"
     },
     "output_type": "display_data"
    }
   ],
   "source": [
    "plt.scatter(S,V, label=\"NN output\")\n",
    "plt.scatter(X_train, Y_train, label=\"training data\")\n",
    "plt.legend()\n",
    "plt.xlabel(\"S\")\n",
    "plt.ylabel(\"V\")\n",
    "plt.title(\"Payoff for a Bermudan put option at maturity\")\n",
    "plt.savefig(\"figures/put_at_maturity_NN.jpg\", dpi=300)"
   ]
  },
  {
   "cell_type": "code",
   "execution_count": null,
   "id": "a5c996fc-239c-438b-b4e7-d3c1293b0565",
   "metadata": {},
   "outputs": [],
   "source": []
  },
  {
   "cell_type": "code",
   "execution_count": 43,
   "id": "8a01fc76-aee1-4712-a859-f528991e7ada",
   "metadata": {},
   "outputs": [],
   "source": [
    "# NN payoff at later times"
   ]
  },
  {
   "cell_type": "code",
   "execution_count": 32,
   "id": "56453f14-0a4a-441d-941c-6b86843133af",
   "metadata": {},
   "outputs": [],
   "source": [
    "Y_train = np.maximum(K - s_all[:,-1], 0)\n",
    "\n",
    "X_train = s_all[:,-1]"
   ]
  },
  {
   "cell_type": "code",
   "execution_count": 33,
   "id": "38b4feba-8512-40e4-9763-04651838211a",
   "metadata": {},
   "outputs": [],
   "source": [
    "m=1\n",
    "V = np.zeros(len(nf.stock_paths[:,nf.dates[m]]))\n",
    "\n",
    "for s in range(len(nf.stock_paths[:,nf.dates[m]])): \n",
    "    V[s] = np.sum(nf.opt_val[:,m,s])\n",
    "\n",
    "h = np.maximum(0, nf.K - nf.stock_paths[:,dates[m]])\n",
    "\n",
    "for i, value in enumerate(h):\n",
    "    if value > V[i]:\n",
    "        Y_train[i] = value\n",
    "    else:\n",
    "        Y_train[i] = V[i]\n",
    "#Y_train = np.maximum(nf.h, V)\n",
    "\n",
    "X_train = np.array(nf.stock_paths[:,dates[m]]).reshape(1,-1)"
   ]
  },
  {
   "cell_type": "code",
   "execution_count": 34,
   "id": "80ad00bf-f13e-4d2e-924c-b9ce8bbe902b",
   "metadata": {},
   "outputs": [
    {
     "data": {
      "text/plain": [
       "<matplotlib.collections.PathCollection at 0x2bc5c79ff40>"
      ]
     },
     "execution_count": 34,
     "metadata": {},
     "output_type": "execute_result"
    },
    {
     "data": {
      "image/png": "[encoded data removed]",
      "text/plain": [
       "<Figure size 432x288 with 1 Axes>"
      ]
     },
     "metadata": {
      "needs_background": "light"
     },
     "output_type": "display_data"
    }
   ],
   "source": [
    "plt.scatter(X_train, Y_train)"
   ]
  },
  {
   "cell_type": "code",
   "execution_count": 35,
   "id": "d88046ee-3a4c-4008-a79b-f25d5048e954",
   "metadata": {},
   "outputs": [],
   "source": [
    "S=np.arange(50,180)"
   ]
  },
  {
   "cell_type": "code",
   "execution_count": 36,
   "id": "56fa0c36-a7be-4692-8471-e3d26f0a02ca",
   "metadata": {},
   "outputs": [],
   "source": [
    "V = nf.nnets[m].predict(np.array(S).reshape(-1,1))"
   ]
  },
  {
   "cell_type": "code",
   "execution_count": 37,
   "id": "3de444d5-c5ce-460e-a0ca-3d5002d6594f",
   "metadata": {},
   "outputs": [
    {
     "data": {
      "image/png": "[encoded data removed]",
      "text/plain": [
       "<Figure size 432x288 with 1 Axes>"
      ]
     },
     "metadata": {
      "needs_background": "light"
     },
     "output_type": "display_data"
    }
   ],
   "source": [
    "plt.scatter(X_train, Y_train, label=\"training data\")\n",
    "plt.scatter(S,V, label=\"NN output\")\n",
    "#plt.scatter(X_train, Y_train, label=\"training data\")\n",
    "plt.legend()\n",
    "plt.xlabel(\"S\")\n",
    "plt.ylabel(\"V\")\n",
    "plt.title(f\"Estimated Payoff for a put option at M-{m} by NN\")\n",
    "plt.savefig(f\"figures/M-{m}_payoff_NN.jpg\", dpi=300)"
   ]
  }
 ],
 "metadata": {
  "kernelspec": {
   "display_name": "Python 3 (ipykernel)",
   "language": "python",
   "name": "python3"
  },
  "language_info": {
   "codemirror_mode": {
    "name": "ipython",
    "version": 3
   },
   "file_extension": ".py",
   "mimetype": "text/x-python",
   "name": "python",
   "nbconvert_exporter": "python",
   "pygments_lexer": "ipython3",
   "version": "3.8.0"
  }
 },
 "nbformat": 4,
 "nbformat_minor": 5
}
