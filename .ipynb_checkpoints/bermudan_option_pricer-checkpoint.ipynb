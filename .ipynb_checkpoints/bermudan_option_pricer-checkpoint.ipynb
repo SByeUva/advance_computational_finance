{
 "cells": [
  {
   "cell_type": "markdown",
   "id": "7e538ce4",
   "metadata": {},
   "source": [
    "# American and Bermudan Option pricer"
   ]
  },
  {
   "cell_type": "code",
   "execution_count": 1,
   "id": "58183e58",
   "metadata": {},
   "outputs": [],
   "source": [
    "# Packages used\n",
    "import numpy as np\n",
    "import matplotlib.pyplot as plt\n",
    "from scipy import odr\n",
    "from helper import GBM_Euler, value_option_schwarz, value_option_schwarz_test, value_option_bermudan\n",
    "import keras"
   ]
  },
  {
   "cell_type": "markdown",
   "id": "aba344ff",
   "metadata": {},
   "source": [
    "## Simulations Run with Data from paper\n",
    "\n",
    "American option should be priced at .1144"
   ]
  },
  {
   "cell_type": "code",
   "execution_count": 2,
   "id": "3371e58d",
   "metadata": {},
   "outputs": [],
   "source": [
    "# Parameters\n",
    "K=1.1; M=4; r=.06; realizations=8\n",
    "\n",
    "# Matrix\n",
    "path_matrix = np.array([\n",
    "[1.00, 1.09, 1.08, 1.34],\n",
    "[1.00, 1.16, 1.26, 1.54],\n",
    "[1.00, 1.22, 1.07, 1.03],\n",
    "[1.00, 0.93, 0.97, 0.92],\n",
    "[1.00, 1.11, 1.56, 1.52],\n",
    "[1.00, .76, 0.77, 0.90],\n",
    "[1.00, 0.92, 0.84, 1.01],\n",
    "[1.00, 0.88, 1.22, 1.34]])"
   ]
  },
  {
   "cell_type": "code",
   "execution_count": 3,
   "id": "518fe3c0",
   "metadata": {},
   "outputs": [
    {
     "name": "stdout",
     "output_type": "stream",
     "text": [
      "Price of American Option is: 0.11665163113684986\n"
     ]
    }
   ],
   "source": [
    "# Generate cash flows under Longstaff-Schwarz\n",
    "cash_flows = value_option_schwarz(M,K,path_matrix, r, realizations, option=\"put\")\n",
    "\n",
    "# Discount cash flows\n",
    "for time in range(cash_flows.shape[1]):\n",
    "    cash_flows[:,time]*=np.exp(-r*time)\n",
    "print(f'Price of American Option is: {np.sum(cash_flows[0:])/realizations}')"
   ]
  },
  {
   "cell_type": "code",
   "execution_count": 4,
   "id": "25774ac4",
   "metadata": {},
   "outputs": [
    {
     "name": "stdout",
     "output_type": "stream",
     "text": [
      "Price of American Option is: 0.11443433004505696\n"
     ]
    }
   ],
   "source": [
    "cash_flows_test = value_option_schwarz_test(M,K,path_matrix, r, realizations, option=\"put\")\n",
    "\n",
    "# Discount cash flows\n",
    "for time in range(cash_flows.shape[1]):\n",
    "    cash_flows_test[:,time]*=np.exp(-r*time)\n",
    "print(f'Price of American Option is: {np.sum(cash_flows_test[0:])/realizations}')    "
   ]
  },
  {
   "cell_type": "code",
   "execution_count": 5,
   "id": "db2ce593",
   "metadata": {},
   "outputs": [
    {
     "name": "stdout",
     "output_type": "stream",
     "text": [
      "Price of Bermudan Option is: 0.11561153571203728\n"
     ]
    }
   ],
   "source": [
    "# Unit test Bermudian pricer by giving it same amount of exericse options as American\n",
    "exercise_dates = [1,2,3,4]\n",
    "cash_flow_bermudan = value_option_bermudan(M, K, path_matrix, r, realizations, exercise_dates, option=\"put\")\n",
    "\n",
    "for time in range(cash_flow_bermudan.shape[1]):\n",
    "    cash_flow_bermudan[:,time] *= np.exp(-r*time)\n",
    "print(f'Price of Bermudan Option is: {np.sum(cash_flow_bermudan[0:])/realizations}')    "
   ]
  },
  {
   "cell_type": "code",
   "execution_count": 6,
   "id": "3d7b91bf",
   "metadata": {},
   "outputs": [
    {
     "name": "stdout",
     "output_type": "stream",
     "text": [
      "Price of Bermudan Option is: 0.056380739270260896\n"
     ]
    }
   ],
   "source": [
    "# Fewer exercise points should lead to lower option price\n",
    "exercise_dates = [2,3]\n",
    "cash_flow_bermudan = value_option_bermudan(M, K, path_matrix, r, realizations, exercise_dates, option=\"put\")\n",
    "\n",
    "for time in range(cash_flow_bermudan.shape[1]):\n",
    "    cash_flow_bermudan[:,time] *= np.exp(-r*time)\n",
    "print(f'Price of Bermudan Option is: {np.sum(cash_flow_bermudan[0:])/realizations}')    "
   ]
  },
  {
   "cell_type": "markdown",
   "id": "fa7f14bb",
   "metadata": {},
   "source": [
    "## Simulation based on GBM"
   ]
  },
  {
   "cell_type": "code",
   "execution_count": 7,
   "id": "c7beb285",
   "metadata": {},
   "outputs": [],
   "source": [
    "# Variables used\n",
    "T = 1\n",
    "K = 95\n",
    "S = 100\n",
    "M = 100\n",
    "sigma = 0.2\n",
    "r = 0.06/M\n",
    "realizations = 1000\n",
    "exercise_dates = np.array([2,4,6,8])"
   ]
  },
  {
   "cell_type": "code",
   "execution_count": 8,
   "id": "c3ac6a73",
   "metadata": {},
   "outputs": [],
   "source": [
    "# Generate stock scenarios\n",
    "s_all = np.array([np.array(GBM_Euler(T, S, sigma, r, M)) for x in range(realizations)])"
   ]
  },
  {
   "cell_type": "code",
   "execution_count": 9,
   "id": "e405294b",
   "metadata": {},
   "outputs": [],
   "source": [
    "# Generate path matrix\n",
    "path_matrix = np.zeros((realizations, M))\n",
    "for realization in range(realizations):\n",
    "    path_matrix[realization,:] = s_all[realization]"
   ]
  },
  {
   "cell_type": "code",
   "execution_count": 10,
   "id": "1284b3a7",
   "metadata": {},
   "outputs": [
    {
     "name": "stdout",
     "output_type": "stream",
     "text": [
      "5.139105047373255\n"
     ]
    }
   ],
   "source": [
    "option_cash_flow = value_option_schwarz(M,K,path_matrix, r, realizations,option=\"call\")\n",
    "\n",
    "for time in range(option_cash_flow.shape[1]):\n",
    "    option_cash_flow[:,time]*=np.exp(-r*time)\n",
    "    \n",
    "print(np.sum(option_cash_flow[1:])/realizations)"
   ]
  },
  {
   "cell_type": "code",
   "execution_count": 11,
   "id": "79b874ec",
   "metadata": {},
   "outputs": [],
   "source": [
    "option_cash_flow = value_option_schwarz(M,K,path_matrix, r, realizations,option=\"call\")\n"
   ]
  },
  {
   "cell_type": "code",
   "execution_count": 12,
   "id": "03a34cf9",
   "metadata": {},
   "outputs": [],
   "source": [
    "def option_pricer(option_cash_flow, realizations, M, r):\n",
    "    '''\n",
    "    Take option cash flow matrix, discount time step and calculate the average and standard devation\n",
    "    Input: cash flow matrix, realisations, time points, risk free interest rate\n",
    "    Output: Option price +/- std\n",
    "    '''\n",
    "    \n",
    "    # Discount \n",
    "    for time in range(option_cash_flow.shape[1]):\n",
    "        option_cash_flow[:,time] *= np.exp(-r*time)\n",
    "    \n",
    "    # Subtract values which are not zero and create vector to compute first and second moment\n",
    "    final_price = np.zeros(realizations)\n",
    "    \n",
    "    for i in range(realizations):\n",
    "        for j in range(M):\n",
    "            if option_cash_flow[i][j] != 0:\n",
    "                final_price[i] = option_cash_flow[i][j]\n",
    "    \n",
    "    return [np.mean(final_price), np.std(final_price)]"
   ]
  },
  {
   "cell_type": "code",
   "execution_count": 13,
   "id": "bef1f12d",
   "metadata": {},
   "outputs": [
    {
     "data": {
      "text/plain": [
       "[5.145021620026054, 2.0638102645241503]"
      ]
     },
     "execution_count": 13,
     "metadata": {},
     "output_type": "execute_result"
    }
   ],
   "source": [
    "option_pricer(option_cash_flow, realizations, M, r)"
   ]
  },
  {
   "cell_type": "code",
   "execution_count": 14,
   "id": "e2f8f81b",
   "metadata": {},
   "outputs": [
    {
     "name": "stdout",
     "output_type": "stream",
     "text": [
      "9.437011812546897\n"
     ]
    }
   ],
   "source": [
    "cash_flows_bermudan = value_option_bermudan(M, K, path_matrix, r, realizations, exercise_dates, option = \"call\")\n",
    "\n",
    "\n",
    "for time in range(cash_flows_bermudan.shape[1]):\n",
    "    cash_flows_bermudan[:,time]*=np.exp(-r*time)\n",
    "    \n",
    "print(np.sum(cash_flows_bermudan[1:])/realizations)"
   ]
  },
  {
   "cell_type": "code",
   "execution_count": 15,
   "id": "afe63f7b",
   "metadata": {},
   "outputs": [],
   "source": [
    "cash_flows_bermudan = value_option_bermudan(M, K, path_matrix, r, realizations, exercise_dates, option = \"call\")\n"
   ]
  },
  {
   "cell_type": "code",
   "execution_count": 16,
   "id": "df30770d",
   "metadata": {},
   "outputs": [
    {
     "data": {
      "text/plain": [
       "[9.466574385092096, 12.7717848585498]"
      ]
     },
     "execution_count": 16,
     "metadata": {},
     "output_type": "execute_result"
    }
   ],
   "source": [
    "option_pricer(cash_flows_bermudan, realizations, M, r)"
   ]
  },
  {
   "cell_type": "markdown",
   "id": "20422073-b690-4c48-a3f1-0327491c5ac4",
   "metadata": {},
   "source": [
    "### Neural Net"
   ]
  },
  {
   "cell_type": "code",
   "execution_count": 17,
   "id": "c47837b0-f685-429c-9d33-47ff0cc81258",
   "metadata": {},
   "outputs": [],
   "source": [
    "from keras.models import Sequential\n",
    "from keras.layers import Dense, Input\n",
    "import keras.optimizers as opt\n",
    "from keras.constraints import Constraint\n",
    "from keras import backend as keras_backend\n",
    "import tensorflow as tf"
   ]
  },
  {
   "cell_type": "code",
   "execution_count": 18,
   "id": "c7b7ae3a-bf8f-406d-9e8d-4b20d99d2c09",
   "metadata": {},
   "outputs": [],
   "source": [
    "class neural_bermudan_fitter:\n",
    "    def __init__(self, r, sigma, stock_paths, K, dates, option=\"put\", T=1, nodes=10, epochs=10):\n",
    "        self.stock_paths = stock_paths\n",
    "        self.K = K\n",
    "        assert all(earlier > later for earlier, later in zip(dates, dates[1:])), 'the dates should be in descending order'\n",
    "        self.dates = dates\n",
    "        \n",
    "        self.T=T\n",
    "        self.r = r\n",
    "        self.sigma = sigma\n",
    "        self.option = option.lower()\n",
    "        self.N = len(self.stock_paths)\n",
    "        self.M = len(self.dates)\n",
    "        self.num_stoch_movements = len(self.stock_paths[0])\n",
    "        self.nodes = nodes\n",
    "        self.epochs = epochs\n",
    "        \n",
    "        self.evaluate_final()\n",
    "        \n",
    "        #step 3 of Jain\n",
    "        self.beta = np.random.uniform(size=(self.N,1))\n",
    "        self.nnets = []\n",
    "        self.setup_network()\n",
    "        self.V = np.zeros(self.N)\n",
    "        \n",
    "    def evaluate_final(self):\n",
    "        # step 2 of algorithm in Jain paper\n",
    "        if self.option == 'call':\n",
    "            self.h = tf.maximum(self.stock_paths[:,-1] - self.K,0)\n",
    "        else:\n",
    "            self.h = tf.maximum(self.K - self.stock_paths[:,-1],0)\n",
    "            \n",
    "    def setup_network(self):\n",
    "        initializer = tf.keras.initializers.RandomUniform(minval=0.5, maxval=1, seed=None)\n",
    "        model = Sequential([\n",
    "            Input(shape=(1)),\n",
    "            Dense(self.nodes,activation='relu',trainable=True, kernel_initializer = initializer),\n",
    "            Dense(1,activation='linear',trainable=True)\n",
    "            ])\n",
    "        model.compile(tf.optimizers.Adam(learning_rate=0.001), loss='mean_squared_error')\n",
    "        self.nnets.append(model)\n",
    "        \n",
    "    def run_pricing_simulation(self):        \n",
    "        for m,date in enumerate(self.dates[0:len(self.dates)-1]):\n",
    "            #step 5\n",
    "            self.fit_model(m , date)\n",
    "            # steps 6 to 12\n",
    "            for n in range(self.N):\n",
    "                prediction = self.nnets[-1].predict(self.stock_paths[n,self.dates[m+1]].reshape(-1,1))\n",
    "                if self.option == \"call\":\n",
    "                    self.V[n] = np.maximum(prediction, self.stock_paths[n,self.dates[m+1]] - self.K)\n",
    "                else:\n",
    "                    self.V[n] = np.maximum(prediction, self.K - self.stock_paths[n,self.dates[m+1]])\n",
    "            #self.setup_network()\n",
    "            self.nnets.append(keras.clone_model(self.nnets[-1]))\n",
    "            \n",
    "    def fit_model(self,m, date):\n",
    "        if self.option=='call':\n",
    "            self.h = np.maximum(0, self.stock_paths[:,date] - self.K)\n",
    "            Y_train = np.maximum(self.h, self.V)\n",
    "            #print(Y_train)\n",
    "        else:\n",
    "            self.h = np.maximum(0, self.K - self.stock_paths[:,date])\n",
    "            Y_train = np.maximum(self.h, self.V)\n",
    "            #print(Y_train)\n",
    "            \n",
    "            \n",
    "        X_train = np.array(self.stock_paths[:,date])\n",
    "        self.nnets[-1].fit(X_train.reshape(-1,1), Y_train.reshape(-1,1), batch_size = 1, epochs=self.epochs, verbose=1)"
   ]
  },
  {
   "cell_type": "code",
   "execution_count": 79,
   "id": "e214af52-7d94-4fbd-9fc3-aed63fa8b8b5",
   "metadata": {},
   "outputs": [],
   "source": [
    "#initializer = tf.keras.initializers.RandomUniform(minval=1, maxval=1, seed=None)\n",
    "initializer = tf.keras.initializers.RandomNormal(mean=0., stddev=1.)\n",
    "nn = Sequential([\n",
    "            Input(shape=(1)),\n",
    "            Dense(10,activation='relu',trainable=True, kernel_initializer = initializer),\n",
    "            Dense(1,activation='linear',trainable=True)\n",
    "            ])\n",
    "nn.compile(tf.optimizers.Adam(learning_rate=0.01), loss='mean_squared_error')"
   ]
  },
  {
   "cell_type": "code",
   "execution_count": 80,
   "id": "aeef6e1e-2507-44ac-b96f-ebe393bec76b",
   "metadata": {},
   "outputs": [],
   "source": [
    "#Y_train = np.maximum(s_all[:,-1] - K, 0)\n",
    "\n",
    "Y_train = np.maximum(K - s_all[:,-1], 0)"
   ]
  },
  {
   "cell_type": "code",
   "execution_count": 81,
   "id": "3f32ecbb-4dd1-43c9-a46e-420d3f6684a7",
   "metadata": {},
   "outputs": [],
   "source": [
    "X_train = s_all[:,-1]"
   ]
  },
  {
   "cell_type": "code",
   "execution_count": 82,
   "id": "0e261e13-368b-41cc-ad10-d19436c66008",
   "metadata": {},
   "outputs": [
    {
     "data": {
      "text/plain": [
       "<matplotlib.collections.PathCollection at 0x13e138a7940>"
      ]
     },
     "execution_count": 82,
     "metadata": {},
     "output_type": "execute_result"
    },
    {
     "data": {
      "image/png": "[encoded data removed]",
      "text/plain": [
       "<Figure size 432x288 with 1 Axes>"
      ]
     },
     "metadata": {
      "needs_background": "light"
     },
     "output_type": "display_data"
    }
   ],
   "source": [
    "plt.scatter(X_train, Y_train)"
   ]
  },
  {
   "cell_type": "code",
   "execution_count": 83,
   "id": "09eeaf8d-669f-4352-aeaa-49dd786004bc",
   "metadata": {},
   "outputs": [
    {
     "name": "stdout",
     "output_type": "stream",
     "text": [
      "Epoch 1/30\n",
      "1000/1000 [==============================] - 1s 1ms/step - loss: 125.3177\n",
      "Epoch 2/30\n",
      "1000/1000 [==============================] - 1s 1ms/step - loss: 87.1234\n",
      "Epoch 3/30\n",
      "1000/1000 [==============================] - 1s 1ms/step - loss: 76.4862\n",
      "Epoch 4/30\n",
      "1000/1000 [==============================] - 1s 1ms/step - loss: 70.3412\n",
      "Epoch 5/30\n",
      "1000/1000 [==============================] - 1s 1ms/step - loss: 59.6199\n",
      "Epoch 6/30\n",
      "1000/1000 [==============================] - 1s 1ms/step - loss: 49.4256\n",
      "Epoch 7/30\n",
      "1000/1000 [==============================] - 2s 2ms/step - loss: 44.2084\n",
      "Epoch 8/30\n",
      "1000/1000 [==============================] - 1s 1ms/step - loss: 40.5902\n",
      "Epoch 9/30\n",
      "1000/1000 [==============================] - 1s 1ms/step - loss: 39.0326\n",
      "Epoch 10/30\n",
      "1000/1000 [==============================] - 1s 1ms/step - loss: 33.1076\n",
      "Epoch 11/30\n",
      "1000/1000 [==============================] - 1s 1ms/step - loss: 34.8066\n",
      "Epoch 12/30\n",
      "1000/1000 [==============================] - 1s 1ms/step - loss: 38.9580\n",
      "Epoch 13/30\n",
      "1000/1000 [==============================] - 1s 1ms/step - loss: 38.5966\n",
      "Epoch 14/30\n",
      "1000/1000 [==============================] - 1s 1ms/step - loss: 38.3239\n",
      "Epoch 15/30\n",
      "1000/1000 [==============================] - 1s 1ms/step - loss: 37.4952\n",
      "Epoch 16/30\n",
      "1000/1000 [==============================] - 1s 1ms/step - loss: 37.2356\n",
      "Epoch 17/30\n",
      "1000/1000 [==============================] - 1s 1ms/step - loss: 37.6904\n",
      "Epoch 18/30\n",
      "1000/1000 [==============================] - 1s 1ms/step - loss: 35.6692\n",
      "Epoch 19/30\n",
      "1000/1000 [==============================] - 1s 1ms/step - loss: 36.8187\n",
      "Epoch 20/30\n",
      "1000/1000 [==============================] - 1s 1ms/step - loss: 29.0440\n",
      "Epoch 21/30\n",
      "1000/1000 [==============================] - 1s 1ms/step - loss: 20.0236\n",
      "Epoch 22/30\n",
      "1000/1000 [==============================] - 1s 1ms/step - loss: 15.0713\n",
      "Epoch 23/30\n",
      "1000/1000 [==============================] - 1s 1ms/step - loss: 8.4815\n",
      "Epoch 24/30\n",
      "1000/1000 [==============================] - 1s 1ms/step - loss: 4.7110\n",
      "Epoch 25/30\n",
      "1000/1000 [==============================] - 1s 1ms/step - loss: 6.1296\n",
      "Epoch 26/30\n",
      "1000/1000 [==============================] - 1s 1ms/step - loss: 5.7890\n",
      "Epoch 27/30\n",
      "1000/1000 [==============================] - 1s 1ms/step - loss: 6.7025\n",
      "Epoch 28/30\n",
      "1000/1000 [==============================] - 1s 1ms/step - loss: 2.3836\n",
      "Epoch 29/30\n",
      "1000/1000 [==============================] - 1s 1ms/step - loss: 4.4333\n",
      "Epoch 30/30\n",
      "1000/1000 [==============================] - 1s 1ms/step - loss: 2.1534\n"
     ]
    },
    {
     "data": {
      "text/plain": [
       "<keras.callbacks.History at 0x13e138ead00>"
      ]
     },
     "execution_count": 83,
     "metadata": {},
     "output_type": "execute_result"
    }
   ],
   "source": [
    "nn.fit(X_train.reshape(-1,1), Y_train.reshape(-1,1), batch_size=1, epochs=30, verbose=1)"
   ]
  },
  {
   "cell_type": "code",
   "execution_count": 84,
   "id": "c2ec353f-e6a1-498b-bc3a-2fac7fb56707",
   "metadata": {},
   "outputs": [],
   "source": [
    "inner_weights = nn.layers[0].get_weights()[0]\n",
    "strikes = nn.layers[0].get_weights()[1]"
   ]
  },
  {
   "cell_type": "code",
   "execution_count": 85,
   "id": "3738bed5-eae4-4c12-bc90-e211cf413d15",
   "metadata": {},
   "outputs": [
    {
     "data": {
      "text/plain": [
       "array([  0.      , -10.224838, -13.193678,   0.      ,   0.      ,\n",
       "         0.      ,   0.      ,   0.      ,  16.314362,  10.789741],\n",
       "      dtype=float32)"
      ]
     },
     "execution_count": 85,
     "metadata": {},
     "output_type": "execute_result"
    }
   ],
   "source": [
    "strikes"
   ]
  },
  {
   "cell_type": "code",
   "execution_count": 86,
   "id": "13c496d2-1daa-414c-9ce8-5a06904cb463",
   "metadata": {},
   "outputs": [
    {
     "data": {
      "text/plain": [
       "array([[-0.77033293,  0.50239724,  0.05963617, -1.0324123 , -1.4355276 ,\n",
       "        -0.9924187 , -1.7294081 , -0.9784094 , -0.214533  , -0.20016941]],\n",
       "      dtype=float32)"
      ]
     },
     "execution_count": 86,
     "metadata": {},
     "output_type": "execute_result"
    }
   ],
   "source": [
    "inner_weights"
   ]
  },
  {
   "cell_type": "code",
   "execution_count": 87,
   "id": "e5618042-6a52-441c-9f99-e653b3ad0c6a",
   "metadata": {},
   "outputs": [],
   "source": [
    "S = np.arange(0,120)\n",
    "V = np.zeros(S.shape)\n",
    "\n",
    "V = nn.predict(np.array(S).reshape(-1,1))"
   ]
  },
  {
   "cell_type": "code",
   "execution_count": 88,
   "id": "e27169b6-4d8f-46ba-b1b1-e00447d00b94",
   "metadata": {},
   "outputs": [
    {
     "data": {
      "text/plain": [
       "<matplotlib.collections.PathCollection at 0x13dfbce22e0>"
      ]
     },
     "execution_count": 88,
     "metadata": {},
     "output_type": "execute_result"
    },
    {
     "data": {
      "image/png": "[encoded data removed]",
      "text/plain": [
       "<Figure size 432x288 with 1 Axes>"
      ]
     },
     "metadata": {
      "needs_background": "light"
     },
     "output_type": "display_data"
    }
   ],
   "source": [
    "plt.scatter(S,V)"
   ]
  },
  {
   "cell_type": "code",
   "execution_count": null,
   "id": "7d4cd970-99ee-4a58-b2a1-882101473358",
   "metadata": {},
   "outputs": [],
   "source": []
  },
  {
   "cell_type": "code",
   "execution_count": null,
   "id": "99954be4-38d4-4c75-a748-bbb2d5424da1",
   "metadata": {},
   "outputs": [],
   "source": []
  },
  {
   "cell_type": "code",
   "execution_count": 26,
   "id": "ee357210-60b4-4b25-bb2f-d18fe32b71a1",
   "metadata": {},
   "outputs": [],
   "source": [
    "dates = [0,24,49,74, 99]\n",
    "dates.reverse()"
   ]
  },
  {
   "cell_type": "code",
   "execution_count": 265,
   "id": "a629d713-1f26-47e4-84d7-d547000f6b3b",
   "metadata": {},
   "outputs": [],
   "source": [
    "nf = neural_bermudan_fitter(r, sigma, s_all,  100, dates, epochs = 30)"
   ]
  },
  {
   "cell_type": "code",
   "execution_count": 266,
   "id": "2acf4eeb-cde5-437a-a0f1-1b102701eab1",
   "metadata": {},
   "outputs": [
    {
     "name": "stdout",
     "output_type": "stream",
     "text": [
      "Epoch 1/30\n",
      "1000/1000 [==============================] - 2s 1ms/step - loss: 156.6015\n",
      "Epoch 2/30\n",
      "1000/1000 [==============================] - 1s 1ms/step - loss: 137.2102\n",
      "Epoch 3/30\n",
      "1000/1000 [==============================] - 1s 1ms/step - loss: 134.7025\n",
      "Epoch 4/30\n",
      "1000/1000 [==============================] - 1s 1ms/step - loss: 131.0708\n",
      "Epoch 5/30\n",
      "1000/1000 [==============================] - 1s 1ms/step - loss: 127.9036\n",
      "Epoch 6/30\n",
      "1000/1000 [==============================] - 1s 1ms/step - loss: 124.9545\n",
      "Epoch 7/30\n",
      "1000/1000 [==============================] - 1s 1ms/step - loss: 121.5603\n",
      "Epoch 8/30\n",
      "1000/1000 [==============================] - 1s 1ms/step - loss: 117.8790\n",
      "Epoch 9/30\n",
      "1000/1000 [==============================] - 1s 1ms/step - loss: 118.6661\n",
      "Epoch 10/30\n",
      "1000/1000 [==============================] - 1s 1ms/step - loss: 115.5072\n",
      "Epoch 11/30\n",
      "1000/1000 [==============================] - 1s 1ms/step - loss: 110.5341\n",
      "Epoch 12/30\n",
      "1000/1000 [==============================] - 1s 1ms/step - loss: 107.8257\n",
      "Epoch 13/30\n",
      "1000/1000 [==============================] - 1s 1ms/step - loss: 104.6568\n",
      "Epoch 14/30\n",
      "1000/1000 [==============================] - 1s 1ms/step - loss: 102.7792\n",
      "Epoch 15/30\n",
      "1000/1000 [==============================] - 1s 1ms/step - loss: 101.1629\n",
      "Epoch 16/30\n",
      "1000/1000 [==============================] - 1s 1ms/step - loss: 96.3677\n",
      "Epoch 17/30\n",
      "1000/1000 [==============================] - 2s 2ms/step - loss: 93.9529\n",
      "Epoch 18/30\n",
      "1000/1000 [==============================] - 1s 1ms/step - loss: 91.2583\n",
      "Epoch 19/30\n",
      "1000/1000 [==============================] - 1s 1ms/step - loss: 89.2982\n",
      "Epoch 20/30\n",
      "1000/1000 [==============================] - 1s 1ms/step - loss: 86.6292\n",
      "Epoch 21/30\n",
      "1000/1000 [==============================] - 1s 1ms/step - loss: 84.3457\n",
      "Epoch 22/30\n",
      "1000/1000 [==============================] - 1s 1ms/step - loss: 80.7563\n",
      "Epoch 23/30\n",
      "1000/1000 [==============================] - 1s 1ms/step - loss: 78.8884\n",
      "Epoch 24/30\n",
      "1000/1000 [==============================] - 1s 1ms/step - loss: 75.9612\n",
      "Epoch 25/30\n",
      "1000/1000 [==============================] - 1s 1ms/step - loss: 73.0613\n",
      "Epoch 26/30\n",
      "1000/1000 [==============================] - 1s 1ms/step - loss: 70.7838\n",
      "Epoch 27/30\n",
      "1000/1000 [==============================] - 1s 1ms/step - loss: 68.9029\n",
      "Epoch 28/30\n",
      "1000/1000 [==============================] - 1s 1ms/step - loss: 66.9566\n",
      "Epoch 29/30\n",
      "1000/1000 [==============================] - 1s 1ms/step - loss: 65.0940\n",
      "Epoch 30/30\n",
      "1000/1000 [==============================] - 1s 1ms/step - loss: 62.1983\n"
     ]
    },
    {
     "ename": "KeyboardInterrupt",
     "evalue": "",
     "output_type": "error",
     "traceback": [
      "\u001b[1;31m---------------------------------------------------------------------------\u001b[0m",
      "\u001b[1;31mKeyboardInterrupt\u001b[0m                         Traceback (most recent call last)",
      "Input \u001b[1;32mIn [266]\u001b[0m, in \u001b[0;36m<cell line: 1>\u001b[1;34m()\u001b[0m\n\u001b[1;32m----> 1\u001b[0m \u001b[43mnf\u001b[49m\u001b[38;5;241;43m.\u001b[39;49m\u001b[43mrun_pricing_simulation\u001b[49m\u001b[43m(\u001b[49m\u001b[43m)\u001b[49m\n",
      "Input \u001b[1;32mIn [263]\u001b[0m, in \u001b[0;36mneural_bermudan_fitter.run_pricing_simulation\u001b[1;34m(self)\u001b[0m\n\u001b[0;32m     47\u001b[0m \u001b[38;5;66;03m# steps 6 to 12\u001b[39;00m\n\u001b[0;32m     48\u001b[0m \u001b[38;5;28;01mfor\u001b[39;00m n \u001b[38;5;129;01min\u001b[39;00m \u001b[38;5;28mrange\u001b[39m(\u001b[38;5;28mself\u001b[39m\u001b[38;5;241m.\u001b[39mN):\n\u001b[1;32m---> 49\u001b[0m     prediction \u001b[38;5;241m=\u001b[39m \u001b[38;5;28;43mself\u001b[39;49m\u001b[38;5;241;43m.\u001b[39;49m\u001b[43mnnets\u001b[49m\u001b[43m[\u001b[49m\u001b[38;5;241;43m-\u001b[39;49m\u001b[38;5;241;43m1\u001b[39;49m\u001b[43m]\u001b[49m\u001b[38;5;241;43m.\u001b[39;49m\u001b[43mpredict\u001b[49m\u001b[43m(\u001b[49m\u001b[38;5;28;43mself\u001b[39;49m\u001b[38;5;241;43m.\u001b[39;49m\u001b[43mstock_paths\u001b[49m\u001b[43m[\u001b[49m\u001b[43mn\u001b[49m\u001b[43m,\u001b[49m\u001b[38;5;28;43mself\u001b[39;49m\u001b[38;5;241;43m.\u001b[39;49m\u001b[43mdates\u001b[49m\u001b[43m[\u001b[49m\u001b[43mm\u001b[49m\u001b[38;5;241;43m+\u001b[39;49m\u001b[38;5;241;43m1\u001b[39;49m\u001b[43m]\u001b[49m\u001b[43m]\u001b[49m\u001b[38;5;241;43m.\u001b[39;49m\u001b[43mreshape\u001b[49m\u001b[43m(\u001b[49m\u001b[38;5;241;43m-\u001b[39;49m\u001b[38;5;241;43m1\u001b[39;49m\u001b[43m,\u001b[49m\u001b[38;5;241;43m1\u001b[39;49m\u001b[43m)\u001b[49m\u001b[43m)\u001b[49m\n\u001b[0;32m     50\u001b[0m     \u001b[38;5;28;01mif\u001b[39;00m \u001b[38;5;28mself\u001b[39m\u001b[38;5;241m.\u001b[39moption \u001b[38;5;241m==\u001b[39m \u001b[38;5;124m\"\u001b[39m\u001b[38;5;124mcall\u001b[39m\u001b[38;5;124m\"\u001b[39m:\n\u001b[0;32m     51\u001b[0m         \u001b[38;5;28mself\u001b[39m\u001b[38;5;241m.\u001b[39mV[n] \u001b[38;5;241m=\u001b[39m np\u001b[38;5;241m.\u001b[39mmaximum(prediction, \u001b[38;5;28mself\u001b[39m\u001b[38;5;241m.\u001b[39mstock_paths[n,\u001b[38;5;28mself\u001b[39m\u001b[38;5;241m.\u001b[39mdates[m\u001b[38;5;241m+\u001b[39m\u001b[38;5;241m1\u001b[39m]] \u001b[38;5;241m-\u001b[39m \u001b[38;5;28mself\u001b[39m\u001b[38;5;241m.\u001b[39mK)\n",
      "File \u001b[1;32m~\\anaconda3\\envs\\tf2.4\\lib\\site-packages\\keras\\utils\\traceback_utils.py:64\u001b[0m, in \u001b[0;36mfilter_traceback.<locals>.error_handler\u001b[1;34m(*args, **kwargs)\u001b[0m\n\u001b[0;32m     62\u001b[0m filtered_tb \u001b[38;5;241m=\u001b[39m \u001b[38;5;28;01mNone\u001b[39;00m\n\u001b[0;32m     63\u001b[0m \u001b[38;5;28;01mtry\u001b[39;00m:\n\u001b[1;32m---> 64\u001b[0m   \u001b[38;5;28;01mreturn\u001b[39;00m \u001b[43mfn\u001b[49m\u001b[43m(\u001b[49m\u001b[38;5;241;43m*\u001b[39;49m\u001b[43margs\u001b[49m\u001b[43m,\u001b[49m\u001b[43m \u001b[49m\u001b[38;5;241;43m*\u001b[39;49m\u001b[38;5;241;43m*\u001b[39;49m\u001b[43mkwargs\u001b[49m\u001b[43m)\u001b[49m\n\u001b[0;32m     65\u001b[0m \u001b[38;5;28;01mexcept\u001b[39;00m \u001b[38;5;167;01mException\u001b[39;00m \u001b[38;5;28;01mas\u001b[39;00m e:  \u001b[38;5;66;03m# pylint: disable=broad-except\u001b[39;00m\n\u001b[0;32m     66\u001b[0m   filtered_tb \u001b[38;5;241m=\u001b[39m _process_traceback_frames(e\u001b[38;5;241m.\u001b[39m__traceback__)\n",
      "\u001b[1;31mKeyboardInterrupt\u001b[0m: "
     ]
    }
   ],
   "source": [
    "nf.run_pricing_simulation()"
   ]
  },
  {
   "cell_type": "code",
   "execution_count": 260,
   "id": "56fa0c36-a7be-4692-8471-e3d26f0a02ca",
   "metadata": {},
   "outputs": [],
   "source": [
    "for s in S:\n",
    "    V[s] = nf.nnets[0].predict(np.array(s).reshape(-1,1))"
   ]
  },
  {
   "cell_type": "code",
   "execution_count": 261,
   "id": "3de444d5-c5ce-460e-a0ca-3d5002d6594f",
   "metadata": {},
   "outputs": [
    {
     "data": {
      "text/plain": [
       "[<matplotlib.lines.Line2D at 0x2be8ff51a90>]"
      ]
     },
     "execution_count": 261,
     "metadata": {},
     "output_type": "execute_result"
    },
    {
     "data": {
      "image/png": "[encoded data removed]",
      "text/plain": [
       "<Figure size 432x288 with 1 Axes>"
      ]
     },
     "metadata": {
      "needs_background": "light"
     },
     "output_type": "display_data"
    }
   ],
   "source": [
    "plt.plot(S,V)"
   ]
  },
  {
   "cell_type": "code",
   "execution_count": 211,
   "id": "5d4967bf-f469-4803-aab7-d03127390a89",
   "metadata": {},
   "outputs": [],
   "source": [
    "for s in S:\n",
    "    V[s] = nf.nnets[1].predict(np.array(s).reshape(-1,1))"
   ]
  },
  {
   "cell_type": "code",
   "execution_count": 212,
   "id": "7b6f9b77-1b59-4ff5-b75c-3ebeedd5c28c",
   "metadata": {},
   "outputs": [
    {
     "data": {
      "text/plain": [
       "[<matplotlib.lines.Line2D at 0x2be89e1f3a0>]"
      ]
     },
     "execution_count": 212,
     "metadata": {},
     "output_type": "execute_result"
    },
    {
     "data": {
      "image/png": "[encoded data removed]",
      "text/plain": [
       "<Figure size 432x288 with 1 Axes>"
      ]
     },
     "metadata": {
      "needs_background": "light"
     },
     "output_type": "display_data"
    }
   ],
   "source": [
    "plt.plot(S,V)"
   ]
  },
  {
   "cell_type": "code",
   "execution_count": 150,
   "id": "5f2d1bf3-3171-4e64-9b2a-c46453e75038",
   "metadata": {},
   "outputs": [],
   "source": [
    "inner_weights = nf.nnets[0].layers[0].get_weights()[0]\n",
    "strikes = nf.nnets[0].layers[0].get_weights()[1]"
   ]
  },
  {
   "cell_type": "code",
   "execution_count": 151,
   "id": "8a1e5019-c114-4cc8-9d59-1075e8e8e9ce",
   "metadata": {},
   "outputs": [
    {
     "data": {
      "text/plain": [
       "array([  0.        ,   0.        ,  -0.09036612, -11.239232  ,\n",
       "        13.6291065 ,  10.585274  ,   0.        ,   0.        ,\n",
       "         0.        ,   0.        ], dtype=float32)"
      ]
     },
     "execution_count": 151,
     "metadata": {},
     "output_type": "execute_result"
    }
   ],
   "source": [
    "strikes"
   ]
  },
  {
   "cell_type": "code",
   "execution_count": 152,
   "id": "941e8b28-e978-4969-aaba-10d60e6bbfa0",
   "metadata": {},
   "outputs": [
    {
     "data": {
      "text/plain": [
       "array([[-0.46909952, -0.30710685, -0.0643453 ,  0.25358894, -0.14093241,\n",
       "        -0.10899258, -0.45356843, -0.42138857, -0.4258882 , -0.31847745]],\n",
       "      dtype=float32)"
      ]
     },
     "execution_count": 152,
     "metadata": {},
     "output_type": "execute_result"
    }
   ],
   "source": [
    "inner_weights"
   ]
  }
 ],
 "metadata": {
  "kernelspec": {
   "display_name": "Python 3 (ipykernel)",
   "language": "python",
   "name": "python3"
  },
  "language_info": {
   "codemirror_mode": {
    "name": "ipython",
    "version": 3
   },
   "file_extension": ".py",
   "mimetype": "text/x-python",
   "name": "python",
   "nbconvert_exporter": "python",
   "pygments_lexer": "ipython3",
   "version": "3.8.0"
  }
 },
 "nbformat": 4,
 "nbformat_minor": 5
}
