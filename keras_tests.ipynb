{
 "cells": [
  {
   "cell_type": "code",
   "execution_count": 1,
   "id": "bee7ac06-94f0-4402-b9b6-a49147ec5378",
   "metadata": {},
   "outputs": [],
   "source": [
    "import tensorflow as tf\n",
    "from tensorflow.keras import Sequential\n",
    "from tensorflow import keras "
   ]
  },
  {
   "cell_type": "code",
   "execution_count": 2,
   "id": "fc3d150c-a591-426e-89af-1a3ad4f2dd24",
   "metadata": {},
   "outputs": [
    {
     "name": "stdout",
     "output_type": "stream",
     "text": [
      "Model: \"sequential\"\n",
      "_________________________________________________________________\n",
      " Layer (type)                Output Shape              Param #   \n",
      "=================================================================\n",
      " conv2d (Conv2D)             (None, 32, 32, 6)         456       \n",
      "                                                                 \n",
      " max_pooling2d (MaxPooling2D  (None, 16, 16, 6)        0         \n",
      " )                                                               \n",
      "                                                                 \n",
      " conv2d_1 (Conv2D)           (None, 16, 16, 16)        2416      \n",
      "                                                                 \n",
      " max_pooling2d_1 (MaxPooling  (None, 8, 8, 16)         0         \n",
      " 2D)                                                             \n",
      "                                                                 \n",
      " conv2d_2 (Conv2D)           (None, 8, 8, 120)         48120     \n",
      "                                                                 \n",
      " flatten (Flatten)           (None, 7680)              0         \n",
      "                                                                 \n",
      " dense (Dense)               (None, 84)                645204    \n",
      "                                                                 \n",
      " dense_1 (Dense)             (None, 10)                850       \n",
      "                                                                 \n",
      "=================================================================\n",
      "Total params: 697,046\n",
      "Trainable params: 697,046\n",
      "Non-trainable params: 0\n",
      "_________________________________________________________________\n",
      "None\n"
     ]
    }
   ],
   "source": [
    "from tensorflow.keras.layers import Dense, Input, Flatten, Conv2D, MaxPool2D\n",
    " \n",
    "model = Sequential([\n",
    "          Input(shape=(32,32,3,)),\n",
    "          Conv2D(filters=6, kernel_size=(5,5), padding=\"same\", activation=\"relu\"),\n",
    "          MaxPool2D(pool_size=(2,2)),\n",
    "          Conv2D(filters=16, kernel_size=(5,5), padding=\"same\", activation=\"relu\"),\n",
    "          MaxPool2D(pool_size=(2, 2)),\n",
    "          Conv2D(filters=120, kernel_size=(5,5), padding=\"same\", activation=\"relu\"),\n",
    "          Flatten(),\n",
    "          Dense(units=84, activation=\"relu\"),\n",
    "          Dense(units=10, activation=\"softmax\"),\n",
    "      ])\n",
    " \n",
    "print (model.summary())"
   ]
  },
  {
   "cell_type": "code",
   "execution_count": 3,
   "id": "2a2f694f-3cf6-47dc-8175-bf12c239e345",
   "metadata": {},
   "outputs": [],
   "source": [
    "(trainX, trainY), (testX, testY) = keras.datasets.cifar10.load_data()"
   ]
  },
  {
   "cell_type": "code",
   "execution_count": 5,
   "id": "ca8e52f7-e804-4175-bd83-e52a3d17fc3f",
   "metadata": {},
   "outputs": [
    {
     "data": {
      "text/plain": [
       "(50000, 32, 32, 3)"
      ]
     },
     "execution_count": 5,
     "metadata": {},
     "output_type": "execute_result"
    }
   ],
   "source": [
    "trainX.shape"
   ]
  },
  {
   "cell_type": "code",
   "execution_count": null,
   "id": "b30da452-b29a-411f-9f1c-3da128c2fd25",
   "metadata": {},
   "outputs": [
    {
     "name": "stdout",
     "output_type": "stream",
     "text": [
      "Epoch 1/10\n"
     ]
    }
   ],
   "source": [
    "\n",
    " \n",
    "(trainX, trainY), (testX, testY) = keras.datasets.cifar10.load_data()\n",
    "model.compile(optimizer=\"adam\", loss=tf.keras.losses.SparseCategoricalCrossentropy(), metrics=\"acc\")\n",
    " \n",
    "history = model.fit(x=trainX, y=trainY, batch_size=256, epochs=10, validation_data=(testX, testY))"
   ]
  }
 ],
 "metadata": {
  "kernelspec": {
   "display_name": "Python 3 (ipykernel)",
   "language": "python",
   "name": "python3"
  },
  "language_info": {
   "codemirror_mode": {
    "name": "ipython",
    "version": 3
   },
   "file_extension": ".py",
   "mimetype": "text/x-python",
   "name": "python",
   "nbconvert_exporter": "python",
   "pygments_lexer": "ipython3",
   "version": "3.8.0"
  }
 },
 "nbformat": 4,
 "nbformat_minor": 5
}
